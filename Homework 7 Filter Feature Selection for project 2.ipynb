{
 "cells": [
  {
   "cell_type": "code",
   "execution_count": 2,
   "id": "employed-pantyhose",
   "metadata": {
    "ExecuteTime": {
     "end_time": "2021-03-18T04:43:46.482600Z",
     "start_time": "2021-03-18T04:43:41.599632Z"
    }
   },
   "outputs": [],
   "source": [
    "import pandas as pd\n",
    "\n",
    "data = pd.read_csv('applications data.csv')"
   ]
  },
  {
   "cell_type": "code",
   "execution_count": 3,
   "id": "great-lesbian",
   "metadata": {
    "ExecuteTime": {
     "end_time": "2021-03-18T04:43:46.509592Z",
     "start_time": "2021-03-18T04:43:46.485289Z"
    }
   },
   "outputs": [
    {
     "data": {
      "text/html": [
       "<div>\n",
       "<style scoped>\n",
       "    .dataframe tbody tr th:only-of-type {\n",
       "        vertical-align: middle;\n",
       "    }\n",
       "\n",
       "    .dataframe tbody tr th {\n",
       "        vertical-align: top;\n",
       "    }\n",
       "\n",
       "    .dataframe thead th {\n",
       "        text-align: right;\n",
       "    }\n",
       "</style>\n",
       "<table border=\"1\" class=\"dataframe\">\n",
       "  <thead>\n",
       "    <tr style=\"text-align: right;\">\n",
       "      <th></th>\n",
       "      <th>record</th>\n",
       "      <th>date</th>\n",
       "      <th>ssn</th>\n",
       "      <th>firstname</th>\n",
       "      <th>lastname</th>\n",
       "      <th>address</th>\n",
       "      <th>zip5</th>\n",
       "      <th>dob</th>\n",
       "      <th>homephone</th>\n",
       "      <th>fraud_label</th>\n",
       "    </tr>\n",
       "  </thead>\n",
       "  <tbody>\n",
       "    <tr>\n",
       "      <th>0</th>\n",
       "      <td>1</td>\n",
       "      <td>20160101</td>\n",
       "      <td>379070012</td>\n",
       "      <td>XRRAMMTR</td>\n",
       "      <td>SMJETJMJ</td>\n",
       "      <td>6861 EUTST PL</td>\n",
       "      <td>2765</td>\n",
       "      <td>19070626</td>\n",
       "      <td>1797504115</td>\n",
       "      <td>0</td>\n",
       "    </tr>\n",
       "    <tr>\n",
       "      <th>1</th>\n",
       "      <td>2</td>\n",
       "      <td>20160101</td>\n",
       "      <td>387482503</td>\n",
       "      <td>MAMSTUJR</td>\n",
       "      <td>RTTEMRRR</td>\n",
       "      <td>7280 URASA PL</td>\n",
       "      <td>57169</td>\n",
       "      <td>19340615</td>\n",
       "      <td>4164239415</td>\n",
       "      <td>1</td>\n",
       "    </tr>\n",
       "    <tr>\n",
       "      <th>2</th>\n",
       "      <td>3</td>\n",
       "      <td>20160101</td>\n",
       "      <td>200332444</td>\n",
       "      <td>SZMMUJEZS</td>\n",
       "      <td>EUSEZRAE</td>\n",
       "      <td>5581 RSREX LN</td>\n",
       "      <td>56721</td>\n",
       "      <td>19070626</td>\n",
       "      <td>216537580</td>\n",
       "      <td>0</td>\n",
       "    </tr>\n",
       "    <tr>\n",
       "      <th>3</th>\n",
       "      <td>4</td>\n",
       "      <td>20160101</td>\n",
       "      <td>747451317</td>\n",
       "      <td>SJJZSXRSZ</td>\n",
       "      <td>ETJXTXXS</td>\n",
       "      <td>1387 UJZXJ RD</td>\n",
       "      <td>35286</td>\n",
       "      <td>19440430</td>\n",
       "      <td>132144161</td>\n",
       "      <td>0</td>\n",
       "    </tr>\n",
       "    <tr>\n",
       "      <th>4</th>\n",
       "      <td>5</td>\n",
       "      <td>20160101</td>\n",
       "      <td>24065868</td>\n",
       "      <td>SSSXUEJMS</td>\n",
       "      <td>SSUUJXUZ</td>\n",
       "      <td>279 EAASA WY</td>\n",
       "      <td>3173</td>\n",
       "      <td>19980315</td>\n",
       "      <td>6101082272</td>\n",
       "      <td>0</td>\n",
       "    </tr>\n",
       "  </tbody>\n",
       "</table>\n",
       "</div>"
      ],
      "text/plain": [
       "   record      date        ssn  firstname  lastname        address   zip5  \\\n",
       "0       1  20160101  379070012   XRRAMMTR  SMJETJMJ  6861 EUTST PL   2765   \n",
       "1       2  20160101  387482503   MAMSTUJR  RTTEMRRR  7280 URASA PL  57169   \n",
       "2       3  20160101  200332444  SZMMUJEZS  EUSEZRAE  5581 RSREX LN  56721   \n",
       "3       4  20160101  747451317  SJJZSXRSZ  ETJXTXXS  1387 UJZXJ RD  35286   \n",
       "4       5  20160101   24065868  SSSXUEJMS  SSUUJXUZ   279 EAASA WY   3173   \n",
       "\n",
       "        dob   homephone  fraud_label  \n",
       "0  19070626  1797504115            0  \n",
       "1  19340615  4164239415            1  \n",
       "2  19070626   216537580            0  \n",
       "3  19440430   132144161            0  \n",
       "4  19980315  6101082272            0  "
      ]
     },
     "execution_count": 3,
     "metadata": {},
     "output_type": "execute_result"
    }
   ],
   "source": [
    "data.head()"
   ]
  },
  {
   "cell_type": "code",
   "execution_count": 4,
   "id": "rational-right",
   "metadata": {
    "ExecuteTime": {
     "end_time": "2021-03-18T04:43:46.515652Z",
     "start_time": "2021-03-18T04:43:46.512799Z"
    }
   },
   "outputs": [],
   "source": [
    "df = data"
   ]
  },
  {
   "cell_type": "code",
   "execution_count": 5,
   "id": "stuck-national",
   "metadata": {
    "ExecuteTime": {
     "end_time": "2021-03-18T04:43:49.149947Z",
     "start_time": "2021-03-18T04:43:46.518530Z"
    }
   },
   "outputs": [],
   "source": [
    "df['date'] = pd.to_datetime(df.date.astype(str).apply(lambda x:x[:4]+ '-'+x[4:6]+'-'+x[6:]))\n",
    "df['zip5'] = df['zip5'].apply(lambda x: '{0:0>5}'.format(x))"
   ]
  },
  {
   "cell_type": "code",
   "execution_count": 6,
   "id": "alpha-idaho",
   "metadata": {
    "ExecuteTime": {
     "end_time": "2021-03-18T04:43:49.311381Z",
     "start_time": "2021-03-18T04:43:49.152242Z"
    }
   },
   "outputs": [],
   "source": [
    "df.loc[df.ssn == 999999999, 'ssn'] = -df[df.ssn==999999999]['record']"
   ]
  },
  {
   "cell_type": "code",
   "execution_count": 7,
   "id": "intense-export",
   "metadata": {
    "ExecuteTime": {
     "end_time": "2021-03-18T04:43:50.003880Z",
     "start_time": "2021-03-18T04:43:49.315119Z"
    }
   },
   "outputs": [],
   "source": [
    "df['ssn'] = df['ssn'].apply(lambda x: '{0:0>9}'.format(x))"
   ]
  },
  {
   "cell_type": "code",
   "execution_count": 8,
   "id": "hired-fraud",
   "metadata": {
    "ExecuteTime": {
     "end_time": "2021-03-18T04:43:50.185564Z",
     "start_time": "2021-03-18T04:43:50.006018Z"
    }
   },
   "outputs": [],
   "source": [
    "df.loc[df.address == '123 MAIN ST', 'address'] = \\\n",
    "    df.loc[df.address == '123 MAIN ST', 'record'].apply(lambda x: str(x) + 'RECORD')"
   ]
  },
  {
   "cell_type": "code",
   "execution_count": 9,
   "id": "amateur-satisfaction",
   "metadata": {
    "ExecuteTime": {
     "end_time": "2021-03-18T04:43:51.067367Z",
     "start_time": "2021-03-18T04:43:50.190820Z"
    }
   },
   "outputs": [],
   "source": [
    "df.loc[df.dob == 19070626, 'dob'] = -df.loc[df.dob == 19070626]['record']\n",
    "df['dob'] = df['dob'].apply(lambda x: '{0:0>8}'.format(x))"
   ]
  },
  {
   "cell_type": "code",
   "execution_count": 10,
   "id": "completed-timeline",
   "metadata": {
    "ExecuteTime": {
     "end_time": "2021-03-18T04:43:52.198853Z",
     "start_time": "2021-03-18T04:43:51.069973Z"
    }
   },
   "outputs": [],
   "source": [
    "df.loc[df.homephone == 9999999999, 'homephone'] = -df.loc[df.homephone == 9999999999]['record']\n",
    "df['homephone'] = df['homephone'].apply(lambda x: '{0:0>10}'.format(x))"
   ]
  },
  {
   "cell_type": "code",
   "execution_count": 11,
   "id": "communist-democracy",
   "metadata": {
    "ExecuteTime": {
     "end_time": "2021-03-18T04:43:52.206703Z",
     "start_time": "2021-03-18T04:43:52.201132Z"
    }
   },
   "outputs": [
    {
     "data": {
      "text/plain": [
       "Index(['record', 'date', 'ssn', 'firstname', 'lastname', 'address', 'zip5',\n",
       "       'dob', 'homephone', 'fraud_label'],\n",
       "      dtype='object')"
      ]
     },
     "execution_count": 11,
     "metadata": {},
     "output_type": "execute_result"
    }
   ],
   "source": [
    "df.columns"
   ]
  },
  {
   "cell_type": "code",
   "execution_count": 12,
   "id": "synthetic-links",
   "metadata": {
    "ExecuteTime": {
     "end_time": "2021-03-18T04:44:00.387283Z",
     "start_time": "2021-03-18T04:43:52.209057Z"
    }
   },
   "outputs": [],
   "source": [
    "df['name'] = df.firstname + df.lastname\n",
    "df['fulladdress'] = df.address + df.zip5\n",
    "df['namedob'] = df.name + df.dob\n",
    "\n",
    "# Combinations among namedob, fulladdress, homephone, and ssn.\n",
    "df['namedob_fulladdress'] = df.namedob + df.fulladdress\n",
    "df['namedob_homephone'] = df.namedob + df.homephone\n",
    "df['namedob_ssn'] = df.namedob + df.ssn\n",
    "\n",
    "df['fulladdress_homephone'] = df.fulladdress + df.homephone\n",
    "df['fulladdress_ssn'] = df.fulladdress + df.ssn\n",
    "\n",
    "df['homephone_ssn'] = df.homephone + df.ssn\n",
    "\n",
    "# Combination groups of 2 + 1\n",
    "df['namedob_fulladdress_homephone'] = df.namedob + df.fulladdress+df.homephone \n",
    "df['namedob_fulladdress_ssn'] = df.namedob + df.fulladdress + df.ssn\n",
    "\n",
    "df['namedob_homephone_ssn'] = df.namedob + df.homephone + df.ssn\n",
    "df['fulladdress_homephone_ssn'] = df.fulladdress + df.homephone + df.ssn\n",
    "\n",
    "# All 4 variables concatenated.\n",
    "df['namedob_fulladdress_homephone_ssn'] = df.namedob + df.fulladdress + df.homephone + df.ssn\n",
    "\n",
    "# Break up last/firstname and combine with entities \n",
    "#that does not include namedob.\n",
    "\n",
    "df['firstname_fulladdress_homephone'] = df.firstname + df.fulladdress + df.homephone\n",
    "df['firstname_fulladdress_ssn'] = df.firstname + df.fulladdress + df.ssn\n",
    "df['firstname_homephone_ssn'] = df.firstname + df.homephone + df.ssn\n",
    "df['firstname_fulladdress_homephone_ssn'] = df.firstname + df.fulladdress + df.homephone + df.ssn\n",
    "\n",
    "df['lastname_fulladdress_homephone'] = df.lastname + df.fulladdress + df.homephone\n",
    "df['lastname_fulladdress_ssn'] = df.lastname + df.fulladdress + df.ssn\n",
    "df['lastname_homephone_ssn'] = df.lastname + df.homephone + df.ssn\n",
    "df['lastname_fulladdress_homephone_ssn'] = df.lastname + df.fulladdress + df.homephone + df.ssn\n",
    "\n",
    "# add zip5 to entities that does not include fulladdress\n",
    "\n",
    "df['zip_namedob_homephone'] = df.zip5 + df.namedob + df.homephone\n",
    "df['zip_namedob_ssn'] = df.zip5 + df.namedob + df.ssn\n",
    "df['zip_homephone_ssn'] = df.zip5 + df.homephone + df.ssn\n",
    "df['zip_namedob_homephone_ssn'] = df.zip5 + df.namedob + df.homephone + df.ssn"
   ]
  },
  {
   "cell_type": "code",
   "execution_count": 13,
   "id": "bored-certification",
   "metadata": {
    "ExecuteTime": {
     "end_time": "2021-03-18T04:44:00.395828Z",
     "start_time": "2021-03-18T04:44:00.390150Z"
    }
   },
   "outputs": [
    {
     "data": {
      "text/plain": [
       "Index(['record', 'date', 'ssn', 'firstname', 'lastname', 'address', 'zip5',\n",
       "       'dob', 'homephone', 'fraud_label', 'name', 'fulladdress', 'namedob',\n",
       "       'namedob_fulladdress', 'namedob_homephone', 'namedob_ssn',\n",
       "       'fulladdress_homephone', 'fulladdress_ssn', 'homephone_ssn',\n",
       "       'namedob_fulladdress_homephone', 'namedob_fulladdress_ssn',\n",
       "       'namedob_homephone_ssn', 'fulladdress_homephone_ssn',\n",
       "       'namedob_fulladdress_homephone_ssn', 'firstname_fulladdress_homephone',\n",
       "       'firstname_fulladdress_ssn', 'firstname_homephone_ssn',\n",
       "       'firstname_fulladdress_homephone_ssn', 'lastname_fulladdress_homephone',\n",
       "       'lastname_fulladdress_ssn', 'lastname_homephone_ssn',\n",
       "       'lastname_fulladdress_homephone_ssn', 'zip_namedob_homephone',\n",
       "       'zip_namedob_ssn', 'zip_homephone_ssn', 'zip_namedob_homephone_ssn'],\n",
       "      dtype='object')"
      ]
     },
     "execution_count": 13,
     "metadata": {},
     "output_type": "execute_result"
    }
   ],
   "source": [
    "df.columns"
   ]
  },
  {
   "cell_type": "code",
   "execution_count": 14,
   "id": "mineral-helicopter",
   "metadata": {
    "ExecuteTime": {
     "end_time": "2021-03-18T04:44:00.440079Z",
     "start_time": "2021-03-18T04:44:00.398546Z"
    },
    "scrolled": false
   },
   "outputs": [
    {
     "data": {
      "text/html": [
       "<div>\n",
       "<style scoped>\n",
       "    .dataframe tbody tr th:only-of-type {\n",
       "        vertical-align: middle;\n",
       "    }\n",
       "\n",
       "    .dataframe tbody tr th {\n",
       "        vertical-align: top;\n",
       "    }\n",
       "\n",
       "    .dataframe thead th {\n",
       "        text-align: right;\n",
       "    }\n",
       "</style>\n",
       "<table border=\"1\" class=\"dataframe\">\n",
       "  <thead>\n",
       "    <tr style=\"text-align: right;\">\n",
       "      <th></th>\n",
       "      <th>record</th>\n",
       "      <th>date</th>\n",
       "      <th>ssn</th>\n",
       "      <th>firstname</th>\n",
       "      <th>lastname</th>\n",
       "      <th>address</th>\n",
       "      <th>zip5</th>\n",
       "      <th>dob</th>\n",
       "      <th>homephone</th>\n",
       "      <th>fraud_label</th>\n",
       "      <th>...</th>\n",
       "      <th>firstname_homephone_ssn</th>\n",
       "      <th>firstname_fulladdress_homephone_ssn</th>\n",
       "      <th>lastname_fulladdress_homephone</th>\n",
       "      <th>lastname_fulladdress_ssn</th>\n",
       "      <th>lastname_homephone_ssn</th>\n",
       "      <th>lastname_fulladdress_homephone_ssn</th>\n",
       "      <th>zip_namedob_homephone</th>\n",
       "      <th>zip_namedob_ssn</th>\n",
       "      <th>zip_homephone_ssn</th>\n",
       "      <th>zip_namedob_homephone_ssn</th>\n",
       "    </tr>\n",
       "  </thead>\n",
       "  <tbody>\n",
       "    <tr>\n",
       "      <th>0</th>\n",
       "      <td>1</td>\n",
       "      <td>2016-01-01</td>\n",
       "      <td>379070012</td>\n",
       "      <td>XRRAMMTR</td>\n",
       "      <td>SMJETJMJ</td>\n",
       "      <td>6861 EUTST PL</td>\n",
       "      <td>02765</td>\n",
       "      <td>000000-1</td>\n",
       "      <td>1797504115</td>\n",
       "      <td>0</td>\n",
       "      <td>...</td>\n",
       "      <td>XRRAMMTR1797504115379070012</td>\n",
       "      <td>XRRAMMTR6861 EUTST PL027651797504115379070012</td>\n",
       "      <td>SMJETJMJ6861 EUTST PL027651797504115</td>\n",
       "      <td>SMJETJMJ6861 EUTST PL02765379070012</td>\n",
       "      <td>SMJETJMJ1797504115379070012</td>\n",
       "      <td>SMJETJMJ6861 EUTST PL027651797504115379070012</td>\n",
       "      <td>02765XRRAMMTRSMJETJMJ000000-11797504115</td>\n",
       "      <td>02765XRRAMMTRSMJETJMJ000000-1379070012</td>\n",
       "      <td>027651797504115379070012</td>\n",
       "      <td>02765XRRAMMTRSMJETJMJ000000-11797504115379070012</td>\n",
       "    </tr>\n",
       "    <tr>\n",
       "      <th>1</th>\n",
       "      <td>2</td>\n",
       "      <td>2016-01-01</td>\n",
       "      <td>387482503</td>\n",
       "      <td>MAMSTUJR</td>\n",
       "      <td>RTTEMRRR</td>\n",
       "      <td>7280 URASA PL</td>\n",
       "      <td>57169</td>\n",
       "      <td>19340615</td>\n",
       "      <td>4164239415</td>\n",
       "      <td>1</td>\n",
       "      <td>...</td>\n",
       "      <td>MAMSTUJR4164239415387482503</td>\n",
       "      <td>MAMSTUJR7280 URASA PL571694164239415387482503</td>\n",
       "      <td>RTTEMRRR7280 URASA PL571694164239415</td>\n",
       "      <td>RTTEMRRR7280 URASA PL57169387482503</td>\n",
       "      <td>RTTEMRRR4164239415387482503</td>\n",
       "      <td>RTTEMRRR7280 URASA PL571694164239415387482503</td>\n",
       "      <td>57169MAMSTUJRRTTEMRRR193406154164239415</td>\n",
       "      <td>57169MAMSTUJRRTTEMRRR19340615387482503</td>\n",
       "      <td>571694164239415387482503</td>\n",
       "      <td>57169MAMSTUJRRTTEMRRR193406154164239415387482503</td>\n",
       "    </tr>\n",
       "    <tr>\n",
       "      <th>2</th>\n",
       "      <td>3</td>\n",
       "      <td>2016-01-01</td>\n",
       "      <td>200332444</td>\n",
       "      <td>SZMMUJEZS</td>\n",
       "      <td>EUSEZRAE</td>\n",
       "      <td>5581 RSREX LN</td>\n",
       "      <td>56721</td>\n",
       "      <td>000000-3</td>\n",
       "      <td>0216537580</td>\n",
       "      <td>0</td>\n",
       "      <td>...</td>\n",
       "      <td>SZMMUJEZS0216537580200332444</td>\n",
       "      <td>SZMMUJEZS5581 RSREX LN567210216537580200332444</td>\n",
       "      <td>EUSEZRAE5581 RSREX LN567210216537580</td>\n",
       "      <td>EUSEZRAE5581 RSREX LN56721200332444</td>\n",
       "      <td>EUSEZRAE0216537580200332444</td>\n",
       "      <td>EUSEZRAE5581 RSREX LN567210216537580200332444</td>\n",
       "      <td>56721SZMMUJEZSEUSEZRAE000000-30216537580</td>\n",
       "      <td>56721SZMMUJEZSEUSEZRAE000000-3200332444</td>\n",
       "      <td>567210216537580200332444</td>\n",
       "      <td>56721SZMMUJEZSEUSEZRAE000000-30216537580200332444</td>\n",
       "    </tr>\n",
       "    <tr>\n",
       "      <th>3</th>\n",
       "      <td>4</td>\n",
       "      <td>2016-01-01</td>\n",
       "      <td>747451317</td>\n",
       "      <td>SJJZSXRSZ</td>\n",
       "      <td>ETJXTXXS</td>\n",
       "      <td>1387 UJZXJ RD</td>\n",
       "      <td>35286</td>\n",
       "      <td>19440430</td>\n",
       "      <td>0132144161</td>\n",
       "      <td>0</td>\n",
       "      <td>...</td>\n",
       "      <td>SJJZSXRSZ0132144161747451317</td>\n",
       "      <td>SJJZSXRSZ1387 UJZXJ RD352860132144161747451317</td>\n",
       "      <td>ETJXTXXS1387 UJZXJ RD352860132144161</td>\n",
       "      <td>ETJXTXXS1387 UJZXJ RD35286747451317</td>\n",
       "      <td>ETJXTXXS0132144161747451317</td>\n",
       "      <td>ETJXTXXS1387 UJZXJ RD352860132144161747451317</td>\n",
       "      <td>35286SJJZSXRSZETJXTXXS194404300132144161</td>\n",
       "      <td>35286SJJZSXRSZETJXTXXS19440430747451317</td>\n",
       "      <td>352860132144161747451317</td>\n",
       "      <td>35286SJJZSXRSZETJXTXXS194404300132144161747451317</td>\n",
       "    </tr>\n",
       "    <tr>\n",
       "      <th>4</th>\n",
       "      <td>5</td>\n",
       "      <td>2016-01-01</td>\n",
       "      <td>024065868</td>\n",
       "      <td>SSSXUEJMS</td>\n",
       "      <td>SSUUJXUZ</td>\n",
       "      <td>279 EAASA WY</td>\n",
       "      <td>03173</td>\n",
       "      <td>19980315</td>\n",
       "      <td>6101082272</td>\n",
       "      <td>0</td>\n",
       "      <td>...</td>\n",
       "      <td>SSSXUEJMS6101082272024065868</td>\n",
       "      <td>SSSXUEJMS279 EAASA WY031736101082272024065868</td>\n",
       "      <td>SSUUJXUZ279 EAASA WY031736101082272</td>\n",
       "      <td>SSUUJXUZ279 EAASA WY03173024065868</td>\n",
       "      <td>SSUUJXUZ6101082272024065868</td>\n",
       "      <td>SSUUJXUZ279 EAASA WY031736101082272024065868</td>\n",
       "      <td>03173SSSXUEJMSSSUUJXUZ199803156101082272</td>\n",
       "      <td>03173SSSXUEJMSSSUUJXUZ19980315024065868</td>\n",
       "      <td>031736101082272024065868</td>\n",
       "      <td>03173SSSXUEJMSSSUUJXUZ199803156101082272024065868</td>\n",
       "    </tr>\n",
       "  </tbody>\n",
       "</table>\n",
       "<p>5 rows × 36 columns</p>\n",
       "</div>"
      ],
      "text/plain": [
       "   record       date        ssn  firstname  lastname        address   zip5  \\\n",
       "0       1 2016-01-01  379070012   XRRAMMTR  SMJETJMJ  6861 EUTST PL  02765   \n",
       "1       2 2016-01-01  387482503   MAMSTUJR  RTTEMRRR  7280 URASA PL  57169   \n",
       "2       3 2016-01-01  200332444  SZMMUJEZS  EUSEZRAE  5581 RSREX LN  56721   \n",
       "3       4 2016-01-01  747451317  SJJZSXRSZ  ETJXTXXS  1387 UJZXJ RD  35286   \n",
       "4       5 2016-01-01  024065868  SSSXUEJMS  SSUUJXUZ   279 EAASA WY  03173   \n",
       "\n",
       "        dob   homephone  fraud_label  ...       firstname_homephone_ssn  \\\n",
       "0  000000-1  1797504115            0  ...   XRRAMMTR1797504115379070012   \n",
       "1  19340615  4164239415            1  ...   MAMSTUJR4164239415387482503   \n",
       "2  000000-3  0216537580            0  ...  SZMMUJEZS0216537580200332444   \n",
       "3  19440430  0132144161            0  ...  SJJZSXRSZ0132144161747451317   \n",
       "4  19980315  6101082272            0  ...  SSSXUEJMS6101082272024065868   \n",
       "\n",
       "              firstname_fulladdress_homephone_ssn  \\\n",
       "0   XRRAMMTR6861 EUTST PL027651797504115379070012   \n",
       "1   MAMSTUJR7280 URASA PL571694164239415387482503   \n",
       "2  SZMMUJEZS5581 RSREX LN567210216537580200332444   \n",
       "3  SJJZSXRSZ1387 UJZXJ RD352860132144161747451317   \n",
       "4   SSSXUEJMS279 EAASA WY031736101082272024065868   \n",
       "\n",
       "         lastname_fulladdress_homephone             lastname_fulladdress_ssn  \\\n",
       "0  SMJETJMJ6861 EUTST PL027651797504115  SMJETJMJ6861 EUTST PL02765379070012   \n",
       "1  RTTEMRRR7280 URASA PL571694164239415  RTTEMRRR7280 URASA PL57169387482503   \n",
       "2  EUSEZRAE5581 RSREX LN567210216537580  EUSEZRAE5581 RSREX LN56721200332444   \n",
       "3  ETJXTXXS1387 UJZXJ RD352860132144161  ETJXTXXS1387 UJZXJ RD35286747451317   \n",
       "4   SSUUJXUZ279 EAASA WY031736101082272   SSUUJXUZ279 EAASA WY03173024065868   \n",
       "\n",
       "        lastname_homephone_ssn             lastname_fulladdress_homephone_ssn  \\\n",
       "0  SMJETJMJ1797504115379070012  SMJETJMJ6861 EUTST PL027651797504115379070012   \n",
       "1  RTTEMRRR4164239415387482503  RTTEMRRR7280 URASA PL571694164239415387482503   \n",
       "2  EUSEZRAE0216537580200332444  EUSEZRAE5581 RSREX LN567210216537580200332444   \n",
       "3  ETJXTXXS0132144161747451317  ETJXTXXS1387 UJZXJ RD352860132144161747451317   \n",
       "4  SSUUJXUZ6101082272024065868   SSUUJXUZ279 EAASA WY031736101082272024065868   \n",
       "\n",
       "                      zip_namedob_homephone  \\\n",
       "0   02765XRRAMMTRSMJETJMJ000000-11797504115   \n",
       "1   57169MAMSTUJRRTTEMRRR193406154164239415   \n",
       "2  56721SZMMUJEZSEUSEZRAE000000-30216537580   \n",
       "3  35286SJJZSXRSZETJXTXXS194404300132144161   \n",
       "4  03173SSSXUEJMSSSUUJXUZ199803156101082272   \n",
       "\n",
       "                           zip_namedob_ssn         zip_homephone_ssn  \\\n",
       "0   02765XRRAMMTRSMJETJMJ000000-1379070012  027651797504115379070012   \n",
       "1   57169MAMSTUJRRTTEMRRR19340615387482503  571694164239415387482503   \n",
       "2  56721SZMMUJEZSEUSEZRAE000000-3200332444  567210216537580200332444   \n",
       "3  35286SJJZSXRSZETJXTXXS19440430747451317  352860132144161747451317   \n",
       "4  03173SSSXUEJMSSSUUJXUZ19980315024065868  031736101082272024065868   \n",
       "\n",
       "                           zip_namedob_homephone_ssn  \n",
       "0   02765XRRAMMTRSMJETJMJ000000-11797504115379070012  \n",
       "1   57169MAMSTUJRRTTEMRRR193406154164239415387482503  \n",
       "2  56721SZMMUJEZSEUSEZRAE000000-30216537580200332444  \n",
       "3  35286SJJZSXRSZETJXTXXS194404300132144161747451317  \n",
       "4  03173SSSXUEJMSSSUUJXUZ199803156101082272024065868  \n",
       "\n",
       "[5 rows x 36 columns]"
      ]
     },
     "execution_count": 14,
     "metadata": {},
     "output_type": "execute_result"
    }
   ],
   "source": [
    "df.head(5)"
   ]
  },
  {
   "cell_type": "code",
   "execution_count": 15,
   "id": "lovely-efficiency",
   "metadata": {
    "ExecuteTime": {
     "end_time": "2021-03-18T04:44:00.448226Z",
     "start_time": "2021-03-18T04:44:00.443200Z"
    }
   },
   "outputs": [],
   "source": [
    "import numpy as np"
   ]
  },
  {
   "cell_type": "code",
   "execution_count": 15,
   "id": "maritime-germany",
   "metadata": {
    "ExecuteTime": {
     "end_time": "2021-03-07T03:54:46.753189Z",
     "start_time": "2021-03-07T03:54:46.750079Z"
    }
   },
   "outputs": [],
   "source": [
    "#for field in list(df.iloc[:, np.r_[3:9, 12:15]].columns):\n",
    "#    df['ssn_' + field] = df.ssn + df[field]"
   ]
  },
  {
   "cell_type": "code",
   "execution_count": 16,
   "id": "impressive-train",
   "metadata": {
    "ExecuteTime": {
     "end_time": "2021-03-18T04:44:03.583092Z",
     "start_time": "2021-03-18T04:44:00.453900Z"
    }
   },
   "outputs": [],
   "source": [
    "attributes = list(df.iloc[:, np.r_[2, 5, 7, 8, 12:36]].columns)"
   ]
  },
  {
   "cell_type": "code",
   "execution_count": 17,
   "id": "detected-turning",
   "metadata": {
    "ExecuteTime": {
     "end_time": "2021-03-18T04:44:03.591128Z",
     "start_time": "2021-03-18T04:44:03.585788Z"
    },
    "scrolled": true
   },
   "outputs": [
    {
     "data": {
      "text/plain": [
       "['ssn',\n",
       " 'address',\n",
       " 'dob',\n",
       " 'homephone',\n",
       " 'namedob',\n",
       " 'namedob_fulladdress',\n",
       " 'namedob_homephone',\n",
       " 'namedob_ssn',\n",
       " 'fulladdress_homephone',\n",
       " 'fulladdress_ssn',\n",
       " 'homephone_ssn',\n",
       " 'namedob_fulladdress_homephone',\n",
       " 'namedob_fulladdress_ssn',\n",
       " 'namedob_homephone_ssn',\n",
       " 'fulladdress_homephone_ssn',\n",
       " 'namedob_fulladdress_homephone_ssn',\n",
       " 'firstname_fulladdress_homephone',\n",
       " 'firstname_fulladdress_ssn',\n",
       " 'firstname_homephone_ssn',\n",
       " 'firstname_fulladdress_homephone_ssn',\n",
       " 'lastname_fulladdress_homephone',\n",
       " 'lastname_fulladdress_ssn',\n",
       " 'lastname_homephone_ssn',\n",
       " 'lastname_fulladdress_homephone_ssn',\n",
       " 'zip_namedob_homephone',\n",
       " 'zip_namedob_ssn',\n",
       " 'zip_homephone_ssn',\n",
       " 'zip_namedob_homephone_ssn']"
      ]
     },
     "execution_count": 17,
     "metadata": {},
     "output_type": "execute_result"
    }
   ],
   "source": [
    "attributes"
   ]
  },
  {
   "cell_type": "code",
   "execution_count": 18,
   "id": "thirty-reserve",
   "metadata": {
    "ExecuteTime": {
     "end_time": "2021-03-18T04:44:17.969579Z",
     "start_time": "2021-03-18T04:44:03.595001Z"
    }
   },
   "outputs": [],
   "source": [
    "import calendar\n",
    "\n",
    "df['dow'] = df.date.apply(lambda x: calendar.day_name[x.weekday()])\n",
    "train_test = df[df.date < '2016-11-01']"
   ]
  },
  {
   "cell_type": "code",
   "execution_count": 19,
   "id": "cardiovascular-agent",
   "metadata": {
    "ExecuteTime": {
     "end_time": "2021-03-18T04:44:18.231858Z",
     "start_time": "2021-03-18T04:44:17.971743Z"
    }
   },
   "outputs": [],
   "source": [
    "c = 4; nmid = 20; y_avg = train_test['fraud_label'].mean()\n",
    "y_dow = train_test.groupby('dow')['fraud_label'].mean()\n",
    "num = train_test.groupby('dow').size()\n",
    "y_dow_smooth = y_avg + (y_dow - y_avg)/ (1+ np.exp(-(num - nmid)/c))\n",
    "df['dow_risk'] = df.dow.map(y_dow_smooth)"
   ]
  },
  {
   "cell_type": "code",
   "execution_count": 20,
   "id": "invisible-fifth",
   "metadata": {
    "ExecuteTime": {
     "end_time": "2021-03-18T04:44:19.304928Z",
     "start_time": "2021-03-18T04:44:18.234245Z"
    }
   },
   "outputs": [],
   "source": [
    "df1 = df.copy()\n",
    "\n",
    "final = df.copy()\n",
    "df1['check_date'] = df1.date\n",
    "df1['check_record'] = df1.record"
   ]
  },
  {
   "cell_type": "code",
   "execution_count": 21,
   "id": "fifty-possible",
   "metadata": {
    "ExecuteTime": {
     "end_time": "2021-03-18T04:44:25.444963Z",
     "start_time": "2021-03-18T04:44:19.311934Z"
    }
   },
   "outputs": [
    {
     "name": "stdout",
     "output_type": "stream",
     "text": [
      "Requirement already satisfied: timer in /Users/HarryWang/opt/anaconda3/lib/python3.8/site-packages (0.1.0)\n",
      "Note: you may need to restart the kernel to use updated packages.\n"
     ]
    }
   ],
   "source": [
    "pip install timer"
   ]
  },
  {
   "cell_type": "code",
   "execution_count": 22,
   "id": "afraid-thickness",
   "metadata": {
    "ExecuteTime": {
     "end_time": "2021-03-18T04:44:25.453050Z",
     "start_time": "2021-03-18T04:44:25.448232Z"
    }
   },
   "outputs": [],
   "source": [
    "from timeit import default_timer as timer\n",
    "import datetime as dt"
   ]
  },
  {
   "cell_type": "code",
   "execution_count": 23,
   "id": "resistant-payday",
   "metadata": {
    "ExecuteTime": {
     "end_time": "2021-03-18T04:48:08.593901Z",
     "start_time": "2021-03-18T04:44:25.456264Z"
    }
   },
   "outputs": [
    {
     "name": "stdout",
     "output_type": "stream",
     "text": [
      " \n",
      "ssn_day_since ---> Done\n",
      "ssn_count_0 ---> Done\n",
      "ssn_count_1 ---> Done\n",
      "ssn_count_3 ---> Done\n",
      "ssn_count_7 ---> Done\n",
      "ssn_count_14 ---> Done\n",
      "ssn_count_30 ---> Done\n",
      "ssn_count_60 ---> Done\n",
      "Run time for entity ssn -------------- 5.70s\n",
      " \n",
      "address_day_since ---> Done\n",
      "address_count_0 ---> Done\n",
      "address_count_1 ---> Done\n",
      "address_count_3 ---> Done\n",
      "address_count_7 ---> Done\n",
      "address_count_14 ---> Done\n",
      "address_count_30 ---> Done\n",
      "address_count_60 ---> Done\n",
      "Run time for entity address -------------- 5.28s\n",
      " \n",
      "dob_day_since ---> Done\n",
      "dob_count_0 ---> Done\n",
      "dob_count_1 ---> Done\n",
      "dob_count_3 ---> Done\n",
      "dob_count_7 ---> Done\n",
      "dob_count_14 ---> Done\n",
      "dob_count_30 ---> Done\n",
      "dob_count_60 ---> Done\n",
      "Run time for entity dob -------------- 44.53s\n",
      " \n",
      "homephone_day_since ---> Done\n",
      "homephone_count_0 ---> Done\n",
      "homephone_count_1 ---> Done\n",
      "homephone_count_3 ---> Done\n",
      "homephone_count_7 ---> Done\n",
      "homephone_count_14 ---> Done\n",
      "homephone_count_30 ---> Done\n",
      "homephone_count_60 ---> Done\n",
      "Run time for entity homephone -------------- 34.26s\n",
      " \n",
      "namedob_day_since ---> Done\n",
      "namedob_count_0 ---> Done\n",
      "namedob_count_1 ---> Done\n",
      "namedob_count_3 ---> Done\n",
      "namedob_count_7 ---> Done\n",
      "namedob_count_14 ---> Done\n",
      "namedob_count_30 ---> Done\n",
      "namedob_count_60 ---> Done\n",
      "Run time for entity namedob -------------- 5.61s\n",
      " \n",
      "namedob_fulladdress_day_since ---> Done\n",
      "namedob_fulladdress_count_0 ---> Done\n",
      "namedob_fulladdress_count_1 ---> Done\n",
      "namedob_fulladdress_count_3 ---> Done\n",
      "namedob_fulladdress_count_7 ---> Done\n",
      "namedob_fulladdress_count_14 ---> Done\n",
      "namedob_fulladdress_count_30 ---> Done\n",
      "namedob_fulladdress_count_60 ---> Done\n",
      "Run time for entity namedob_fulladdress -------------- 5.43s\n",
      " \n",
      "namedob_homephone_day_since ---> Done\n",
      "namedob_homephone_count_0 ---> Done\n",
      "namedob_homephone_count_1 ---> Done\n",
      "namedob_homephone_count_3 ---> Done\n",
      "namedob_homephone_count_7 ---> Done\n",
      "namedob_homephone_count_14 ---> Done\n",
      "namedob_homephone_count_30 ---> Done\n",
      "namedob_homephone_count_60 ---> Done\n",
      "Run time for entity namedob_homephone -------------- 5.36s\n",
      " \n",
      "namedob_ssn_day_since ---> Done\n",
      "namedob_ssn_count_0 ---> Done\n",
      "namedob_ssn_count_1 ---> Done\n",
      "namedob_ssn_count_3 ---> Done\n",
      "namedob_ssn_count_7 ---> Done\n",
      "namedob_ssn_count_14 ---> Done\n",
      "namedob_ssn_count_30 ---> Done\n",
      "namedob_ssn_count_60 ---> Done\n",
      "Run time for entity namedob_ssn -------------- 6.18s\n",
      " \n",
      "fulladdress_homephone_day_since ---> Done\n",
      "fulladdress_homephone_count_0 ---> Done\n",
      "fulladdress_homephone_count_1 ---> Done\n",
      "fulladdress_homephone_count_3 ---> Done\n",
      "fulladdress_homephone_count_7 ---> Done\n",
      "fulladdress_homephone_count_14 ---> Done\n",
      "fulladdress_homephone_count_30 ---> Done\n",
      "fulladdress_homephone_count_60 ---> Done\n",
      "Run time for entity fulladdress_homephone -------------- 5.49s\n",
      " \n",
      "fulladdress_ssn_day_since ---> Done\n",
      "fulladdress_ssn_count_0 ---> Done\n",
      "fulladdress_ssn_count_1 ---> Done\n",
      "fulladdress_ssn_count_3 ---> Done\n",
      "fulladdress_ssn_count_7 ---> Done\n",
      "fulladdress_ssn_count_14 ---> Done\n",
      "fulladdress_ssn_count_30 ---> Done\n",
      "fulladdress_ssn_count_60 ---> Done\n",
      "Run time for entity fulladdress_ssn -------------- 5.07s\n",
      " \n",
      "homephone_ssn_day_since ---> Done\n",
      "homephone_ssn_count_0 ---> Done\n",
      "homephone_ssn_count_1 ---> Done\n",
      "homephone_ssn_count_3 ---> Done\n",
      "homephone_ssn_count_7 ---> Done\n",
      "homephone_ssn_count_14 ---> Done\n",
      "homephone_ssn_count_30 ---> Done\n",
      "homephone_ssn_count_60 ---> Done\n",
      "Run time for entity homephone_ssn -------------- 4.98s\n",
      " \n",
      "namedob_fulladdress_homephone_day_since ---> Done\n",
      "namedob_fulladdress_homephone_count_0 ---> Done\n",
      "namedob_fulladdress_homephone_count_1 ---> Done\n",
      "namedob_fulladdress_homephone_count_3 ---> Done\n",
      "namedob_fulladdress_homephone_count_7 ---> Done\n",
      "namedob_fulladdress_homephone_count_14 ---> Done\n",
      "namedob_fulladdress_homephone_count_30 ---> Done\n",
      "namedob_fulladdress_homephone_count_60 ---> Done\n",
      "Run time for entity namedob_fulladdress_homephone -------------- 5.48s\n",
      " \n",
      "namedob_fulladdress_ssn_day_since ---> Done\n",
      "namedob_fulladdress_ssn_count_0 ---> Done\n",
      "namedob_fulladdress_ssn_count_1 ---> Done\n",
      "namedob_fulladdress_ssn_count_3 ---> Done\n",
      "namedob_fulladdress_ssn_count_7 ---> Done\n",
      "namedob_fulladdress_ssn_count_14 ---> Done\n",
      "namedob_fulladdress_ssn_count_30 ---> Done\n",
      "namedob_fulladdress_ssn_count_60 ---> Done\n",
      "Run time for entity namedob_fulladdress_ssn -------------- 6.51s\n",
      " \n",
      "namedob_homephone_ssn_day_since ---> Done\n",
      "namedob_homephone_ssn_count_0 ---> Done\n",
      "namedob_homephone_ssn_count_1 ---> Done\n",
      "namedob_homephone_ssn_count_3 ---> Done\n",
      "namedob_homephone_ssn_count_7 ---> Done\n",
      "namedob_homephone_ssn_count_14 ---> Done\n",
      "namedob_homephone_ssn_count_30 ---> Done\n",
      "namedob_homephone_ssn_count_60 ---> Done\n",
      "Run time for entity namedob_homephone_ssn -------------- 5.29s\n",
      " \n",
      "fulladdress_homephone_ssn_day_since ---> Done\n",
      "fulladdress_homephone_ssn_count_0 ---> Done\n",
      "fulladdress_homephone_ssn_count_1 ---> Done\n",
      "fulladdress_homephone_ssn_count_3 ---> Done\n",
      "fulladdress_homephone_ssn_count_7 ---> Done\n",
      "fulladdress_homephone_ssn_count_14 ---> Done\n",
      "fulladdress_homephone_ssn_count_30 ---> Done\n",
      "fulladdress_homephone_ssn_count_60 ---> Done\n",
      "Run time for entity fulladdress_homephone_ssn -------------- 5.90s\n",
      " \n",
      "namedob_fulladdress_homephone_ssn_day_since ---> Done\n",
      "namedob_fulladdress_homephone_ssn_count_0 ---> Done\n",
      "namedob_fulladdress_homephone_ssn_count_1 ---> Done\n",
      "namedob_fulladdress_homephone_ssn_count_3 ---> Done\n",
      "namedob_fulladdress_homephone_ssn_count_7 ---> Done\n",
      "namedob_fulladdress_homephone_ssn_count_14 ---> Done\n",
      "namedob_fulladdress_homephone_ssn_count_30 ---> Done\n",
      "namedob_fulladdress_homephone_ssn_count_60 ---> Done\n",
      "Run time for entity namedob_fulladdress_homephone_ssn -------------- 5.11s\n",
      " \n",
      "firstname_fulladdress_homephone_day_since ---> Done\n",
      "firstname_fulladdress_homephone_count_0 ---> Done\n",
      "firstname_fulladdress_homephone_count_1 ---> Done\n",
      "firstname_fulladdress_homephone_count_3 ---> Done\n",
      "firstname_fulladdress_homephone_count_7 ---> Done\n",
      "firstname_fulladdress_homephone_count_14 ---> Done\n",
      "firstname_fulladdress_homephone_count_30 ---> Done\n",
      "firstname_fulladdress_homephone_count_60 ---> Done\n",
      "Run time for entity firstname_fulladdress_homephone -------------- 5.13s\n",
      " \n",
      "firstname_fulladdress_ssn_day_since ---> Done\n",
      "firstname_fulladdress_ssn_count_0 ---> Done\n",
      "firstname_fulladdress_ssn_count_1 ---> Done\n",
      "firstname_fulladdress_ssn_count_3 ---> Done\n",
      "firstname_fulladdress_ssn_count_7 ---> Done\n",
      "firstname_fulladdress_ssn_count_14 ---> Done\n",
      "firstname_fulladdress_ssn_count_30 ---> Done\n",
      "firstname_fulladdress_ssn_count_60 ---> Done\n",
      "Run time for entity firstname_fulladdress_ssn -------------- 5.05s\n",
      " \n",
      "firstname_homephone_ssn_day_since ---> Done\n",
      "firstname_homephone_ssn_count_0 ---> Done\n",
      "firstname_homephone_ssn_count_1 ---> Done\n",
      "firstname_homephone_ssn_count_3 ---> Done\n",
      "firstname_homephone_ssn_count_7 ---> Done\n",
      "firstname_homephone_ssn_count_14 ---> Done\n",
      "firstname_homephone_ssn_count_30 ---> Done\n",
      "firstname_homephone_ssn_count_60 ---> Done\n",
      "Run time for entity firstname_homephone_ssn -------------- 4.87s\n",
      " \n",
      "firstname_fulladdress_homephone_ssn_day_since ---> Done\n",
      "firstname_fulladdress_homephone_ssn_count_0 ---> Done\n",
      "firstname_fulladdress_homephone_ssn_count_1 ---> Done\n",
      "firstname_fulladdress_homephone_ssn_count_3 ---> Done\n",
      "firstname_fulladdress_homephone_ssn_count_7 ---> Done\n",
      "firstname_fulladdress_homephone_ssn_count_14 ---> Done\n",
      "firstname_fulladdress_homephone_ssn_count_30 ---> Done\n",
      "firstname_fulladdress_homephone_ssn_count_60 ---> Done\n",
      "Run time for entity firstname_fulladdress_homephone_ssn -------------- 4.98s\n",
      " \n",
      "lastname_fulladdress_homephone_day_since ---> Done\n",
      "lastname_fulladdress_homephone_count_0 ---> Done\n",
      "lastname_fulladdress_homephone_count_1 ---> Done\n",
      "lastname_fulladdress_homephone_count_3 ---> Done\n",
      "lastname_fulladdress_homephone_count_7 ---> Done\n",
      "lastname_fulladdress_homephone_count_14 ---> Done\n",
      "lastname_fulladdress_homephone_count_30 ---> Done\n",
      "lastname_fulladdress_homephone_count_60 ---> Done\n",
      "Run time for entity lastname_fulladdress_homephone -------------- 4.92s\n",
      " \n",
      "lastname_fulladdress_ssn_day_since ---> Done\n",
      "lastname_fulladdress_ssn_count_0 ---> Done\n",
      "lastname_fulladdress_ssn_count_1 ---> Done\n",
      "lastname_fulladdress_ssn_count_3 ---> Done\n",
      "lastname_fulladdress_ssn_count_7 ---> Done\n",
      "lastname_fulladdress_ssn_count_14 ---> Done\n",
      "lastname_fulladdress_ssn_count_30 ---> Done\n",
      "lastname_fulladdress_ssn_count_60 ---> Done\n",
      "Run time for entity lastname_fulladdress_ssn -------------- 5.23s\n"
     ]
    },
    {
     "name": "stdout",
     "output_type": "stream",
     "text": [
      " \n",
      "lastname_homephone_ssn_day_since ---> Done\n",
      "lastname_homephone_ssn_count_0 ---> Done\n",
      "lastname_homephone_ssn_count_1 ---> Done\n",
      "lastname_homephone_ssn_count_3 ---> Done\n",
      "lastname_homephone_ssn_count_7 ---> Done\n",
      "lastname_homephone_ssn_count_14 ---> Done\n",
      "lastname_homephone_ssn_count_30 ---> Done\n",
      "lastname_homephone_ssn_count_60 ---> Done\n",
      "Run time for entity lastname_homephone_ssn -------------- 4.92s\n",
      " \n",
      "lastname_fulladdress_homephone_ssn_day_since ---> Done\n",
      "lastname_fulladdress_homephone_ssn_count_0 ---> Done\n",
      "lastname_fulladdress_homephone_ssn_count_1 ---> Done\n",
      "lastname_fulladdress_homephone_ssn_count_3 ---> Done\n",
      "lastname_fulladdress_homephone_ssn_count_7 ---> Done\n",
      "lastname_fulladdress_homephone_ssn_count_14 ---> Done\n",
      "lastname_fulladdress_homephone_ssn_count_30 ---> Done\n",
      "lastname_fulladdress_homephone_ssn_count_60 ---> Done\n",
      "Run time for entity lastname_fulladdress_homephone_ssn -------------- 5.02s\n",
      " \n",
      "zip_namedob_homephone_day_since ---> Done\n",
      "zip_namedob_homephone_count_0 ---> Done\n",
      "zip_namedob_homephone_count_1 ---> Done\n",
      "zip_namedob_homephone_count_3 ---> Done\n",
      "zip_namedob_homephone_count_7 ---> Done\n",
      "zip_namedob_homephone_count_14 ---> Done\n",
      "zip_namedob_homephone_count_30 ---> Done\n",
      "zip_namedob_homephone_count_60 ---> Done\n",
      "Run time for entity zip_namedob_homephone -------------- 11.53s\n",
      " \n",
      "zip_namedob_ssn_day_since ---> Done\n",
      "zip_namedob_ssn_count_0 ---> Done\n",
      "zip_namedob_ssn_count_1 ---> Done\n",
      "zip_namedob_ssn_count_3 ---> Done\n",
      "zip_namedob_ssn_count_7 ---> Done\n",
      "zip_namedob_ssn_count_14 ---> Done\n",
      "zip_namedob_ssn_count_30 ---> Done\n",
      "zip_namedob_ssn_count_60 ---> Done\n",
      "Run time for entity zip_namedob_ssn -------------- 5.15s\n",
      " \n",
      "zip_homephone_ssn_day_since ---> Done\n",
      "zip_homephone_ssn_count_0 ---> Done\n",
      "zip_homephone_ssn_count_1 ---> Done\n",
      "zip_homephone_ssn_count_3 ---> Done\n",
      "zip_homephone_ssn_count_7 ---> Done\n",
      "zip_homephone_ssn_count_14 ---> Done\n",
      "zip_homephone_ssn_count_30 ---> Done\n",
      "zip_homephone_ssn_count_60 ---> Done\n",
      "Run time for entity zip_homephone_ssn -------------- 5.02s\n",
      " \n",
      "zip_namedob_homephone_ssn_day_since ---> Done\n",
      "zip_namedob_homephone_ssn_count_0 ---> Done\n",
      "zip_namedob_homephone_ssn_count_1 ---> Done\n",
      "zip_namedob_homephone_ssn_count_3 ---> Done\n",
      "zip_namedob_homephone_ssn_count_7 ---> Done\n",
      "zip_namedob_homephone_ssn_count_14 ---> Done\n",
      "zip_namedob_homephone_ssn_count_30 ---> Done\n",
      "zip_namedob_homephone_ssn_count_60 ---> Done\n",
      "Run time for entity zip_namedob_homephone_ssn -------------- 5.13s\n",
      "Total run time:  3.72min\n"
     ]
    }
   ],
   "source": [
    "start = timer()\n",
    "\n",
    "for entity in attributes:\n",
    "    st = timer()\n",
    "    df_1 = df1[['record', 'date', entity]]\n",
    "    df_r = df1[['check_record', 'check_date', entity]]\n",
    "    temp = pd.merge(df_1, df_r, left_on = entity, right_on = entity)\n",
    "    \n",
    "    # Day since\n",
    "    day_since_df = temp[temp.record > temp.check_record][['record', 'date', 'check_date']] \\\n",
    "        .groupby('record')[['date', 'check_date']].last()\n",
    "    mapper = (day_since_df.date - day_since_df.check_date).dt.days\n",
    "    final[entity + '_day_since'] = final.record.map(mapper)\n",
    "    final[entity + '_day_since'].fillna(365, inplace = True)\n",
    "    print(f' \\n{entity}_day_since ---> Done')\n",
    "    \n",
    "    # velocity\n",
    "    for offset_t in [0, 1,3, 7, 14, 30, 60]:\n",
    "        count_day_df = temp[(temp.check_date >= (temp.date - dt.timedelta(offset_t)))\n",
    "                           & (temp.record >= temp.check_record)]\n",
    "        col_name = f'{entity}_count_{offset_t}'\n",
    "        mapper2 = count_day_df.groupby('record')[entity].count()\n",
    "        final[col_name] = final.record.map(mapper2)\n",
    "        \n",
    "        print(f'{entity}_count_{str(offset_t)} ---> Done')\n",
    "    \n",
    "    print(f'Run time for entity {entity} -------------- {timer() - st:0.2f}s')\n",
    "\n",
    "print(f'Total run time: {(timer() - start) / 60: 0.2f}min')"
   ]
  },
  {
   "cell_type": "code",
   "execution_count": 24,
   "id": "secure-footage",
   "metadata": {
    "ExecuteTime": {
     "end_time": "2021-03-18T04:48:25.699542Z",
     "start_time": "2021-03-18T04:48:08.602929Z"
    }
   },
   "outputs": [
    {
     "name": "stdout",
     "output_type": "stream",
     "text": [
      "Total run time: 17.08s\n"
     ]
    }
   ],
   "source": [
    "start = timer()\n",
    "for att in attributes:\n",
    "    for d in ['0', '1']:\n",
    "        for dd in ['3', '7', '14', '30']:\n",
    "            final[att + '_count_' + d + '_by_' + dd] \\\n",
    "                = final[att + '_count_' + d] / (final[att + '_count_' + dd]/float(dd))\n",
    "print(f'Total run time: {timer() - start:0.2f}s')"
   ]
  },
  {
   "cell_type": "code",
   "execution_count": 25,
   "id": "unlikely-imagination",
   "metadata": {
    "ExecuteTime": {
     "end_time": "2021-03-18T04:48:25.770527Z",
     "start_time": "2021-03-18T04:48:25.711394Z"
    }
   },
   "outputs": [
    {
     "data": {
      "text/plain": [
       "(1000000, 486)"
      ]
     },
     "execution_count": 25,
     "metadata": {},
     "output_type": "execute_result"
    }
   ],
   "source": [
    "final.shape"
   ]
  },
  {
   "cell_type": "code",
   "execution_count": 26,
   "id": "subsequent-cookie",
   "metadata": {
    "ExecuteTime": {
     "end_time": "2021-03-18T04:48:57.671450Z",
     "start_time": "2021-03-18T04:48:25.772592Z"
    }
   },
   "outputs": [],
   "source": [
    "remove_first_2 = final[final['date'] > '2016-01-15']"
   ]
  },
  {
   "cell_type": "code",
   "execution_count": 27,
   "id": "numerous-batch",
   "metadata": {
    "ExecuteTime": {
     "end_time": "2021-03-18T04:49:08.666981Z",
     "start_time": "2021-03-18T04:48:57.679665Z"
    }
   },
   "outputs": [],
   "source": [
    "mydata = remove_first_2[remove_first_2['date'] < '2016-11-01']"
   ]
  },
  {
   "cell_type": "code",
   "execution_count": 28,
   "id": "postal-prevention",
   "metadata": {
    "ExecuteTime": {
     "end_time": "2021-03-18T04:49:15.378185Z",
     "start_time": "2021-03-18T04:49:08.676226Z"
    }
   },
   "outputs": [],
   "source": [
    "variables = mydata.iloc[:, 36:].columns"
   ]
  },
  {
   "cell_type": "code",
   "execution_count": 29,
   "id": "heavy-rotation",
   "metadata": {
    "ExecuteTime": {
     "end_time": "2021-03-18T04:49:17.463688Z",
     "start_time": "2021-03-18T04:49:15.398603Z"
    }
   },
   "outputs": [],
   "source": [
    "import scipy.stats as sps\n",
    "\n",
    "from scipy.stats import ks_2samp"
   ]
  },
  {
   "cell_type": "code",
   "execution_count": 30,
   "id": "dutch-spank",
   "metadata": {
    "ExecuteTime": {
     "end_time": "2021-03-18T04:49:17.472554Z",
     "start_time": "2021-03-18T04:49:17.466068Z"
    }
   },
   "outputs": [],
   "source": [
    "import numpy as np"
   ]
  },
  {
   "cell_type": "code",
   "execution_count": 31,
   "id": "colored-showcase",
   "metadata": {
    "ExecuteTime": {
     "end_time": "2021-03-18T06:15:57.668931Z",
     "start_time": "2021-03-18T04:49:17.474501Z"
    },
    "scrolled": true
   },
   "outputs": [
    {
     "name": "stdout",
     "output_type": "stream",
     "text": [
      "variable dow ---> Done\n",
      "Run time for variable dow -------------- 13.78s\n",
      "variable dow_risk ---> Done\n",
      "Run time for variable dow_risk -------------- 8.60s\n",
      "variable ssn_day_since ---> Done\n",
      "Run time for variable ssn_day_since -------------- 8.50s\n",
      "variable ssn_count_0 ---> Done\n",
      "Run time for variable ssn_count_0 -------------- 10.67s\n",
      "variable ssn_count_1 ---> Done\n",
      "Run time for variable ssn_count_1 -------------- 9.83s\n",
      "variable ssn_count_3 ---> Done\n",
      "Run time for variable ssn_count_3 -------------- 10.06s\n",
      "variable ssn_count_7 ---> Done\n",
      "Run time for variable ssn_count_7 -------------- 11.13s\n",
      "variable ssn_count_14 ---> Done\n",
      "Run time for variable ssn_count_14 -------------- 10.50s\n",
      "variable ssn_count_30 ---> Done\n",
      "Run time for variable ssn_count_30 -------------- 10.07s\n",
      "variable ssn_count_60 ---> Done\n",
      "Run time for variable ssn_count_60 -------------- 9.99s\n",
      "variable address_day_since ---> Done\n",
      "Run time for variable address_day_since -------------- 10.97s\n",
      "variable address_count_0 ---> Done\n",
      "Run time for variable address_count_0 -------------- 9.04s\n",
      "variable address_count_1 ---> Done\n",
      "Run time for variable address_count_1 -------------- 9.00s\n",
      "variable address_count_3 ---> Done\n",
      "Run time for variable address_count_3 -------------- 10.84s\n",
      "variable address_count_7 ---> Done\n",
      "Run time for variable address_count_7 -------------- 11.42s\n",
      "variable address_count_14 ---> Done\n",
      "Run time for variable address_count_14 -------------- 17.22s\n",
      "variable address_count_30 ---> Done\n",
      "Run time for variable address_count_30 -------------- 12.07s\n",
      "variable address_count_60 ---> Done\n",
      "Run time for variable address_count_60 -------------- 16.07s\n",
      "variable dob_day_since ---> Done\n",
      "Run time for variable dob_day_since -------------- 10.67s\n",
      "variable dob_count_0 ---> Done\n",
      "Run time for variable dob_count_0 -------------- 13.26s\n",
      "variable dob_count_1 ---> Done\n",
      "Run time for variable dob_count_1 -------------- 19.59s\n",
      "variable dob_count_3 ---> Done\n",
      "Run time for variable dob_count_3 -------------- 12.66s\n",
      "variable dob_count_7 ---> Done\n",
      "Run time for variable dob_count_7 -------------- 10.81s\n",
      "variable dob_count_14 ---> Done\n",
      "Run time for variable dob_count_14 -------------- 10.19s\n",
      "variable dob_count_30 ---> Done\n",
      "Run time for variable dob_count_30 -------------- 12.36s\n",
      "variable dob_count_60 ---> Done\n",
      "Run time for variable dob_count_60 -------------- 14.84s\n",
      "variable homephone_day_since ---> Done\n",
      "Run time for variable homephone_day_since -------------- 12.25s\n",
      "variable homephone_count_0 ---> Done\n",
      "Run time for variable homephone_count_0 -------------- 17.13s\n",
      "variable homephone_count_1 ---> Done\n",
      "Run time for variable homephone_count_1 -------------- 13.50s\n",
      "variable homephone_count_3 ---> Done\n",
      "Run time for variable homephone_count_3 -------------- 12.45s\n",
      "variable homephone_count_7 ---> Done\n",
      "Run time for variable homephone_count_7 -------------- 11.63s\n",
      "variable homephone_count_14 ---> Done\n",
      "Run time for variable homephone_count_14 -------------- 20.32s\n",
      "variable homephone_count_30 ---> Done\n",
      "Run time for variable homephone_count_30 -------------- 11.03s\n",
      "variable homephone_count_60 ---> Done\n",
      "Run time for variable homephone_count_60 -------------- 10.44s\n",
      "variable namedob_day_since ---> Done\n",
      "Run time for variable namedob_day_since -------------- 13.09s\n",
      "variable namedob_count_0 ---> Done\n",
      "Run time for variable namedob_count_0 -------------- 8.15s\n",
      "variable namedob_count_1 ---> Done\n",
      "Run time for variable namedob_count_1 -------------- 10.15s\n",
      "variable namedob_count_3 ---> Done\n",
      "Run time for variable namedob_count_3 -------------- 10.14s\n",
      "variable namedob_count_7 ---> Done\n",
      "Run time for variable namedob_count_7 -------------- 11.00s\n",
      "variable namedob_count_14 ---> Done\n",
      "Run time for variable namedob_count_14 -------------- 11.79s\n",
      "variable namedob_count_30 ---> Done\n",
      "Run time for variable namedob_count_30 -------------- 9.56s\n",
      "variable namedob_count_60 ---> Done\n",
      "Run time for variable namedob_count_60 -------------- 9.80s\n",
      "variable namedob_fulladdress_day_since ---> Done\n",
      "Run time for variable namedob_fulladdress_day_since -------------- 11.72s\n",
      "variable namedob_fulladdress_count_0 ---> Done\n",
      "Run time for variable namedob_fulladdress_count_0 -------------- 10.72s\n",
      "variable namedob_fulladdress_count_1 ---> Done\n",
      "Run time for variable namedob_fulladdress_count_1 -------------- 8.74s\n",
      "variable namedob_fulladdress_count_3 ---> Done\n",
      "Run time for variable namedob_fulladdress_count_3 -------------- 9.65s\n",
      "variable namedob_fulladdress_count_7 ---> Done\n",
      "Run time for variable namedob_fulladdress_count_7 -------------- 10.30s\n",
      "variable namedob_fulladdress_count_14 ---> Done\n",
      "Run time for variable namedob_fulladdress_count_14 -------------- 8.90s\n",
      "variable namedob_fulladdress_count_30 ---> Done\n",
      "Run time for variable namedob_fulladdress_count_30 -------------- 11.95s\n",
      "variable namedob_fulladdress_count_60 ---> Done\n",
      "Run time for variable namedob_fulladdress_count_60 -------------- 10.45s\n",
      "variable namedob_homephone_day_since ---> Done\n",
      "Run time for variable namedob_homephone_day_since -------------- 10.08s\n",
      "variable namedob_homephone_count_0 ---> Done\n",
      "Run time for variable namedob_homephone_count_0 -------------- 13.31s\n",
      "variable namedob_homephone_count_1 ---> Done\n",
      "Run time for variable namedob_homephone_count_1 -------------- 8.25s\n",
      "variable namedob_homephone_count_3 ---> Done\n",
      "Run time for variable namedob_homephone_count_3 -------------- 11.74s\n",
      "variable namedob_homephone_count_7 ---> Done\n",
      "Run time for variable namedob_homephone_count_7 -------------- 10.00s\n",
      "variable namedob_homephone_count_14 ---> Done\n",
      "Run time for variable namedob_homephone_count_14 -------------- 10.07s\n",
      "variable namedob_homephone_count_30 ---> Done\n",
      "Run time for variable namedob_homephone_count_30 -------------- 10.31s\n",
      "variable namedob_homephone_count_60 ---> Done\n",
      "Run time for variable namedob_homephone_count_60 -------------- 10.14s\n",
      "variable namedob_ssn_day_since ---> Done\n",
      "Run time for variable namedob_ssn_day_since -------------- 9.91s\n",
      "variable namedob_ssn_count_0 ---> Done\n",
      "Run time for variable namedob_ssn_count_0 -------------- 9.39s\n",
      "variable namedob_ssn_count_1 ---> Done\n",
      "Run time for variable namedob_ssn_count_1 -------------- 8.67s\n",
      "variable namedob_ssn_count_3 ---> Done\n",
      "Run time for variable namedob_ssn_count_3 -------------- 9.12s\n",
      "variable namedob_ssn_count_7 ---> Done\n",
      "Run time for variable namedob_ssn_count_7 -------------- 11.72s\n",
      "variable namedob_ssn_count_14 ---> Done\n",
      "Run time for variable namedob_ssn_count_14 -------------- 10.92s\n",
      "variable namedob_ssn_count_30 ---> Done\n",
      "Run time for variable namedob_ssn_count_30 -------------- 13.05s\n",
      "variable namedob_ssn_count_60 ---> Done\n",
      "Run time for variable namedob_ssn_count_60 -------------- 9.41s\n",
      "variable fulladdress_homephone_day_since ---> Done\n",
      "Run time for variable fulladdress_homephone_day_since -------------- 11.13s\n",
      "variable fulladdress_homephone_count_0 ---> Done\n",
      "Run time for variable fulladdress_homephone_count_0 -------------- 8.45s\n",
      "variable fulladdress_homephone_count_1 ---> Done\n",
      "Run time for variable fulladdress_homephone_count_1 -------------- 10.05s\n",
      "variable fulladdress_homephone_count_3 ---> Done\n",
      "Run time for variable fulladdress_homephone_count_3 -------------- 10.15s\n",
      "variable fulladdress_homephone_count_7 ---> Done\n",
      "Run time for variable fulladdress_homephone_count_7 -------------- 9.58s\n",
      "variable fulladdress_homephone_count_14 ---> Done\n",
      "Run time for variable fulladdress_homephone_count_14 -------------- 9.84s\n",
      "variable fulladdress_homephone_count_30 ---> Done\n",
      "Run time for variable fulladdress_homephone_count_30 -------------- 9.33s\n",
      "variable fulladdress_homephone_count_60 ---> Done\n",
      "Run time for variable fulladdress_homephone_count_60 -------------- 10.13s\n",
      "variable fulladdress_ssn_day_since ---> Done\n",
      "Run time for variable fulladdress_ssn_day_since -------------- 10.53s\n",
      "variable fulladdress_ssn_count_0 ---> Done\n",
      "Run time for variable fulladdress_ssn_count_0 -------------- 8.93s\n",
      "variable fulladdress_ssn_count_1 ---> Done\n",
      "Run time for variable fulladdress_ssn_count_1 -------------- 9.34s\n",
      "variable fulladdress_ssn_count_3 ---> Done\n",
      "Run time for variable fulladdress_ssn_count_3 -------------- 10.56s\n",
      "variable fulladdress_ssn_count_7 ---> Done\n",
      "Run time for variable fulladdress_ssn_count_7 -------------- 9.89s\n",
      "variable fulladdress_ssn_count_14 ---> Done\n",
      "Run time for variable fulladdress_ssn_count_14 -------------- 9.59s\n"
     ]
    },
    {
     "name": "stdout",
     "output_type": "stream",
     "text": [
      "variable fulladdress_ssn_count_30 ---> Done\n",
      "Run time for variable fulladdress_ssn_count_30 -------------- 9.48s\n",
      "variable fulladdress_ssn_count_60 ---> Done\n",
      "Run time for variable fulladdress_ssn_count_60 -------------- 9.61s\n",
      "variable homephone_ssn_day_since ---> Done\n",
      "Run time for variable homephone_ssn_day_since -------------- 9.30s\n",
      "variable homephone_ssn_count_0 ---> Done\n",
      "Run time for variable homephone_ssn_count_0 -------------- 9.02s\n",
      "variable homephone_ssn_count_1 ---> Done\n",
      "Run time for variable homephone_ssn_count_1 -------------- 9.50s\n",
      "variable homephone_ssn_count_3 ---> Done\n",
      "Run time for variable homephone_ssn_count_3 -------------- 9.13s\n",
      "variable homephone_ssn_count_7 ---> Done\n",
      "Run time for variable homephone_ssn_count_7 -------------- 11.59s\n",
      "variable homephone_ssn_count_14 ---> Done\n",
      "Run time for variable homephone_ssn_count_14 -------------- 8.48s\n",
      "variable homephone_ssn_count_30 ---> Done\n",
      "Run time for variable homephone_ssn_count_30 -------------- 10.52s\n",
      "variable homephone_ssn_count_60 ---> Done\n",
      "Run time for variable homephone_ssn_count_60 -------------- 10.12s\n",
      "variable namedob_fulladdress_homephone_day_since ---> Done\n",
      "Run time for variable namedob_fulladdress_homephone_day_since -------------- 10.40s\n",
      "variable namedob_fulladdress_homephone_count_0 ---> Done\n",
      "Run time for variable namedob_fulladdress_homephone_count_0 -------------- 8.93s\n",
      "variable namedob_fulladdress_homephone_count_1 ---> Done\n",
      "Run time for variable namedob_fulladdress_homephone_count_1 -------------- 9.74s\n",
      "variable namedob_fulladdress_homephone_count_3 ---> Done\n",
      "Run time for variable namedob_fulladdress_homephone_count_3 -------------- 10.84s\n",
      "variable namedob_fulladdress_homephone_count_7 ---> Done\n",
      "Run time for variable namedob_fulladdress_homephone_count_7 -------------- 9.50s\n",
      "variable namedob_fulladdress_homephone_count_14 ---> Done\n",
      "Run time for variable namedob_fulladdress_homephone_count_14 -------------- 15.17s\n",
      "variable namedob_fulladdress_homephone_count_30 ---> Done\n",
      "Run time for variable namedob_fulladdress_homephone_count_30 -------------- 23.11s\n",
      "variable namedob_fulladdress_homephone_count_60 ---> Done\n",
      "Run time for variable namedob_fulladdress_homephone_count_60 -------------- 15.59s\n",
      "variable namedob_fulladdress_ssn_day_since ---> Done\n",
      "Run time for variable namedob_fulladdress_ssn_day_since -------------- 8.14s\n",
      "variable namedob_fulladdress_ssn_count_0 ---> Done\n",
      "Run time for variable namedob_fulladdress_ssn_count_0 -------------- 10.72s\n",
      "variable namedob_fulladdress_ssn_count_1 ---> Done\n",
      "Run time for variable namedob_fulladdress_ssn_count_1 -------------- 10.34s\n",
      "variable namedob_fulladdress_ssn_count_3 ---> Done\n",
      "Run time for variable namedob_fulladdress_ssn_count_3 -------------- 10.63s\n",
      "variable namedob_fulladdress_ssn_count_7 ---> Done\n",
      "Run time for variable namedob_fulladdress_ssn_count_7 -------------- 9.31s\n",
      "variable namedob_fulladdress_ssn_count_14 ---> Done\n",
      "Run time for variable namedob_fulladdress_ssn_count_14 -------------- 9.79s\n",
      "variable namedob_fulladdress_ssn_count_30 ---> Done\n",
      "Run time for variable namedob_fulladdress_ssn_count_30 -------------- 10.02s\n",
      "variable namedob_fulladdress_ssn_count_60 ---> Done\n",
      "Run time for variable namedob_fulladdress_ssn_count_60 -------------- 9.64s\n",
      "variable namedob_homephone_ssn_day_since ---> Done\n",
      "Run time for variable namedob_homephone_ssn_day_since -------------- 10.34s\n",
      "variable namedob_homephone_ssn_count_0 ---> Done\n",
      "Run time for variable namedob_homephone_ssn_count_0 -------------- 9.28s\n",
      "variable namedob_homephone_ssn_count_1 ---> Done\n",
      "Run time for variable namedob_homephone_ssn_count_1 -------------- 10.39s\n",
      "variable namedob_homephone_ssn_count_3 ---> Done\n",
      "Run time for variable namedob_homephone_ssn_count_3 -------------- 9.10s\n",
      "variable namedob_homephone_ssn_count_7 ---> Done\n",
      "Run time for variable namedob_homephone_ssn_count_7 -------------- 8.84s\n",
      "variable namedob_homephone_ssn_count_14 ---> Done\n",
      "Run time for variable namedob_homephone_ssn_count_14 -------------- 9.43s\n",
      "variable namedob_homephone_ssn_count_30 ---> Done\n",
      "Run time for variable namedob_homephone_ssn_count_30 -------------- 9.89s\n",
      "variable namedob_homephone_ssn_count_60 ---> Done\n",
      "Run time for variable namedob_homephone_ssn_count_60 -------------- 10.14s\n",
      "variable fulladdress_homephone_ssn_day_since ---> Done\n",
      "Run time for variable fulladdress_homephone_ssn_day_since -------------- 9.78s\n",
      "variable fulladdress_homephone_ssn_count_0 ---> Done\n",
      "Run time for variable fulladdress_homephone_ssn_count_0 -------------- 11.12s\n",
      "variable fulladdress_homephone_ssn_count_1 ---> Done\n",
      "Run time for variable fulladdress_homephone_ssn_count_1 -------------- 10.77s\n",
      "variable fulladdress_homephone_ssn_count_3 ---> Done\n",
      "Run time for variable fulladdress_homephone_ssn_count_3 -------------- 11.30s\n",
      "variable fulladdress_homephone_ssn_count_7 ---> Done\n",
      "Run time for variable fulladdress_homephone_ssn_count_7 -------------- 10.50s\n",
      "variable fulladdress_homephone_ssn_count_14 ---> Done\n",
      "Run time for variable fulladdress_homephone_ssn_count_14 -------------- 14.55s\n",
      "variable fulladdress_homephone_ssn_count_30 ---> Done\n",
      "Run time for variable fulladdress_homephone_ssn_count_30 -------------- 17.33s\n",
      "variable fulladdress_homephone_ssn_count_60 ---> Done\n",
      "Run time for variable fulladdress_homephone_ssn_count_60 -------------- 9.41s\n",
      "variable namedob_fulladdress_homephone_ssn_day_since ---> Done\n",
      "Run time for variable namedob_fulladdress_homephone_ssn_day_since -------------- 9.38s\n",
      "variable namedob_fulladdress_homephone_ssn_count_0 ---> Done\n",
      "Run time for variable namedob_fulladdress_homephone_ssn_count_0 -------------- 8.73s\n",
      "variable namedob_fulladdress_homephone_ssn_count_1 ---> Done\n",
      "Run time for variable namedob_fulladdress_homephone_ssn_count_1 -------------- 10.19s\n",
      "variable namedob_fulladdress_homephone_ssn_count_3 ---> Done\n",
      "Run time for variable namedob_fulladdress_homephone_ssn_count_3 -------------- 8.67s\n",
      "variable namedob_fulladdress_homephone_ssn_count_7 ---> Done\n",
      "Run time for variable namedob_fulladdress_homephone_ssn_count_7 -------------- 8.95s\n",
      "variable namedob_fulladdress_homephone_ssn_count_14 ---> Done\n",
      "Run time for variable namedob_fulladdress_homephone_ssn_count_14 -------------- 9.37s\n",
      "variable namedob_fulladdress_homephone_ssn_count_30 ---> Done\n",
      "Run time for variable namedob_fulladdress_homephone_ssn_count_30 -------------- 9.75s\n",
      "variable namedob_fulladdress_homephone_ssn_count_60 ---> Done\n",
      "Run time for variable namedob_fulladdress_homephone_ssn_count_60 -------------- 9.59s\n",
      "variable firstname_fulladdress_homephone_day_since ---> Done\n",
      "Run time for variable firstname_fulladdress_homephone_day_since -------------- 9.27s\n",
      "variable firstname_fulladdress_homephone_count_0 ---> Done\n",
      "Run time for variable firstname_fulladdress_homephone_count_0 -------------- 9.84s\n",
      "variable firstname_fulladdress_homephone_count_1 ---> Done\n",
      "Run time for variable firstname_fulladdress_homephone_count_1 -------------- 8.77s\n",
      "variable firstname_fulladdress_homephone_count_3 ---> Done\n",
      "Run time for variable firstname_fulladdress_homephone_count_3 -------------- 9.62s\n",
      "variable firstname_fulladdress_homephone_count_7 ---> Done\n",
      "Run time for variable firstname_fulladdress_homephone_count_7 -------------- 10.23s\n",
      "variable firstname_fulladdress_homephone_count_14 ---> Done\n",
      "Run time for variable firstname_fulladdress_homephone_count_14 -------------- 9.46s\n",
      "variable firstname_fulladdress_homephone_count_30 ---> Done\n",
      "Run time for variable firstname_fulladdress_homephone_count_30 -------------- 9.63s\n",
      "variable firstname_fulladdress_homephone_count_60 ---> Done\n",
      "Run time for variable firstname_fulladdress_homephone_count_60 -------------- 10.81s\n",
      "variable firstname_fulladdress_ssn_day_since ---> Done\n",
      "Run time for variable firstname_fulladdress_ssn_day_since -------------- 11.16s\n",
      "variable firstname_fulladdress_ssn_count_0 ---> Done\n",
      "Run time for variable firstname_fulladdress_ssn_count_0 -------------- 9.15s\n",
      "variable firstname_fulladdress_ssn_count_1 ---> Done\n",
      "Run time for variable firstname_fulladdress_ssn_count_1 -------------- 15.49s\n",
      "variable firstname_fulladdress_ssn_count_3 ---> Done\n",
      "Run time for variable firstname_fulladdress_ssn_count_3 -------------- 8.70s\n",
      "variable firstname_fulladdress_ssn_count_7 ---> Done\n",
      "Run time for variable firstname_fulladdress_ssn_count_7 -------------- 14.18s\n"
     ]
    },
    {
     "name": "stdout",
     "output_type": "stream",
     "text": [
      "variable firstname_fulladdress_ssn_count_14 ---> Done\n",
      "Run time for variable firstname_fulladdress_ssn_count_14 -------------- 15.91s\n",
      "variable firstname_fulladdress_ssn_count_30 ---> Done\n",
      "Run time for variable firstname_fulladdress_ssn_count_30 -------------- 14.91s\n",
      "variable firstname_fulladdress_ssn_count_60 ---> Done\n",
      "Run time for variable firstname_fulladdress_ssn_count_60 -------------- 14.07s\n",
      "variable firstname_homephone_ssn_day_since ---> Done\n",
      "Run time for variable firstname_homephone_ssn_day_since -------------- 10.95s\n",
      "variable firstname_homephone_ssn_count_0 ---> Done\n",
      "Run time for variable firstname_homephone_ssn_count_0 -------------- 8.22s\n",
      "variable firstname_homephone_ssn_count_1 ---> Done\n",
      "Run time for variable firstname_homephone_ssn_count_1 -------------- 10.09s\n",
      "variable firstname_homephone_ssn_count_3 ---> Done\n",
      "Run time for variable firstname_homephone_ssn_count_3 -------------- 10.25s\n",
      "variable firstname_homephone_ssn_count_7 ---> Done\n",
      "Run time for variable firstname_homephone_ssn_count_7 -------------- 11.24s\n",
      "variable firstname_homephone_ssn_count_14 ---> Done\n",
      "Run time for variable firstname_homephone_ssn_count_14 -------------- 10.51s\n",
      "variable firstname_homephone_ssn_count_30 ---> Done\n",
      "Run time for variable firstname_homephone_ssn_count_30 -------------- 10.84s\n",
      "variable firstname_homephone_ssn_count_60 ---> Done\n",
      "Run time for variable firstname_homephone_ssn_count_60 -------------- 12.75s\n",
      "variable firstname_fulladdress_homephone_ssn_day_since ---> Done\n",
      "Run time for variable firstname_fulladdress_homephone_ssn_day_since -------------- 16.63s\n",
      "variable firstname_fulladdress_homephone_ssn_count_0 ---> Done\n",
      "Run time for variable firstname_fulladdress_homephone_ssn_count_0 -------------- 11.52s\n",
      "variable firstname_fulladdress_homephone_ssn_count_1 ---> Done\n",
      "Run time for variable firstname_fulladdress_homephone_ssn_count_1 -------------- 14.81s\n",
      "variable firstname_fulladdress_homephone_ssn_count_3 ---> Done\n",
      "Run time for variable firstname_fulladdress_homephone_ssn_count_3 -------------- 9.63s\n",
      "variable firstname_fulladdress_homephone_ssn_count_7 ---> Done\n",
      "Run time for variable firstname_fulladdress_homephone_ssn_count_7 -------------- 8.59s\n",
      "variable firstname_fulladdress_homephone_ssn_count_14 ---> Done\n",
      "Run time for variable firstname_fulladdress_homephone_ssn_count_14 -------------- 10.98s\n",
      "variable firstname_fulladdress_homephone_ssn_count_30 ---> Done\n",
      "Run time for variable firstname_fulladdress_homephone_ssn_count_30 -------------- 9.19s\n",
      "variable firstname_fulladdress_homephone_ssn_count_60 ---> Done\n",
      "Run time for variable firstname_fulladdress_homephone_ssn_count_60 -------------- 10.82s\n",
      "variable lastname_fulladdress_homephone_day_since ---> Done\n",
      "Run time for variable lastname_fulladdress_homephone_day_since -------------- 8.41s\n",
      "variable lastname_fulladdress_homephone_count_0 ---> Done\n",
      "Run time for variable lastname_fulladdress_homephone_count_0 -------------- 11.01s\n",
      "variable lastname_fulladdress_homephone_count_1 ---> Done\n",
      "Run time for variable lastname_fulladdress_homephone_count_1 -------------- 16.75s\n",
      "variable lastname_fulladdress_homephone_count_3 ---> Done\n",
      "Run time for variable lastname_fulladdress_homephone_count_3 -------------- 8.71s\n",
      "variable lastname_fulladdress_homephone_count_7 ---> Done\n",
      "Run time for variable lastname_fulladdress_homephone_count_7 -------------- 10.66s\n",
      "variable lastname_fulladdress_homephone_count_14 ---> Done\n",
      "Run time for variable lastname_fulladdress_homephone_count_14 -------------- 8.56s\n",
      "variable lastname_fulladdress_homephone_count_30 ---> Done\n",
      "Run time for variable lastname_fulladdress_homephone_count_30 -------------- 10.33s\n",
      "variable lastname_fulladdress_homephone_count_60 ---> Done\n",
      "Run time for variable lastname_fulladdress_homephone_count_60 -------------- 10.94s\n",
      "variable lastname_fulladdress_ssn_day_since ---> Done\n",
      "Run time for variable lastname_fulladdress_ssn_day_since -------------- 9.52s\n",
      "variable lastname_fulladdress_ssn_count_0 ---> Done\n",
      "Run time for variable lastname_fulladdress_ssn_count_0 -------------- 10.50s\n",
      "variable lastname_fulladdress_ssn_count_1 ---> Done\n",
      "Run time for variable lastname_fulladdress_ssn_count_1 -------------- 10.37s\n",
      "variable lastname_fulladdress_ssn_count_3 ---> Done\n",
      "Run time for variable lastname_fulladdress_ssn_count_3 -------------- 12.73s\n",
      "variable lastname_fulladdress_ssn_count_7 ---> Done\n",
      "Run time for variable lastname_fulladdress_ssn_count_7 -------------- 13.55s\n",
      "variable lastname_fulladdress_ssn_count_14 ---> Done\n",
      "Run time for variable lastname_fulladdress_ssn_count_14 -------------- 13.45s\n",
      "variable lastname_fulladdress_ssn_count_30 ---> Done\n",
      "Run time for variable lastname_fulladdress_ssn_count_30 -------------- 11.36s\n",
      "variable lastname_fulladdress_ssn_count_60 ---> Done\n",
      "Run time for variable lastname_fulladdress_ssn_count_60 -------------- 12.16s\n",
      "variable lastname_homephone_ssn_day_since ---> Done\n",
      "Run time for variable lastname_homephone_ssn_day_since -------------- 12.93s\n",
      "variable lastname_homephone_ssn_count_0 ---> Done\n",
      "Run time for variable lastname_homephone_ssn_count_0 -------------- 9.69s\n",
      "variable lastname_homephone_ssn_count_1 ---> Done\n",
      "Run time for variable lastname_homephone_ssn_count_1 -------------- 8.69s\n",
      "variable lastname_homephone_ssn_count_3 ---> Done\n",
      "Run time for variable lastname_homephone_ssn_count_3 -------------- 10.21s\n",
      "variable lastname_homephone_ssn_count_7 ---> Done\n",
      "Run time for variable lastname_homephone_ssn_count_7 -------------- 8.98s\n",
      "variable lastname_homephone_ssn_count_14 ---> Done\n",
      "Run time for variable lastname_homephone_ssn_count_14 -------------- 9.45s\n",
      "variable lastname_homephone_ssn_count_30 ---> Done\n",
      "Run time for variable lastname_homephone_ssn_count_30 -------------- 9.52s\n",
      "variable lastname_homephone_ssn_count_60 ---> Done\n",
      "Run time for variable lastname_homephone_ssn_count_60 -------------- 13.16s\n",
      "variable lastname_fulladdress_homephone_ssn_day_since ---> Done\n",
      "Run time for variable lastname_fulladdress_homephone_ssn_day_since -------------- 16.53s\n",
      "variable lastname_fulladdress_homephone_ssn_count_0 ---> Done\n",
      "Run time for variable lastname_fulladdress_homephone_ssn_count_0 -------------- 9.65s\n",
      "variable lastname_fulladdress_homephone_ssn_count_1 ---> Done\n",
      "Run time for variable lastname_fulladdress_homephone_ssn_count_1 -------------- 8.81s\n",
      "variable lastname_fulladdress_homephone_ssn_count_3 ---> Done\n",
      "Run time for variable lastname_fulladdress_homephone_ssn_count_3 -------------- 11.58s\n",
      "variable lastname_fulladdress_homephone_ssn_count_7 ---> Done\n",
      "Run time for variable lastname_fulladdress_homephone_ssn_count_7 -------------- 10.54s\n",
      "variable lastname_fulladdress_homephone_ssn_count_14 ---> Done\n",
      "Run time for variable lastname_fulladdress_homephone_ssn_count_14 -------------- 10.77s\n",
      "variable lastname_fulladdress_homephone_ssn_count_30 ---> Done\n",
      "Run time for variable lastname_fulladdress_homephone_ssn_count_30 -------------- 11.64s\n",
      "variable lastname_fulladdress_homephone_ssn_count_60 ---> Done\n",
      "Run time for variable lastname_fulladdress_homephone_ssn_count_60 -------------- 10.25s\n",
      "variable zip_namedob_homephone_day_since ---> Done\n",
      "Run time for variable zip_namedob_homephone_day_since -------------- 12.85s\n",
      "variable zip_namedob_homephone_count_0 ---> Done\n",
      "Run time for variable zip_namedob_homephone_count_0 -------------- 15.62s\n",
      "variable zip_namedob_homephone_count_1 ---> Done\n",
      "Run time for variable zip_namedob_homephone_count_1 -------------- 12.09s\n",
      "variable zip_namedob_homephone_count_3 ---> Done\n",
      "Run time for variable zip_namedob_homephone_count_3 -------------- 13.90s\n",
      "variable zip_namedob_homephone_count_7 ---> Done\n",
      "Run time for variable zip_namedob_homephone_count_7 -------------- 16.90s\n",
      "variable zip_namedob_homephone_count_14 ---> Done\n",
      "Run time for variable zip_namedob_homephone_count_14 -------------- 10.66s\n",
      "variable zip_namedob_homephone_count_30 ---> Done\n",
      "Run time for variable zip_namedob_homephone_count_30 -------------- 10.44s\n",
      "variable zip_namedob_homephone_count_60 ---> Done\n",
      "Run time for variable zip_namedob_homephone_count_60 -------------- 11.41s\n",
      "variable zip_namedob_ssn_day_since ---> Done\n",
      "Run time for variable zip_namedob_ssn_day_since -------------- 9.75s\n",
      "variable zip_namedob_ssn_count_0 ---> Done\n",
      "Run time for variable zip_namedob_ssn_count_0 -------------- 8.97s\n"
     ]
    },
    {
     "name": "stdout",
     "output_type": "stream",
     "text": [
      "variable zip_namedob_ssn_count_1 ---> Done\n",
      "Run time for variable zip_namedob_ssn_count_1 -------------- 9.54s\n",
      "variable zip_namedob_ssn_count_3 ---> Done\n",
      "Run time for variable zip_namedob_ssn_count_3 -------------- 9.84s\n",
      "variable zip_namedob_ssn_count_7 ---> Done\n",
      "Run time for variable zip_namedob_ssn_count_7 -------------- 10.99s\n",
      "variable zip_namedob_ssn_count_14 ---> Done\n",
      "Run time for variable zip_namedob_ssn_count_14 -------------- 8.89s\n",
      "variable zip_namedob_ssn_count_30 ---> Done\n",
      "Run time for variable zip_namedob_ssn_count_30 -------------- 10.56s\n",
      "variable zip_namedob_ssn_count_60 ---> Done\n",
      "Run time for variable zip_namedob_ssn_count_60 -------------- 9.12s\n",
      "variable zip_homephone_ssn_day_since ---> Done\n",
      "Run time for variable zip_homephone_ssn_day_since -------------- 9.93s\n",
      "variable zip_homephone_ssn_count_0 ---> Done\n",
      "Run time for variable zip_homephone_ssn_count_0 -------------- 10.43s\n",
      "variable zip_homephone_ssn_count_1 ---> Done\n",
      "Run time for variable zip_homephone_ssn_count_1 -------------- 15.05s\n",
      "variable zip_homephone_ssn_count_3 ---> Done\n",
      "Run time for variable zip_homephone_ssn_count_3 -------------- 11.24s\n",
      "variable zip_homephone_ssn_count_7 ---> Done\n",
      "Run time for variable zip_homephone_ssn_count_7 -------------- 16.69s\n",
      "variable zip_homephone_ssn_count_14 ---> Done\n",
      "Run time for variable zip_homephone_ssn_count_14 -------------- 18.34s\n",
      "variable zip_homephone_ssn_count_30 ---> Done\n",
      "Run time for variable zip_homephone_ssn_count_30 -------------- 13.63s\n",
      "variable zip_homephone_ssn_count_60 ---> Done\n",
      "Run time for variable zip_homephone_ssn_count_60 -------------- 13.41s\n",
      "variable zip_namedob_homephone_ssn_day_since ---> Done\n",
      "Run time for variable zip_namedob_homephone_ssn_day_since -------------- 10.46s\n",
      "variable zip_namedob_homephone_ssn_count_0 ---> Done\n",
      "Run time for variable zip_namedob_homephone_ssn_count_0 -------------- 9.10s\n",
      "variable zip_namedob_homephone_ssn_count_1 ---> Done\n",
      "Run time for variable zip_namedob_homephone_ssn_count_1 -------------- 9.76s\n",
      "variable zip_namedob_homephone_ssn_count_3 ---> Done\n",
      "Run time for variable zip_namedob_homephone_ssn_count_3 -------------- 9.72s\n",
      "variable zip_namedob_homephone_ssn_count_7 ---> Done\n",
      "Run time for variable zip_namedob_homephone_ssn_count_7 -------------- 9.11s\n",
      "variable zip_namedob_homephone_ssn_count_14 ---> Done\n",
      "Run time for variable zip_namedob_homephone_ssn_count_14 -------------- 10.31s\n",
      "variable zip_namedob_homephone_ssn_count_30 ---> Done\n",
      "Run time for variable zip_namedob_homephone_ssn_count_30 -------------- 10.44s\n",
      "variable zip_namedob_homephone_ssn_count_60 ---> Done\n",
      "Run time for variable zip_namedob_homephone_ssn_count_60 -------------- 8.69s\n",
      "variable ssn_count_0_by_3 ---> Done\n",
      "Run time for variable ssn_count_0_by_3 -------------- 9.86s\n",
      "variable ssn_count_0_by_7 ---> Done\n",
      "Run time for variable ssn_count_0_by_7 -------------- 9.50s\n",
      "variable ssn_count_0_by_14 ---> Done\n",
      "Run time for variable ssn_count_0_by_14 -------------- 14.34s\n",
      "variable ssn_count_0_by_30 ---> Done\n",
      "Run time for variable ssn_count_0_by_30 -------------- 11.45s\n",
      "variable ssn_count_1_by_3 ---> Done\n",
      "Run time for variable ssn_count_1_by_3 -------------- 16.60s\n",
      "variable ssn_count_1_by_7 ---> Done\n",
      "Run time for variable ssn_count_1_by_7 -------------- 16.50s\n",
      "variable ssn_count_1_by_14 ---> Done\n",
      "Run time for variable ssn_count_1_by_14 -------------- 11.08s\n",
      "variable ssn_count_1_by_30 ---> Done\n",
      "Run time for variable ssn_count_1_by_30 -------------- 10.94s\n",
      "variable address_count_0_by_3 ---> Done\n",
      "Run time for variable address_count_0_by_3 -------------- 11.50s\n",
      "variable address_count_0_by_7 ---> Done\n",
      "Run time for variable address_count_0_by_7 -------------- 8.00s\n",
      "variable address_count_0_by_14 ---> Done\n",
      "Run time for variable address_count_0_by_14 -------------- 12.02s\n",
      "variable address_count_0_by_30 ---> Done\n",
      "Run time for variable address_count_0_by_30 -------------- 13.89s\n",
      "variable address_count_1_by_3 ---> Done\n",
      "Run time for variable address_count_1_by_3 -------------- 7.16s\n",
      "variable address_count_1_by_7 ---> Done\n",
      "Run time for variable address_count_1_by_7 -------------- 9.95s\n",
      "variable address_count_1_by_14 ---> Done\n",
      "Run time for variable address_count_1_by_14 -------------- 10.83s\n",
      "variable address_count_1_by_30 ---> Done\n",
      "Run time for variable address_count_1_by_30 -------------- 11.11s\n",
      "variable dob_count_0_by_3 ---> Done\n",
      "Run time for variable dob_count_0_by_3 -------------- 10.40s\n",
      "variable dob_count_0_by_7 ---> Done\n",
      "Run time for variable dob_count_0_by_7 -------------- 11.56s\n",
      "variable dob_count_0_by_14 ---> Done\n",
      "Run time for variable dob_count_0_by_14 -------------- 15.84s\n",
      "variable dob_count_0_by_30 ---> Done\n",
      "Run time for variable dob_count_0_by_30 -------------- 11.67s\n",
      "variable dob_count_1_by_3 ---> Done\n",
      "Run time for variable dob_count_1_by_3 -------------- 15.86s\n",
      "variable dob_count_1_by_7 ---> Done\n",
      "Run time for variable dob_count_1_by_7 -------------- 15.43s\n",
      "variable dob_count_1_by_14 ---> Done\n",
      "Run time for variable dob_count_1_by_14 -------------- 20.82s\n",
      "variable dob_count_1_by_30 ---> Done\n",
      "Run time for variable dob_count_1_by_30 -------------- 16.53s\n",
      "variable homephone_count_0_by_3 ---> Done\n",
      "Run time for variable homephone_count_0_by_3 -------------- 9.85s\n",
      "variable homephone_count_0_by_7 ---> Done\n",
      "Run time for variable homephone_count_0_by_7 -------------- 9.94s\n",
      "variable homephone_count_0_by_14 ---> Done\n",
      "Run time for variable homephone_count_0_by_14 -------------- 9.60s\n",
      "variable homephone_count_0_by_30 ---> Done\n",
      "Run time for variable homephone_count_0_by_30 -------------- 11.24s\n",
      "variable homephone_count_1_by_3 ---> Done\n",
      "Run time for variable homephone_count_1_by_3 -------------- 8.31s\n",
      "variable homephone_count_1_by_7 ---> Done\n",
      "Run time for variable homephone_count_1_by_7 -------------- 9.32s\n",
      "variable homephone_count_1_by_14 ---> Done\n",
      "Run time for variable homephone_count_1_by_14 -------------- 9.03s\n",
      "variable homephone_count_1_by_30 ---> Done\n",
      "Run time for variable homephone_count_1_by_30 -------------- 9.99s\n",
      "variable namedob_count_0_by_3 ---> Done\n",
      "Run time for variable namedob_count_0_by_3 -------------- 8.85s\n",
      "variable namedob_count_0_by_7 ---> Done\n",
      "Run time for variable namedob_count_0_by_7 -------------- 13.39s\n",
      "variable namedob_count_0_by_14 ---> Done\n",
      "Run time for variable namedob_count_0_by_14 -------------- 7.19s\n",
      "variable namedob_count_0_by_30 ---> Done\n",
      "Run time for variable namedob_count_0_by_30 -------------- 12.26s\n",
      "variable namedob_count_1_by_3 ---> Done\n",
      "Run time for variable namedob_count_1_by_3 -------------- 10.55s\n",
      "variable namedob_count_1_by_7 ---> Done\n",
      "Run time for variable namedob_count_1_by_7 -------------- 9.64s\n",
      "variable namedob_count_1_by_14 ---> Done\n",
      "Run time for variable namedob_count_1_by_14 -------------- 11.69s\n",
      "variable namedob_count_1_by_30 ---> Done\n",
      "Run time for variable namedob_count_1_by_30 -------------- 12.70s\n",
      "variable namedob_fulladdress_count_0_by_3 ---> Done\n",
      "Run time for variable namedob_fulladdress_count_0_by_3 -------------- 11.61s\n",
      "variable namedob_fulladdress_count_0_by_7 ---> Done\n",
      "Run time for variable namedob_fulladdress_count_0_by_7 -------------- 11.23s\n",
      "variable namedob_fulladdress_count_0_by_14 ---> Done\n",
      "Run time for variable namedob_fulladdress_count_0_by_14 -------------- 13.87s\n",
      "variable namedob_fulladdress_count_0_by_30 ---> Done\n",
      "Run time for variable namedob_fulladdress_count_0_by_30 -------------- 14.99s\n",
      "variable namedob_fulladdress_count_1_by_3 ---> Done\n",
      "Run time for variable namedob_fulladdress_count_1_by_3 -------------- 16.81s\n",
      "variable namedob_fulladdress_count_1_by_7 ---> Done\n",
      "Run time for variable namedob_fulladdress_count_1_by_7 -------------- 15.99s\n",
      "variable namedob_fulladdress_count_1_by_14 ---> Done\n",
      "Run time for variable namedob_fulladdress_count_1_by_14 -------------- 18.41s\n",
      "variable namedob_fulladdress_count_1_by_30 ---> Done\n",
      "Run time for variable namedob_fulladdress_count_1_by_30 -------------- 12.62s\n",
      "variable namedob_homephone_count_0_by_3 ---> Done\n",
      "Run time for variable namedob_homephone_count_0_by_3 -------------- 8.91s\n",
      "variable namedob_homephone_count_0_by_7 ---> Done\n",
      "Run time for variable namedob_homephone_count_0_by_7 -------------- 9.19s\n",
      "variable namedob_homephone_count_0_by_14 ---> Done\n",
      "Run time for variable namedob_homephone_count_0_by_14 -------------- 9.47s\n"
     ]
    },
    {
     "name": "stdout",
     "output_type": "stream",
     "text": [
      "variable namedob_homephone_count_0_by_30 ---> Done\n",
      "Run time for variable namedob_homephone_count_0_by_30 -------------- 9.31s\n",
      "variable namedob_homephone_count_1_by_3 ---> Done\n",
      "Run time for variable namedob_homephone_count_1_by_3 -------------- 9.72s\n",
      "variable namedob_homephone_count_1_by_7 ---> Done\n",
      "Run time for variable namedob_homephone_count_1_by_7 -------------- 11.22s\n",
      "variable namedob_homephone_count_1_by_14 ---> Done\n",
      "Run time for variable namedob_homephone_count_1_by_14 -------------- 11.01s\n",
      "variable namedob_homephone_count_1_by_30 ---> Done\n",
      "Run time for variable namedob_homephone_count_1_by_30 -------------- 7.99s\n",
      "variable namedob_ssn_count_0_by_3 ---> Done\n",
      "Run time for variable namedob_ssn_count_0_by_3 -------------- 9.88s\n",
      "variable namedob_ssn_count_0_by_7 ---> Done\n",
      "Run time for variable namedob_ssn_count_0_by_7 -------------- 11.62s\n",
      "variable namedob_ssn_count_0_by_14 ---> Done\n",
      "Run time for variable namedob_ssn_count_0_by_14 -------------- 10.06s\n",
      "variable namedob_ssn_count_0_by_30 ---> Done\n",
      "Run time for variable namedob_ssn_count_0_by_30 -------------- 14.43s\n",
      "variable namedob_ssn_count_1_by_3 ---> Done\n",
      "Run time for variable namedob_ssn_count_1_by_3 -------------- 18.91s\n",
      "variable namedob_ssn_count_1_by_7 ---> Done\n",
      "Run time for variable namedob_ssn_count_1_by_7 -------------- 16.12s\n",
      "variable namedob_ssn_count_1_by_14 ---> Done\n",
      "Run time for variable namedob_ssn_count_1_by_14 -------------- 8.82s\n",
      "variable namedob_ssn_count_1_by_30 ---> Done\n",
      "Run time for variable namedob_ssn_count_1_by_30 -------------- 9.09s\n",
      "variable fulladdress_homephone_count_0_by_3 ---> Done\n",
      "Run time for variable fulladdress_homephone_count_0_by_3 -------------- 11.56s\n",
      "variable fulladdress_homephone_count_0_by_7 ---> Done\n",
      "Run time for variable fulladdress_homephone_count_0_by_7 -------------- 7.96s\n",
      "variable fulladdress_homephone_count_0_by_14 ---> Done\n",
      "Run time for variable fulladdress_homephone_count_0_by_14 -------------- 12.41s\n",
      "variable fulladdress_homephone_count_0_by_30 ---> Done\n",
      "Run time for variable fulladdress_homephone_count_0_by_30 -------------- 10.19s\n",
      "variable fulladdress_homephone_count_1_by_3 ---> Done\n",
      "Run time for variable fulladdress_homephone_count_1_by_3 -------------- 9.41s\n",
      "variable fulladdress_homephone_count_1_by_7 ---> Done\n",
      "Run time for variable fulladdress_homephone_count_1_by_7 -------------- 9.43s\n",
      "variable fulladdress_homephone_count_1_by_14 ---> Done\n",
      "Run time for variable fulladdress_homephone_count_1_by_14 -------------- 12.11s\n",
      "variable fulladdress_homephone_count_1_by_30 ---> Done\n",
      "Run time for variable fulladdress_homephone_count_1_by_30 -------------- 7.67s\n",
      "variable fulladdress_ssn_count_0_by_3 ---> Done\n",
      "Run time for variable fulladdress_ssn_count_0_by_3 -------------- 12.01s\n",
      "variable fulladdress_ssn_count_0_by_7 ---> Done\n",
      "Run time for variable fulladdress_ssn_count_0_by_7 -------------- 10.02s\n",
      "variable fulladdress_ssn_count_0_by_14 ---> Done\n",
      "Run time for variable fulladdress_ssn_count_0_by_14 -------------- 10.42s\n",
      "variable fulladdress_ssn_count_0_by_30 ---> Done\n",
      "Run time for variable fulladdress_ssn_count_0_by_30 -------------- 11.27s\n",
      "variable fulladdress_ssn_count_1_by_3 ---> Done\n",
      "Run time for variable fulladdress_ssn_count_1_by_3 -------------- 11.40s\n",
      "variable fulladdress_ssn_count_1_by_7 ---> Done\n",
      "Run time for variable fulladdress_ssn_count_1_by_7 -------------- 17.12s\n",
      "variable fulladdress_ssn_count_1_by_14 ---> Done\n",
      "Run time for variable fulladdress_ssn_count_1_by_14 -------------- 10.45s\n",
      "variable fulladdress_ssn_count_1_by_30 ---> Done\n",
      "Run time for variable fulladdress_ssn_count_1_by_30 -------------- 13.06s\n",
      "variable homephone_ssn_count_0_by_3 ---> Done\n",
      "Run time for variable homephone_ssn_count_0_by_3 -------------- 14.13s\n",
      "variable homephone_ssn_count_0_by_7 ---> Done\n",
      "Run time for variable homephone_ssn_count_0_by_7 -------------- 11.96s\n",
      "variable homephone_ssn_count_0_by_14 ---> Done\n",
      "Run time for variable homephone_ssn_count_0_by_14 -------------- 13.83s\n",
      "variable homephone_ssn_count_0_by_30 ---> Done\n",
      "Run time for variable homephone_ssn_count_0_by_30 -------------- 15.39s\n",
      "variable homephone_ssn_count_1_by_3 ---> Done\n",
      "Run time for variable homephone_ssn_count_1_by_3 -------------- 15.43s\n",
      "variable homephone_ssn_count_1_by_7 ---> Done\n",
      "Run time for variable homephone_ssn_count_1_by_7 -------------- 11.74s\n",
      "variable homephone_ssn_count_1_by_14 ---> Done\n",
      "Run time for variable homephone_ssn_count_1_by_14 -------------- 11.93s\n",
      "variable homephone_ssn_count_1_by_30 ---> Done\n",
      "Run time for variable homephone_ssn_count_1_by_30 -------------- 16.16s\n",
      "variable namedob_fulladdress_homephone_count_0_by_3 ---> Done\n",
      "Run time for variable namedob_fulladdress_homephone_count_0_by_3 -------------- 17.56s\n",
      "variable namedob_fulladdress_homephone_count_0_by_7 ---> Done\n",
      "Run time for variable namedob_fulladdress_homephone_count_0_by_7 -------------- 10.23s\n",
      "variable namedob_fulladdress_homephone_count_0_by_14 ---> Done\n",
      "Run time for variable namedob_fulladdress_homephone_count_0_by_14 -------------- 10.11s\n",
      "variable namedob_fulladdress_homephone_count_0_by_30 ---> Done\n",
      "Run time for variable namedob_fulladdress_homephone_count_0_by_30 -------------- 13.60s\n",
      "variable namedob_fulladdress_homephone_count_1_by_3 ---> Done\n",
      "Run time for variable namedob_fulladdress_homephone_count_1_by_3 -------------- 14.88s\n",
      "variable namedob_fulladdress_homephone_count_1_by_7 ---> Done\n",
      "Run time for variable namedob_fulladdress_homephone_count_1_by_7 -------------- 11.79s\n",
      "variable namedob_fulladdress_homephone_count_1_by_14 ---> Done\n",
      "Run time for variable namedob_fulladdress_homephone_count_1_by_14 -------------- 13.00s\n",
      "variable namedob_fulladdress_homephone_count_1_by_30 ---> Done\n",
      "Run time for variable namedob_fulladdress_homephone_count_1_by_30 -------------- 22.78s\n",
      "variable namedob_fulladdress_ssn_count_0_by_3 ---> Done\n",
      "Run time for variable namedob_fulladdress_ssn_count_0_by_3 -------------- 16.07s\n",
      "variable namedob_fulladdress_ssn_count_0_by_7 ---> Done\n",
      "Run time for variable namedob_fulladdress_ssn_count_0_by_7 -------------- 11.86s\n",
      "variable namedob_fulladdress_ssn_count_0_by_14 ---> Done\n",
      "Run time for variable namedob_fulladdress_ssn_count_0_by_14 -------------- 11.47s\n",
      "variable namedob_fulladdress_ssn_count_0_by_30 ---> Done\n",
      "Run time for variable namedob_fulladdress_ssn_count_0_by_30 -------------- 9.52s\n",
      "variable namedob_fulladdress_ssn_count_1_by_3 ---> Done\n",
      "Run time for variable namedob_fulladdress_ssn_count_1_by_3 -------------- 9.68s\n",
      "variable namedob_fulladdress_ssn_count_1_by_7 ---> Done\n",
      "Run time for variable namedob_fulladdress_ssn_count_1_by_7 -------------- 9.99s\n",
      "variable namedob_fulladdress_ssn_count_1_by_14 ---> Done\n",
      "Run time for variable namedob_fulladdress_ssn_count_1_by_14 -------------- 9.88s\n",
      "variable namedob_fulladdress_ssn_count_1_by_30 ---> Done\n",
      "Run time for variable namedob_fulladdress_ssn_count_1_by_30 -------------- 9.95s\n",
      "variable namedob_homephone_ssn_count_0_by_3 ---> Done\n",
      "Run time for variable namedob_homephone_ssn_count_0_by_3 -------------- 9.76s\n",
      "variable namedob_homephone_ssn_count_0_by_7 ---> Done\n",
      "Run time for variable namedob_homephone_ssn_count_0_by_7 -------------- 9.73s\n",
      "variable namedob_homephone_ssn_count_0_by_14 ---> Done\n",
      "Run time for variable namedob_homephone_ssn_count_0_by_14 -------------- 9.86s\n",
      "variable namedob_homephone_ssn_count_0_by_30 ---> Done\n",
      "Run time for variable namedob_homephone_ssn_count_0_by_30 -------------- 8.16s\n",
      "variable namedob_homephone_ssn_count_1_by_3 ---> Done\n",
      "Run time for variable namedob_homephone_ssn_count_1_by_3 -------------- 9.80s\n",
      "variable namedob_homephone_ssn_count_1_by_7 ---> Done\n",
      "Run time for variable namedob_homephone_ssn_count_1_by_7 -------------- 12.69s\n",
      "variable namedob_homephone_ssn_count_1_by_14 ---> Done\n",
      "Run time for variable namedob_homephone_ssn_count_1_by_14 -------------- 14.82s\n",
      "variable namedob_homephone_ssn_count_1_by_30 ---> Done\n",
      "Run time for variable namedob_homephone_ssn_count_1_by_30 -------------- 12.13s\n",
      "variable fulladdress_homephone_ssn_count_0_by_3 ---> Done\n",
      "Run time for variable fulladdress_homephone_ssn_count_0_by_3 -------------- 14.28s\n",
      "variable fulladdress_homephone_ssn_count_0_by_7 ---> Done\n",
      "Run time for variable fulladdress_homephone_ssn_count_0_by_7 -------------- 20.73s\n",
      "variable fulladdress_homephone_ssn_count_0_by_14 ---> Done\n",
      "Run time for variable fulladdress_homephone_ssn_count_0_by_14 -------------- 12.10s\n"
     ]
    },
    {
     "name": "stdout",
     "output_type": "stream",
     "text": [
      "variable fulladdress_homephone_ssn_count_0_by_30 ---> Done\n",
      "Run time for variable fulladdress_homephone_ssn_count_0_by_30 -------------- 13.12s\n",
      "variable fulladdress_homephone_ssn_count_1_by_3 ---> Done\n",
      "Run time for variable fulladdress_homephone_ssn_count_1_by_3 -------------- 13.84s\n",
      "variable fulladdress_homephone_ssn_count_1_by_7 ---> Done\n",
      "Run time for variable fulladdress_homephone_ssn_count_1_by_7 -------------- 9.60s\n",
      "variable fulladdress_homephone_ssn_count_1_by_14 ---> Done\n",
      "Run time for variable fulladdress_homephone_ssn_count_1_by_14 -------------- 13.75s\n",
      "variable fulladdress_homephone_ssn_count_1_by_30 ---> Done\n",
      "Run time for variable fulladdress_homephone_ssn_count_1_by_30 -------------- 11.04s\n",
      "variable namedob_fulladdress_homephone_ssn_count_0_by_3 ---> Done\n",
      "Run time for variable namedob_fulladdress_homephone_ssn_count_0_by_3 -------------- 13.91s\n",
      "variable namedob_fulladdress_homephone_ssn_count_0_by_7 ---> Done\n",
      "Run time for variable namedob_fulladdress_homephone_ssn_count_0_by_7 -------------- 14.76s\n",
      "variable namedob_fulladdress_homephone_ssn_count_0_by_14 ---> Done\n",
      "Run time for variable namedob_fulladdress_homephone_ssn_count_0_by_14 -------------- 12.70s\n",
      "variable namedob_fulladdress_homephone_ssn_count_0_by_30 ---> Done\n",
      "Run time for variable namedob_fulladdress_homephone_ssn_count_0_by_30 -------------- 11.75s\n",
      "variable namedob_fulladdress_homephone_ssn_count_1_by_3 ---> Done\n",
      "Run time for variable namedob_fulladdress_homephone_ssn_count_1_by_3 -------------- 14.40s\n",
      "variable namedob_fulladdress_homephone_ssn_count_1_by_7 ---> Done\n",
      "Run time for variable namedob_fulladdress_homephone_ssn_count_1_by_7 -------------- 7.37s\n",
      "variable namedob_fulladdress_homephone_ssn_count_1_by_14 ---> Done\n",
      "Run time for variable namedob_fulladdress_homephone_ssn_count_1_by_14 -------------- 12.29s\n",
      "variable namedob_fulladdress_homephone_ssn_count_1_by_30 ---> Done\n",
      "Run time for variable namedob_fulladdress_homephone_ssn_count_1_by_30 -------------- 9.68s\n",
      "variable firstname_fulladdress_homephone_count_0_by_3 ---> Done\n",
      "Run time for variable firstname_fulladdress_homephone_count_0_by_3 -------------- 10.37s\n",
      "variable firstname_fulladdress_homephone_count_0_by_7 ---> Done\n",
      "Run time for variable firstname_fulladdress_homephone_count_0_by_7 -------------- 8.94s\n",
      "variable firstname_fulladdress_homephone_count_0_by_14 ---> Done\n",
      "Run time for variable firstname_fulladdress_homephone_count_0_by_14 -------------- 9.53s\n",
      "variable firstname_fulladdress_homephone_count_0_by_30 ---> Done\n",
      "Run time for variable firstname_fulladdress_homephone_count_0_by_30 -------------- 9.50s\n",
      "variable firstname_fulladdress_homephone_count_1_by_3 ---> Done\n",
      "Run time for variable firstname_fulladdress_homephone_count_1_by_3 -------------- 12.01s\n",
      "variable firstname_fulladdress_homephone_count_1_by_7 ---> Done\n",
      "Run time for variable firstname_fulladdress_homephone_count_1_by_7 -------------- 14.82s\n",
      "variable firstname_fulladdress_homephone_count_1_by_14 ---> Done\n",
      "Run time for variable firstname_fulladdress_homephone_count_1_by_14 -------------- 14.70s\n",
      "variable firstname_fulladdress_homephone_count_1_by_30 ---> Done\n",
      "Run time for variable firstname_fulladdress_homephone_count_1_by_30 -------------- 17.69s\n",
      "variable firstname_fulladdress_ssn_count_0_by_3 ---> Done\n",
      "Run time for variable firstname_fulladdress_ssn_count_0_by_3 -------------- 15.12s\n",
      "variable firstname_fulladdress_ssn_count_0_by_7 ---> Done\n",
      "Run time for variable firstname_fulladdress_ssn_count_0_by_7 -------------- 11.33s\n",
      "variable firstname_fulladdress_ssn_count_0_by_14 ---> Done\n",
      "Run time for variable firstname_fulladdress_ssn_count_0_by_14 -------------- 12.36s\n",
      "variable firstname_fulladdress_ssn_count_0_by_30 ---> Done\n",
      "Run time for variable firstname_fulladdress_ssn_count_0_by_30 -------------- 13.94s\n",
      "variable firstname_fulladdress_ssn_count_1_by_3 ---> Done\n",
      "Run time for variable firstname_fulladdress_ssn_count_1_by_3 -------------- 9.53s\n",
      "variable firstname_fulladdress_ssn_count_1_by_7 ---> Done\n",
      "Run time for variable firstname_fulladdress_ssn_count_1_by_7 -------------- 9.13s\n",
      "variable firstname_fulladdress_ssn_count_1_by_14 ---> Done\n",
      "Run time for variable firstname_fulladdress_ssn_count_1_by_14 -------------- 9.24s\n",
      "variable firstname_fulladdress_ssn_count_1_by_30 ---> Done\n",
      "Run time for variable firstname_fulladdress_ssn_count_1_by_30 -------------- 9.46s\n",
      "variable firstname_homephone_ssn_count_0_by_3 ---> Done\n",
      "Run time for variable firstname_homephone_ssn_count_0_by_3 -------------- 9.29s\n",
      "variable firstname_homephone_ssn_count_0_by_7 ---> Done\n",
      "Run time for variable firstname_homephone_ssn_count_0_by_7 -------------- 10.45s\n",
      "variable firstname_homephone_ssn_count_0_by_14 ---> Done\n",
      "Run time for variable firstname_homephone_ssn_count_0_by_14 -------------- 11.65s\n",
      "variable firstname_homephone_ssn_count_0_by_30 ---> Done\n",
      "Run time for variable firstname_homephone_ssn_count_0_by_30 -------------- 12.22s\n",
      "variable firstname_homephone_ssn_count_1_by_3 ---> Done\n",
      "Run time for variable firstname_homephone_ssn_count_1_by_3 -------------- 13.18s\n",
      "variable firstname_homephone_ssn_count_1_by_7 ---> Done\n",
      "Run time for variable firstname_homephone_ssn_count_1_by_7 -------------- 10.95s\n",
      "variable firstname_homephone_ssn_count_1_by_14 ---> Done\n",
      "Run time for variable firstname_homephone_ssn_count_1_by_14 -------------- 15.14s\n",
      "variable firstname_homephone_ssn_count_1_by_30 ---> Done\n",
      "Run time for variable firstname_homephone_ssn_count_1_by_30 -------------- 16.35s\n",
      "variable firstname_fulladdress_homephone_ssn_count_0_by_3 ---> Done\n",
      "Run time for variable firstname_fulladdress_homephone_ssn_count_0_by_3 -------------- 17.05s\n",
      "variable firstname_fulladdress_homephone_ssn_count_0_by_7 ---> Done\n",
      "Run time for variable firstname_fulladdress_homephone_ssn_count_0_by_7 -------------- 15.99s\n",
      "variable firstname_fulladdress_homephone_ssn_count_0_by_14 ---> Done\n",
      "Run time for variable firstname_fulladdress_homephone_ssn_count_0_by_14 -------------- 15.18s\n",
      "variable firstname_fulladdress_homephone_ssn_count_0_by_30 ---> Done\n",
      "Run time for variable firstname_fulladdress_homephone_ssn_count_0_by_30 -------------- 15.43s\n",
      "variable firstname_fulladdress_homephone_ssn_count_1_by_3 ---> Done\n",
      "Run time for variable firstname_fulladdress_homephone_ssn_count_1_by_3 -------------- 9.47s\n",
      "variable firstname_fulladdress_homephone_ssn_count_1_by_7 ---> Done\n",
      "Run time for variable firstname_fulladdress_homephone_ssn_count_1_by_7 -------------- 9.21s\n",
      "variable firstname_fulladdress_homephone_ssn_count_1_by_14 ---> Done\n",
      "Run time for variable firstname_fulladdress_homephone_ssn_count_1_by_14 -------------- 9.42s\n",
      "variable firstname_fulladdress_homephone_ssn_count_1_by_30 ---> Done\n",
      "Run time for variable firstname_fulladdress_homephone_ssn_count_1_by_30 -------------- 9.00s\n",
      "variable lastname_fulladdress_homephone_count_0_by_3 ---> Done\n",
      "Run time for variable lastname_fulladdress_homephone_count_0_by_3 -------------- 9.51s\n",
      "variable lastname_fulladdress_homephone_count_0_by_7 ---> Done\n",
      "Run time for variable lastname_fulladdress_homephone_count_0_by_7 -------------- 10.29s\n",
      "variable lastname_fulladdress_homephone_count_0_by_14 ---> Done\n",
      "Run time for variable lastname_fulladdress_homephone_count_0_by_14 -------------- 9.80s\n",
      "variable lastname_fulladdress_homephone_count_0_by_30 ---> Done\n",
      "Run time for variable lastname_fulladdress_homephone_count_0_by_30 -------------- 9.32s\n",
      "variable lastname_fulladdress_homephone_count_1_by_3 ---> Done\n",
      "Run time for variable lastname_fulladdress_homephone_count_1_by_3 -------------- 9.22s\n",
      "variable lastname_fulladdress_homephone_count_1_by_7 ---> Done\n",
      "Run time for variable lastname_fulladdress_homephone_count_1_by_7 -------------- 10.22s\n",
      "variable lastname_fulladdress_homephone_count_1_by_14 ---> Done\n",
      "Run time for variable lastname_fulladdress_homephone_count_1_by_14 -------------- 13.78s\n",
      "variable lastname_fulladdress_homephone_count_1_by_30 ---> Done\n",
      "Run time for variable lastname_fulladdress_homephone_count_1_by_30 -------------- 16.13s\n",
      "variable lastname_fulladdress_ssn_count_0_by_3 ---> Done\n",
      "Run time for variable lastname_fulladdress_ssn_count_0_by_3 -------------- 13.84s\n",
      "variable lastname_fulladdress_ssn_count_0_by_7 ---> Done\n",
      "Run time for variable lastname_fulladdress_ssn_count_0_by_7 -------------- 15.85s\n"
     ]
    },
    {
     "name": "stdout",
     "output_type": "stream",
     "text": [
      "variable lastname_fulladdress_ssn_count_0_by_14 ---> Done\n",
      "Run time for variable lastname_fulladdress_ssn_count_0_by_14 -------------- 10.41s\n",
      "variable lastname_fulladdress_ssn_count_0_by_30 ---> Done\n",
      "Run time for variable lastname_fulladdress_ssn_count_0_by_30 -------------- 10.10s\n",
      "variable lastname_fulladdress_ssn_count_1_by_3 ---> Done\n",
      "Run time for variable lastname_fulladdress_ssn_count_1_by_3 -------------- 8.84s\n",
      "variable lastname_fulladdress_ssn_count_1_by_7 ---> Done\n",
      "Run time for variable lastname_fulladdress_ssn_count_1_by_7 -------------- 9.37s\n",
      "variable lastname_fulladdress_ssn_count_1_by_14 ---> Done\n",
      "Run time for variable lastname_fulladdress_ssn_count_1_by_14 -------------- 8.92s\n",
      "variable lastname_fulladdress_ssn_count_1_by_30 ---> Done\n",
      "Run time for variable lastname_fulladdress_ssn_count_1_by_30 -------------- 8.90s\n",
      "variable lastname_homephone_ssn_count_0_by_3 ---> Done\n",
      "Run time for variable lastname_homephone_ssn_count_0_by_3 -------------- 11.20s\n",
      "variable lastname_homephone_ssn_count_0_by_7 ---> Done\n",
      "Run time for variable lastname_homephone_ssn_count_0_by_7 -------------- 20.29s\n",
      "variable lastname_homephone_ssn_count_0_by_14 ---> Done\n",
      "Run time for variable lastname_homephone_ssn_count_0_by_14 -------------- 15.21s\n",
      "variable lastname_homephone_ssn_count_0_by_30 ---> Done\n",
      "Run time for variable lastname_homephone_ssn_count_0_by_30 -------------- 8.52s\n",
      "variable lastname_homephone_ssn_count_1_by_3 ---> Done\n",
      "Run time for variable lastname_homephone_ssn_count_1_by_3 -------------- 9.22s\n",
      "variable lastname_homephone_ssn_count_1_by_7 ---> Done\n",
      "Run time for variable lastname_homephone_ssn_count_1_by_7 -------------- 9.54s\n",
      "variable lastname_homephone_ssn_count_1_by_14 ---> Done\n",
      "Run time for variable lastname_homephone_ssn_count_1_by_14 -------------- 10.58s\n",
      "variable lastname_homephone_ssn_count_1_by_30 ---> Done\n",
      "Run time for variable lastname_homephone_ssn_count_1_by_30 -------------- 8.50s\n",
      "variable lastname_fulladdress_homephone_ssn_count_0_by_3 ---> Done\n",
      "Run time for variable lastname_fulladdress_homephone_ssn_count_0_by_3 -------------- 8.73s\n",
      "variable lastname_fulladdress_homephone_ssn_count_0_by_7 ---> Done\n",
      "Run time for variable lastname_fulladdress_homephone_ssn_count_0_by_7 -------------- 11.66s\n",
      "variable lastname_fulladdress_homephone_ssn_count_0_by_14 ---> Done\n",
      "Run time for variable lastname_fulladdress_homephone_ssn_count_0_by_14 -------------- 11.87s\n",
      "variable lastname_fulladdress_homephone_ssn_count_0_by_30 ---> Done\n",
      "Run time for variable lastname_fulladdress_homephone_ssn_count_0_by_30 -------------- 11.19s\n",
      "variable lastname_fulladdress_homephone_ssn_count_1_by_3 ---> Done\n",
      "Run time for variable lastname_fulladdress_homephone_ssn_count_1_by_3 -------------- 7.18s\n",
      "variable lastname_fulladdress_homephone_ssn_count_1_by_7 ---> Done\n",
      "Run time for variable lastname_fulladdress_homephone_ssn_count_1_by_7 -------------- 10.46s\n",
      "variable lastname_fulladdress_homephone_ssn_count_1_by_14 ---> Done\n",
      "Run time for variable lastname_fulladdress_homephone_ssn_count_1_by_14 -------------- 14.50s\n",
      "variable lastname_fulladdress_homephone_ssn_count_1_by_30 ---> Done\n",
      "Run time for variable lastname_fulladdress_homephone_ssn_count_1_by_30 -------------- 14.96s\n",
      "variable zip_namedob_homephone_count_0_by_3 ---> Done\n",
      "Run time for variable zip_namedob_homephone_count_0_by_3 -------------- 14.23s\n",
      "variable zip_namedob_homephone_count_0_by_7 ---> Done\n",
      "Run time for variable zip_namedob_homephone_count_0_by_7 -------------- 15.28s\n",
      "variable zip_namedob_homephone_count_0_by_14 ---> Done\n",
      "Run time for variable zip_namedob_homephone_count_0_by_14 -------------- 15.73s\n",
      "variable zip_namedob_homephone_count_0_by_30 ---> Done\n",
      "Run time for variable zip_namedob_homephone_count_0_by_30 -------------- 13.60s\n",
      "variable zip_namedob_homephone_count_1_by_3 ---> Done\n",
      "Run time for variable zip_namedob_homephone_count_1_by_3 -------------- 13.45s\n",
      "variable zip_namedob_homephone_count_1_by_7 ---> Done\n",
      "Run time for variable zip_namedob_homephone_count_1_by_7 -------------- 17.10s\n",
      "variable zip_namedob_homephone_count_1_by_14 ---> Done\n",
      "Run time for variable zip_namedob_homephone_count_1_by_14 -------------- 13.35s\n",
      "variable zip_namedob_homephone_count_1_by_30 ---> Done\n",
      "Run time for variable zip_namedob_homephone_count_1_by_30 -------------- 8.02s\n",
      "variable zip_namedob_ssn_count_0_by_3 ---> Done\n",
      "Run time for variable zip_namedob_ssn_count_0_by_3 -------------- 8.20s\n",
      "variable zip_namedob_ssn_count_0_by_7 ---> Done\n",
      "Run time for variable zip_namedob_ssn_count_0_by_7 -------------- 8.37s\n",
      "variable zip_namedob_ssn_count_0_by_14 ---> Done\n",
      "Run time for variable zip_namedob_ssn_count_0_by_14 -------------- 9.27s\n",
      "variable zip_namedob_ssn_count_0_by_30 ---> Done\n",
      "Run time for variable zip_namedob_ssn_count_0_by_30 -------------- 9.49s\n",
      "variable zip_namedob_ssn_count_1_by_3 ---> Done\n",
      "Run time for variable zip_namedob_ssn_count_1_by_3 -------------- 9.40s\n",
      "variable zip_namedob_ssn_count_1_by_7 ---> Done\n",
      "Run time for variable zip_namedob_ssn_count_1_by_7 -------------- 9.72s\n",
      "variable zip_namedob_ssn_count_1_by_14 ---> Done\n",
      "Run time for variable zip_namedob_ssn_count_1_by_14 -------------- 13.25s\n",
      "variable zip_namedob_ssn_count_1_by_30 ---> Done\n",
      "Run time for variable zip_namedob_ssn_count_1_by_30 -------------- 13.36s\n",
      "variable zip_homephone_ssn_count_0_by_3 ---> Done\n",
      "Run time for variable zip_homephone_ssn_count_0_by_3 -------------- 16.49s\n",
      "variable zip_homephone_ssn_count_0_by_7 ---> Done\n",
      "Run time for variable zip_homephone_ssn_count_0_by_7 -------------- 9.32s\n",
      "variable zip_homephone_ssn_count_0_by_14 ---> Done\n",
      "Run time for variable zip_homephone_ssn_count_0_by_14 -------------- 13.21s\n",
      "variable zip_homephone_ssn_count_0_by_30 ---> Done\n",
      "Run time for variable zip_homephone_ssn_count_0_by_30 -------------- 18.79s\n",
      "variable zip_homephone_ssn_count_1_by_3 ---> Done\n",
      "Run time for variable zip_homephone_ssn_count_1_by_3 -------------- 20.90s\n",
      "variable zip_homephone_ssn_count_1_by_7 ---> Done\n",
      "Run time for variable zip_homephone_ssn_count_1_by_7 -------------- 19.77s\n",
      "variable zip_homephone_ssn_count_1_by_14 ---> Done\n",
      "Run time for variable zip_homephone_ssn_count_1_by_14 -------------- 20.55s\n",
      "variable zip_homephone_ssn_count_1_by_30 ---> Done\n",
      "Run time for variable zip_homephone_ssn_count_1_by_30 -------------- 18.72s\n",
      "variable zip_namedob_homephone_ssn_count_0_by_3 ---> Done\n",
      "Run time for variable zip_namedob_homephone_ssn_count_0_by_3 -------------- 12.56s\n",
      "variable zip_namedob_homephone_ssn_count_0_by_7 ---> Done\n",
      "Run time for variable zip_namedob_homephone_ssn_count_0_by_7 -------------- 16.96s\n",
      "variable zip_namedob_homephone_ssn_count_0_by_14 ---> Done\n",
      "Run time for variable zip_namedob_homephone_ssn_count_0_by_14 -------------- 12.31s\n",
      "variable zip_namedob_homephone_ssn_count_0_by_30 ---> Done\n",
      "Run time for variable zip_namedob_homephone_ssn_count_0_by_30 -------------- 11.15s\n",
      "variable zip_namedob_homephone_ssn_count_1_by_3 ---> Done\n",
      "Run time for variable zip_namedob_homephone_ssn_count_1_by_3 -------------- 10.06s\n",
      "variable zip_namedob_homephone_ssn_count_1_by_7 ---> Done\n",
      "Run time for variable zip_namedob_homephone_ssn_count_1_by_7 -------------- 11.10s\n",
      "variable zip_namedob_homephone_ssn_count_1_by_14 ---> Done\n",
      "Run time for variable zip_namedob_homephone_ssn_count_1_by_14 -------------- 12.45s\n",
      "variable zip_namedob_homephone_ssn_count_1_by_30 ---> Done\n",
      "Run time for variable zip_namedob_homephone_ssn_count_1_by_30 -------------- 12.43s\n",
      "Total run time: 5199.76s\n"
     ]
    }
   ],
   "source": [
    "table = []\n",
    "start = timer()\n",
    "for column in variables:\n",
    "    st = timer()\n",
    "    a = [column]\n",
    "    b = sps.ks_2samp(mydata[mydata['fraud_label'] == 0][column], mydata[mydata['fraud_label'] == 1][column])[0]\n",
    "    a.append(b)\n",
    "    print(f'variable {column} ---> Done')\n",
    "    table.append(a)\n",
    "    print(f'Run time for variable {column} -------------- {timer() - st:0.2f}s')\n",
    "\n",
    "print(f'Total run time: {timer() - start:0.2f}s')   \n",
    "KSFDR = pd.DataFrame(table, columns = ['variable_name', 'ks'])"
   ]
  },
  {
   "cell_type": "code",
   "execution_count": 32,
   "id": "soviet-pharmacology",
   "metadata": {
    "ExecuteTime": {
     "end_time": "2021-03-18T06:15:57.919065Z",
     "start_time": "2021-03-18T06:15:57.796317Z"
    }
   },
   "outputs": [],
   "source": [
    "KSFDR = pd.DataFrame(table, columns = ['variable_name', 'ks'])"
   ]
  },
  {
   "cell_type": "code",
   "execution_count": 33,
   "id": "floating-start",
   "metadata": {
    "ExecuteTime": {
     "end_time": "2021-03-18T06:15:58.053709Z",
     "start_time": "2021-03-18T06:15:57.928444Z"
    }
   },
   "outputs": [
    {
     "data": {
      "text/plain": [
       "(450, 2)"
      ]
     },
     "execution_count": 33,
     "metadata": {},
     "output_type": "execute_result"
    }
   ],
   "source": [
    "KSFDR.shape"
   ]
  },
  {
   "cell_type": "code",
   "execution_count": 34,
   "id": "psychological-capital",
   "metadata": {
    "ExecuteTime": {
     "end_time": "2021-03-18T06:15:59.197971Z",
     "start_time": "2021-03-18T06:15:58.063374Z"
    }
   },
   "outputs": [],
   "source": [
    "KSFDR.to_excel('variable_ks.xlsx')"
   ]
  },
  {
   "cell_type": "code",
   "execution_count": 35,
   "id": "pressed-imperial",
   "metadata": {
    "ExecuteTime": {
     "end_time": "2021-03-18T06:15:59.274713Z",
     "start_time": "2021-03-18T06:15:59.203691Z"
    },
    "scrolled": true
   },
   "outputs": [
    {
     "data": {
      "text/plain": [
       "Index(['dow', 'dow_risk', 'ssn_day_since', 'ssn_count_0', 'ssn_count_1',\n",
       "       'ssn_count_3', 'ssn_count_7', 'ssn_count_14', 'ssn_count_30',\n",
       "       'ssn_count_60',\n",
       "       ...\n",
       "       'zip_homephone_ssn_count_1_by_14', 'zip_homephone_ssn_count_1_by_30',\n",
       "       'zip_namedob_homephone_ssn_count_0_by_3',\n",
       "       'zip_namedob_homephone_ssn_count_0_by_7',\n",
       "       'zip_namedob_homephone_ssn_count_0_by_14',\n",
       "       'zip_namedob_homephone_ssn_count_0_by_30',\n",
       "       'zip_namedob_homephone_ssn_count_1_by_3',\n",
       "       'zip_namedob_homephone_ssn_count_1_by_7',\n",
       "       'zip_namedob_homephone_ssn_count_1_by_14',\n",
       "       'zip_namedob_homephone_ssn_count_1_by_30'],\n",
       "      dtype='object', length=450)"
      ]
     },
     "execution_count": 35,
     "metadata": {},
     "output_type": "execute_result"
    }
   ],
   "source": [
    "variables"
   ]
  },
  {
   "cell_type": "code",
   "execution_count": 36,
   "id": "satisfactory-genesis",
   "metadata": {
    "ExecuteTime": {
     "end_time": "2021-03-18T06:15:59.290016Z",
     "start_time": "2021-03-18T06:15:59.279961Z"
    }
   },
   "outputs": [
    {
     "data": {
      "text/plain": [
       "23768"
      ]
     },
     "execution_count": 36,
     "metadata": {},
     "output_type": "execute_result"
    }
   ],
   "source": [
    "topRows = int(round(len(mydata)*0.03))\n",
    "topRows"
   ]
  },
  {
   "cell_type": "code",
   "execution_count": 37,
   "id": "based-sessions",
   "metadata": {
    "ExecuteTime": {
     "end_time": "2021-03-18T06:15:59.298785Z",
     "start_time": "2021-03-18T06:15:59.293759Z"
    }
   },
   "outputs": [
    {
     "data": {
      "text/plain": [
       "792268"
      ]
     },
     "execution_count": 37,
     "metadata": {},
     "output_type": "execute_result"
    }
   ],
   "source": [
    "len(mydata)"
   ]
  },
  {
   "cell_type": "code",
   "execution_count": 38,
   "id": "refined-physiology",
   "metadata": {
    "ExecuteTime": {
     "end_time": "2021-03-18T06:15:59.447776Z",
     "start_time": "2021-03-18T06:15:59.398338Z"
    }
   },
   "outputs": [],
   "source": [
    "KSFDR['FDR'] = np.nan"
   ]
  },
  {
   "cell_type": "code",
   "execution_count": 39,
   "id": "running-rover",
   "metadata": {
    "ExecuteTime": {
     "end_time": "2021-03-18T06:15:59.479108Z",
     "start_time": "2021-03-18T06:15:59.454584Z"
    },
    "scrolled": true
   },
   "outputs": [],
   "source": [
    "KSFDR = KSFDR.set_index('variable_name')"
   ]
  },
  {
   "cell_type": "code",
   "execution_count": 40,
   "id": "divided-commodity",
   "metadata": {
    "ExecuteTime": {
     "end_time": "2021-03-18T06:15:59.570118Z",
     "start_time": "2021-03-18T06:15:59.484281Z"
    }
   },
   "outputs": [
    {
     "data": {
      "text/html": [
       "<div>\n",
       "<style scoped>\n",
       "    .dataframe tbody tr th:only-of-type {\n",
       "        vertical-align: middle;\n",
       "    }\n",
       "\n",
       "    .dataframe tbody tr th {\n",
       "        vertical-align: top;\n",
       "    }\n",
       "\n",
       "    .dataframe thead th {\n",
       "        text-align: right;\n",
       "    }\n",
       "</style>\n",
       "<table border=\"1\" class=\"dataframe\">\n",
       "  <thead>\n",
       "    <tr style=\"text-align: right;\">\n",
       "      <th></th>\n",
       "      <th>ks</th>\n",
       "      <th>FDR</th>\n",
       "    </tr>\n",
       "    <tr>\n",
       "      <th>variable_name</th>\n",
       "      <th></th>\n",
       "      <th></th>\n",
       "    </tr>\n",
       "  </thead>\n",
       "  <tbody>\n",
       "    <tr>\n",
       "      <th>dow</th>\n",
       "      <td>0.010509</td>\n",
       "      <td>NaN</td>\n",
       "    </tr>\n",
       "    <tr>\n",
       "      <th>dow_risk</th>\n",
       "      <td>0.022106</td>\n",
       "      <td>NaN</td>\n",
       "    </tr>\n",
       "    <tr>\n",
       "      <th>ssn_day_since</th>\n",
       "      <td>0.226284</td>\n",
       "      <td>NaN</td>\n",
       "    </tr>\n",
       "    <tr>\n",
       "      <th>ssn_count_0</th>\n",
       "      <td>0.105991</td>\n",
       "      <td>NaN</td>\n",
       "    </tr>\n",
       "    <tr>\n",
       "      <th>ssn_count_1</th>\n",
       "      <td>0.147494</td>\n",
       "      <td>NaN</td>\n",
       "    </tr>\n",
       "  </tbody>\n",
       "</table>\n",
       "</div>"
      ],
      "text/plain": [
       "                     ks  FDR\n",
       "variable_name               \n",
       "dow            0.010509  NaN\n",
       "dow_risk       0.022106  NaN\n",
       "ssn_day_since  0.226284  NaN\n",
       "ssn_count_0    0.105991  NaN\n",
       "ssn_count_1    0.147494  NaN"
      ]
     },
     "execution_count": 40,
     "metadata": {},
     "output_type": "execute_result"
    }
   ],
   "source": [
    "KSFDR.head()"
   ]
  },
  {
   "cell_type": "code",
   "execution_count": 41,
   "id": "headed-hydrogen",
   "metadata": {
    "ExecuteTime": {
     "end_time": "2021-03-18T06:17:04.352283Z",
     "start_time": "2021-03-18T06:15:59.572318Z"
    },
    "scrolled": true
   },
   "outputs": [
    {
     "name": "stdout",
     "output_type": "stream",
     "text": [
      "dow ---------> Done\n",
      "Run time for variable dow -------------- 1.50s\n",
      "dow_risk ---------> Done\n",
      "Run time for variable dow_risk -------------- 0.18s\n",
      "ssn_day_since ---------> Done\n",
      "Run time for variable ssn_day_since -------------- 0.16s\n",
      "ssn_count_0 ---------> Done\n",
      "Run time for variable ssn_count_0 -------------- 0.15s\n",
      "ssn_count_1 ---------> Done\n",
      "Run time for variable ssn_count_1 -------------- 0.15s\n",
      "ssn_count_3 ---------> Done\n",
      "Run time for variable ssn_count_3 -------------- 0.12s\n",
      "ssn_count_7 ---------> Done\n",
      "Run time for variable ssn_count_7 -------------- 0.12s\n",
      "ssn_count_14 ---------> Done\n",
      "Run time for variable ssn_count_14 -------------- 0.12s\n",
      "ssn_count_30 ---------> Done\n",
      "Run time for variable ssn_count_30 -------------- 0.13s\n",
      "ssn_count_60 ---------> Done\n",
      "Run time for variable ssn_count_60 -------------- 0.13s\n",
      "address_day_since ---------> Done\n",
      "Run time for variable address_day_since -------------- 0.18s\n",
      "address_count_0 ---------> Done\n",
      "Run time for variable address_count_0 -------------- 0.13s\n",
      "address_count_1 ---------> Done\n",
      "Run time for variable address_count_1 -------------- 0.13s\n",
      "address_count_3 ---------> Done\n",
      "Run time for variable address_count_3 -------------- 0.14s\n",
      "address_count_7 ---------> Done\n",
      "Run time for variable address_count_7 -------------- 0.14s\n",
      "address_count_14 ---------> Done\n",
      "Run time for variable address_count_14 -------------- 0.13s\n",
      "address_count_30 ---------> Done\n",
      "Run time for variable address_count_30 -------------- 0.17s\n",
      "address_count_60 ---------> Done\n",
      "Run time for variable address_count_60 -------------- 0.15s\n",
      "dob_day_since ---------> Done\n",
      "Run time for variable dob_day_since -------------- 0.23s\n",
      "dob_count_0 ---------> Done\n",
      "Run time for variable dob_count_0 -------------- 0.12s\n",
      "dob_count_1 ---------> Done\n",
      "Run time for variable dob_count_1 -------------- 0.14s\n",
      "dob_count_3 ---------> Done\n",
      "Run time for variable dob_count_3 -------------- 0.14s\n",
      "dob_count_7 ---------> Done\n",
      "Run time for variable dob_count_7 -------------- 0.14s\n",
      "dob_count_14 ---------> Done\n",
      "Run time for variable dob_count_14 -------------- 0.14s\n",
      "dob_count_30 ---------> Done\n",
      "Run time for variable dob_count_30 -------------- 0.23s\n",
      "dob_count_60 ---------> Done\n",
      "Run time for variable dob_count_60 -------------- 0.18s\n",
      "homephone_day_since ---------> Done\n",
      "Run time for variable homephone_day_since -------------- 0.27s\n",
      "homephone_count_0 ---------> Done\n",
      "Run time for variable homephone_count_0 -------------- 0.15s\n",
      "homephone_count_1 ---------> Done\n",
      "Run time for variable homephone_count_1 -------------- 0.15s\n",
      "homephone_count_3 ---------> Done\n",
      "Run time for variable homephone_count_3 -------------- 0.18s\n",
      "homephone_count_7 ---------> Done\n",
      "Run time for variable homephone_count_7 -------------- 0.17s\n",
      "homephone_count_14 ---------> Done\n",
      "Run time for variable homephone_count_14 -------------- 0.16s\n",
      "homephone_count_30 ---------> Done\n",
      "Run time for variable homephone_count_30 -------------- 0.16s\n",
      "homephone_count_60 ---------> Done\n",
      "Run time for variable homephone_count_60 -------------- 0.18s\n",
      "namedob_day_since ---------> Done\n",
      "Run time for variable namedob_day_since -------------- 0.17s\n",
      "namedob_count_0 ---------> Done\n",
      "Run time for variable namedob_count_0 -------------- 0.13s\n",
      "namedob_count_1 ---------> Done\n",
      "Run time for variable namedob_count_1 -------------- 0.13s\n",
      "namedob_count_3 ---------> Done\n",
      "Run time for variable namedob_count_3 -------------- 0.14s\n",
      "namedob_count_7 ---------> Done\n",
      "Run time for variable namedob_count_7 -------------- 0.13s\n",
      "namedob_count_14 ---------> Done\n",
      "Run time for variable namedob_count_14 -------------- 0.13s\n",
      "namedob_count_30 ---------> Done\n",
      "Run time for variable namedob_count_30 -------------- 0.14s\n",
      "namedob_count_60 ---------> Done\n",
      "Run time for variable namedob_count_60 -------------- 0.15s\n",
      "namedob_fulladdress_day_since ---------> Done\n",
      "Run time for variable namedob_fulladdress_day_since -------------- 0.16s\n",
      "namedob_fulladdress_count_0 ---------> Done\n",
      "Run time for variable namedob_fulladdress_count_0 -------------- 0.14s\n",
      "namedob_fulladdress_count_1 ---------> Done\n",
      "Run time for variable namedob_fulladdress_count_1 -------------- 0.14s\n",
      "namedob_fulladdress_count_3 ---------> Done\n",
      "Run time for variable namedob_fulladdress_count_3 -------------- 0.14s\n",
      "namedob_fulladdress_count_7 ---------> Done\n",
      "Run time for variable namedob_fulladdress_count_7 -------------- 0.13s\n",
      "namedob_fulladdress_count_14 ---------> Done\n",
      "Run time for variable namedob_fulladdress_count_14 -------------- 0.13s\n",
      "namedob_fulladdress_count_30 ---------> Done\n",
      "Run time for variable namedob_fulladdress_count_30 -------------- 0.13s\n",
      "namedob_fulladdress_count_60 ---------> Done\n",
      "Run time for variable namedob_fulladdress_count_60 -------------- 0.13s\n",
      "namedob_homephone_day_since ---------> Done\n",
      "Run time for variable namedob_homephone_day_since -------------- 0.16s\n",
      "namedob_homephone_count_0 ---------> Done\n",
      "Run time for variable namedob_homephone_count_0 -------------- 0.13s\n",
      "namedob_homephone_count_1 ---------> Done\n",
      "Run time for variable namedob_homephone_count_1 -------------- 0.13s\n",
      "namedob_homephone_count_3 ---------> Done\n",
      "Run time for variable namedob_homephone_count_3 -------------- 0.13s\n",
      "namedob_homephone_count_7 ---------> Done\n",
      "Run time for variable namedob_homephone_count_7 -------------- 0.13s\n",
      "namedob_homephone_count_14 ---------> Done\n",
      "Run time for variable namedob_homephone_count_14 -------------- 0.13s\n",
      "namedob_homephone_count_30 ---------> Done\n",
      "Run time for variable namedob_homephone_count_30 -------------- 0.13s\n",
      "namedob_homephone_count_60 ---------> Done\n",
      "Run time for variable namedob_homephone_count_60 -------------- 0.13s\n",
      "namedob_ssn_day_since ---------> Done\n",
      "Run time for variable namedob_ssn_day_since -------------- 0.16s\n",
      "namedob_ssn_count_0 ---------> Done\n",
      "Run time for variable namedob_ssn_count_0 -------------- 0.13s\n",
      "namedob_ssn_count_1 ---------> Done\n",
      "Run time for variable namedob_ssn_count_1 -------------- 0.13s\n",
      "namedob_ssn_count_3 ---------> Done\n",
      "Run time for variable namedob_ssn_count_3 -------------- 0.14s\n",
      "namedob_ssn_count_7 ---------> Done\n",
      "Run time for variable namedob_ssn_count_7 -------------- 0.13s\n",
      "namedob_ssn_count_14 ---------> Done\n",
      "Run time for variable namedob_ssn_count_14 -------------- 0.13s\n",
      "namedob_ssn_count_30 ---------> Done\n",
      "Run time for variable namedob_ssn_count_30 -------------- 0.14s\n",
      "namedob_ssn_count_60 ---------> Done\n",
      "Run time for variable namedob_ssn_count_60 -------------- 0.14s\n",
      "fulladdress_homephone_day_since ---------> Done\n",
      "Run time for variable fulladdress_homephone_day_since -------------- 0.17s\n",
      "fulladdress_homephone_count_0 ---------> Done\n",
      "Run time for variable fulladdress_homephone_count_0 -------------- 0.14s\n",
      "fulladdress_homephone_count_1 ---------> Done\n",
      "Run time for variable fulladdress_homephone_count_1 -------------- 0.15s\n",
      "fulladdress_homephone_count_3 ---------> Done\n",
      "Run time for variable fulladdress_homephone_count_3 -------------- 0.16s\n",
      "fulladdress_homephone_count_7 ---------> Done\n",
      "Run time for variable fulladdress_homephone_count_7 -------------- 0.14s\n",
      "fulladdress_homephone_count_14 ---------> Done\n",
      "Run time for variable fulladdress_homephone_count_14 -------------- 0.15s\n",
      "fulladdress_homephone_count_30 ---------> Done\n",
      "Run time for variable fulladdress_homephone_count_30 -------------- 0.14s\n",
      "fulladdress_homephone_count_60 ---------> Done\n",
      "Run time for variable fulladdress_homephone_count_60 -------------- 0.15s\n",
      "fulladdress_ssn_day_since ---------> Done\n",
      "Run time for variable fulladdress_ssn_day_since -------------- 0.18s\n",
      "fulladdress_ssn_count_0 ---------> Done\n",
      "Run time for variable fulladdress_ssn_count_0 -------------- 0.13s\n",
      "fulladdress_ssn_count_1 ---------> Done\n",
      "Run time for variable fulladdress_ssn_count_1 -------------- 0.13s\n",
      "fulladdress_ssn_count_3 ---------> Done\n",
      "Run time for variable fulladdress_ssn_count_3 -------------- 0.13s\n",
      "fulladdress_ssn_count_7 ---------> Done\n",
      "Run time for variable fulladdress_ssn_count_7 -------------- 0.13s\n",
      "fulladdress_ssn_count_14 ---------> Done\n",
      "Run time for variable fulladdress_ssn_count_14 -------------- 0.13s\n",
      "fulladdress_ssn_count_30 ---------> Done\n",
      "Run time for variable fulladdress_ssn_count_30 -------------- 0.16s\n",
      "fulladdress_ssn_count_60 ---------> Done\n",
      "Run time for variable fulladdress_ssn_count_60 -------------- 0.14s\n"
     ]
    },
    {
     "name": "stdout",
     "output_type": "stream",
     "text": [
      "homephone_ssn_day_since ---------> Done\n",
      "Run time for variable homephone_ssn_day_since -------------- 0.18s\n",
      "homephone_ssn_count_0 ---------> Done\n",
      "Run time for variable homephone_ssn_count_0 -------------- 0.15s\n",
      "homephone_ssn_count_1 ---------> Done\n",
      "Run time for variable homephone_ssn_count_1 -------------- 0.15s\n",
      "homephone_ssn_count_3 ---------> Done\n",
      "Run time for variable homephone_ssn_count_3 -------------- 0.13s\n",
      "homephone_ssn_count_7 ---------> Done\n",
      "Run time for variable homephone_ssn_count_7 -------------- 0.13s\n",
      "homephone_ssn_count_14 ---------> Done\n",
      "Run time for variable homephone_ssn_count_14 -------------- 0.13s\n",
      "homephone_ssn_count_30 ---------> Done\n",
      "Run time for variable homephone_ssn_count_30 -------------- 0.14s\n",
      "homephone_ssn_count_60 ---------> Done\n",
      "Run time for variable homephone_ssn_count_60 -------------- 0.13s\n",
      "namedob_fulladdress_homephone_day_since ---------> Done\n",
      "Run time for variable namedob_fulladdress_homephone_day_since -------------- 0.16s\n",
      "namedob_fulladdress_homephone_count_0 ---------> Done\n",
      "Run time for variable namedob_fulladdress_homephone_count_0 -------------- 0.13s\n",
      "namedob_fulladdress_homephone_count_1 ---------> Done\n",
      "Run time for variable namedob_fulladdress_homephone_count_1 -------------- 0.14s\n",
      "namedob_fulladdress_homephone_count_3 ---------> Done\n",
      "Run time for variable namedob_fulladdress_homephone_count_3 -------------- 0.13s\n",
      "namedob_fulladdress_homephone_count_7 ---------> Done\n",
      "Run time for variable namedob_fulladdress_homephone_count_7 -------------- 0.13s\n",
      "namedob_fulladdress_homephone_count_14 ---------> Done\n",
      "Run time for variable namedob_fulladdress_homephone_count_14 -------------- 0.13s\n",
      "namedob_fulladdress_homephone_count_30 ---------> Done\n",
      "Run time for variable namedob_fulladdress_homephone_count_30 -------------- 0.13s\n",
      "namedob_fulladdress_homephone_count_60 ---------> Done\n",
      "Run time for variable namedob_fulladdress_homephone_count_60 -------------- 0.13s\n",
      "namedob_fulladdress_ssn_day_since ---------> Done\n",
      "Run time for variable namedob_fulladdress_ssn_day_since -------------- 0.16s\n",
      "namedob_fulladdress_ssn_count_0 ---------> Done\n",
      "Run time for variable namedob_fulladdress_ssn_count_0 -------------- 0.13s\n",
      "namedob_fulladdress_ssn_count_1 ---------> Done\n",
      "Run time for variable namedob_fulladdress_ssn_count_1 -------------- 0.13s\n",
      "namedob_fulladdress_ssn_count_3 ---------> Done\n",
      "Run time for variable namedob_fulladdress_ssn_count_3 -------------- 0.12s\n",
      "namedob_fulladdress_ssn_count_7 ---------> Done\n",
      "Run time for variable namedob_fulladdress_ssn_count_7 -------------- 0.13s\n",
      "namedob_fulladdress_ssn_count_14 ---------> Done\n",
      "Run time for variable namedob_fulladdress_ssn_count_14 -------------- 0.14s\n",
      "namedob_fulladdress_ssn_count_30 ---------> Done\n",
      "Run time for variable namedob_fulladdress_ssn_count_30 -------------- 0.15s\n",
      "namedob_fulladdress_ssn_count_60 ---------> Done\n",
      "Run time for variable namedob_fulladdress_ssn_count_60 -------------- 0.13s\n",
      "namedob_homephone_ssn_day_since ---------> Done\n",
      "Run time for variable namedob_homephone_ssn_day_since -------------- 0.16s\n",
      "namedob_homephone_ssn_count_0 ---------> Done\n",
      "Run time for variable namedob_homephone_ssn_count_0 -------------- 0.12s\n",
      "namedob_homephone_ssn_count_1 ---------> Done\n",
      "Run time for variable namedob_homephone_ssn_count_1 -------------- 0.13s\n",
      "namedob_homephone_ssn_count_3 ---------> Done\n",
      "Run time for variable namedob_homephone_ssn_count_3 -------------- 0.12s\n",
      "namedob_homephone_ssn_count_7 ---------> Done\n",
      "Run time for variable namedob_homephone_ssn_count_7 -------------- 0.13s\n",
      "namedob_homephone_ssn_count_14 ---------> Done\n",
      "Run time for variable namedob_homephone_ssn_count_14 -------------- 0.13s\n",
      "namedob_homephone_ssn_count_30 ---------> Done\n",
      "Run time for variable namedob_homephone_ssn_count_30 -------------- 0.13s\n",
      "namedob_homephone_ssn_count_60 ---------> Done\n",
      "Run time for variable namedob_homephone_ssn_count_60 -------------- 0.13s\n",
      "fulladdress_homephone_ssn_day_since ---------> Done\n",
      "Run time for variable fulladdress_homephone_ssn_day_since -------------- 0.16s\n",
      "fulladdress_homephone_ssn_count_0 ---------> Done\n",
      "Run time for variable fulladdress_homephone_ssn_count_0 -------------- 0.13s\n",
      "fulladdress_homephone_ssn_count_1 ---------> Done\n",
      "Run time for variable fulladdress_homephone_ssn_count_1 -------------- 0.12s\n",
      "fulladdress_homephone_ssn_count_3 ---------> Done\n",
      "Run time for variable fulladdress_homephone_ssn_count_3 -------------- 0.13s\n",
      "fulladdress_homephone_ssn_count_7 ---------> Done\n",
      "Run time for variable fulladdress_homephone_ssn_count_7 -------------- 0.13s\n",
      "fulladdress_homephone_ssn_count_14 ---------> Done\n",
      "Run time for variable fulladdress_homephone_ssn_count_14 -------------- 0.13s\n",
      "fulladdress_homephone_ssn_count_30 ---------> Done\n",
      "Run time for variable fulladdress_homephone_ssn_count_30 -------------- 0.13s\n",
      "fulladdress_homephone_ssn_count_60 ---------> Done\n",
      "Run time for variable fulladdress_homephone_ssn_count_60 -------------- 0.14s\n",
      "namedob_fulladdress_homephone_ssn_day_since ---------> Done\n",
      "Run time for variable namedob_fulladdress_homephone_ssn_day_since -------------- 0.16s\n",
      "namedob_fulladdress_homephone_ssn_count_0 ---------> Done\n",
      "Run time for variable namedob_fulladdress_homephone_ssn_count_0 -------------- 0.13s\n",
      "namedob_fulladdress_homephone_ssn_count_1 ---------> Done\n",
      "Run time for variable namedob_fulladdress_homephone_ssn_count_1 -------------- 0.14s\n",
      "namedob_fulladdress_homephone_ssn_count_3 ---------> Done\n",
      "Run time for variable namedob_fulladdress_homephone_ssn_count_3 -------------- 0.13s\n",
      "namedob_fulladdress_homephone_ssn_count_7 ---------> Done\n",
      "Run time for variable namedob_fulladdress_homephone_ssn_count_7 -------------- 0.13s\n",
      "namedob_fulladdress_homephone_ssn_count_14 ---------> Done\n",
      "Run time for variable namedob_fulladdress_homephone_ssn_count_14 -------------- 0.13s\n",
      "namedob_fulladdress_homephone_ssn_count_30 ---------> Done\n",
      "Run time for variable namedob_fulladdress_homephone_ssn_count_30 -------------- 0.14s\n",
      "namedob_fulladdress_homephone_ssn_count_60 ---------> Done\n",
      "Run time for variable namedob_fulladdress_homephone_ssn_count_60 -------------- 0.13s\n",
      "firstname_fulladdress_homephone_day_since ---------> Done\n",
      "Run time for variable firstname_fulladdress_homephone_day_since -------------- 0.17s\n",
      "firstname_fulladdress_homephone_count_0 ---------> Done\n",
      "Run time for variable firstname_fulladdress_homephone_count_0 -------------- 0.13s\n",
      "firstname_fulladdress_homephone_count_1 ---------> Done\n",
      "Run time for variable firstname_fulladdress_homephone_count_1 -------------- 0.13s\n",
      "firstname_fulladdress_homephone_count_3 ---------> Done\n",
      "Run time for variable firstname_fulladdress_homephone_count_3 -------------- 0.13s\n",
      "firstname_fulladdress_homephone_count_7 ---------> Done\n",
      "Run time for variable firstname_fulladdress_homephone_count_7 -------------- 0.14s\n",
      "firstname_fulladdress_homephone_count_14 ---------> Done\n",
      "Run time for variable firstname_fulladdress_homephone_count_14 -------------- 0.14s\n",
      "firstname_fulladdress_homephone_count_30 ---------> Done\n",
      "Run time for variable firstname_fulladdress_homephone_count_30 -------------- 0.13s\n",
      "firstname_fulladdress_homephone_count_60 ---------> Done\n",
      "Run time for variable firstname_fulladdress_homephone_count_60 -------------- 0.14s\n",
      "firstname_fulladdress_ssn_day_since ---------> Done\n",
      "Run time for variable firstname_fulladdress_ssn_day_since -------------- 0.16s\n",
      "firstname_fulladdress_ssn_count_0 ---------> Done\n",
      "Run time for variable firstname_fulladdress_ssn_count_0 -------------- 0.12s\n",
      "firstname_fulladdress_ssn_count_1 ---------> Done\n",
      "Run time for variable firstname_fulladdress_ssn_count_1 -------------- 0.13s\n",
      "firstname_fulladdress_ssn_count_3 ---------> Done\n",
      "Run time for variable firstname_fulladdress_ssn_count_3 -------------- 0.13s\n",
      "firstname_fulladdress_ssn_count_7 ---------> Done\n",
      "Run time for variable firstname_fulladdress_ssn_count_7 -------------- 0.13s\n",
      "firstname_fulladdress_ssn_count_14 ---------> Done\n",
      "Run time for variable firstname_fulladdress_ssn_count_14 -------------- 0.13s\n",
      "firstname_fulladdress_ssn_count_30 ---------> Done\n",
      "Run time for variable firstname_fulladdress_ssn_count_30 -------------- 0.14s\n",
      "firstname_fulladdress_ssn_count_60 ---------> Done\n",
      "Run time for variable firstname_fulladdress_ssn_count_60 -------------- 0.13s\n"
     ]
    },
    {
     "name": "stdout",
     "output_type": "stream",
     "text": [
      "firstname_homephone_ssn_day_since ---------> Done\n",
      "Run time for variable firstname_homephone_ssn_day_since -------------- 0.16s\n",
      "firstname_homephone_ssn_count_0 ---------> Done\n",
      "Run time for variable firstname_homephone_ssn_count_0 -------------- 0.13s\n",
      "firstname_homephone_ssn_count_1 ---------> Done\n",
      "Run time for variable firstname_homephone_ssn_count_1 -------------- 0.14s\n",
      "firstname_homephone_ssn_count_3 ---------> Done\n",
      "Run time for variable firstname_homephone_ssn_count_3 -------------- 0.14s\n",
      "firstname_homephone_ssn_count_7 ---------> Done\n",
      "Run time for variable firstname_homephone_ssn_count_7 -------------- 0.14s\n",
      "firstname_homephone_ssn_count_14 ---------> Done\n",
      "Run time for variable firstname_homephone_ssn_count_14 -------------- 0.13s\n",
      "firstname_homephone_ssn_count_30 ---------> Done\n",
      "Run time for variable firstname_homephone_ssn_count_30 -------------- 0.13s\n",
      "firstname_homephone_ssn_count_60 ---------> Done\n",
      "Run time for variable firstname_homephone_ssn_count_60 -------------- 0.13s\n",
      "firstname_fulladdress_homephone_ssn_day_since ---------> Done\n",
      "Run time for variable firstname_fulladdress_homephone_ssn_day_since -------------- 0.15s\n",
      "firstname_fulladdress_homephone_ssn_count_0 ---------> Done\n",
      "Run time for variable firstname_fulladdress_homephone_ssn_count_0 -------------- 0.12s\n",
      "firstname_fulladdress_homephone_ssn_count_1 ---------> Done\n",
      "Run time for variable firstname_fulladdress_homephone_ssn_count_1 -------------- 0.13s\n",
      "firstname_fulladdress_homephone_ssn_count_3 ---------> Done\n",
      "Run time for variable firstname_fulladdress_homephone_ssn_count_3 -------------- 0.13s\n",
      "firstname_fulladdress_homephone_ssn_count_7 ---------> Done\n",
      "Run time for variable firstname_fulladdress_homephone_ssn_count_7 -------------- 0.13s\n",
      "firstname_fulladdress_homephone_ssn_count_14 ---------> Done\n",
      "Run time for variable firstname_fulladdress_homephone_ssn_count_14 -------------- 0.13s\n",
      "firstname_fulladdress_homephone_ssn_count_30 ---------> Done\n",
      "Run time for variable firstname_fulladdress_homephone_ssn_count_30 -------------- 0.13s\n",
      "firstname_fulladdress_homephone_ssn_count_60 ---------> Done\n",
      "Run time for variable firstname_fulladdress_homephone_ssn_count_60 -------------- 0.13s\n",
      "lastname_fulladdress_homephone_day_since ---------> Done\n",
      "Run time for variable lastname_fulladdress_homephone_day_since -------------- 0.15s\n",
      "lastname_fulladdress_homephone_count_0 ---------> Done\n",
      "Run time for variable lastname_fulladdress_homephone_count_0 -------------- 0.12s\n",
      "lastname_fulladdress_homephone_count_1 ---------> Done\n",
      "Run time for variable lastname_fulladdress_homephone_count_1 -------------- 0.12s\n",
      "lastname_fulladdress_homephone_count_3 ---------> Done\n",
      "Run time for variable lastname_fulladdress_homephone_count_3 -------------- 0.12s\n",
      "lastname_fulladdress_homephone_count_7 ---------> Done\n",
      "Run time for variable lastname_fulladdress_homephone_count_7 -------------- 0.13s\n",
      "lastname_fulladdress_homephone_count_14 ---------> Done\n",
      "Run time for variable lastname_fulladdress_homephone_count_14 -------------- 0.12s\n",
      "lastname_fulladdress_homephone_count_30 ---------> Done\n",
      "Run time for variable lastname_fulladdress_homephone_count_30 -------------- 0.13s\n",
      "lastname_fulladdress_homephone_count_60 ---------> Done\n",
      "Run time for variable lastname_fulladdress_homephone_count_60 -------------- 0.12s\n",
      "lastname_fulladdress_ssn_day_since ---------> Done\n",
      "Run time for variable lastname_fulladdress_ssn_day_since -------------- 0.15s\n",
      "lastname_fulladdress_ssn_count_0 ---------> Done\n",
      "Run time for variable lastname_fulladdress_ssn_count_0 -------------- 0.12s\n",
      "lastname_fulladdress_ssn_count_1 ---------> Done\n",
      "Run time for variable lastname_fulladdress_ssn_count_1 -------------- 0.12s\n",
      "lastname_fulladdress_ssn_count_3 ---------> Done\n",
      "Run time for variable lastname_fulladdress_ssn_count_3 -------------- 0.13s\n",
      "lastname_fulladdress_ssn_count_7 ---------> Done\n",
      "Run time for variable lastname_fulladdress_ssn_count_7 -------------- 0.13s\n",
      "lastname_fulladdress_ssn_count_14 ---------> Done\n",
      "Run time for variable lastname_fulladdress_ssn_count_14 -------------- 0.12s\n",
      "lastname_fulladdress_ssn_count_30 ---------> Done\n",
      "Run time for variable lastname_fulladdress_ssn_count_30 -------------- 0.13s\n",
      "lastname_fulladdress_ssn_count_60 ---------> Done\n",
      "Run time for variable lastname_fulladdress_ssn_count_60 -------------- 0.12s\n",
      "lastname_homephone_ssn_day_since ---------> Done\n",
      "Run time for variable lastname_homephone_ssn_day_since -------------- 0.15s\n",
      "lastname_homephone_ssn_count_0 ---------> Done\n",
      "Run time for variable lastname_homephone_ssn_count_0 -------------- 0.13s\n",
      "lastname_homephone_ssn_count_1 ---------> Done\n",
      "Run time for variable lastname_homephone_ssn_count_1 -------------- 0.13s\n",
      "lastname_homephone_ssn_count_3 ---------> Done\n",
      "Run time for variable lastname_homephone_ssn_count_3 -------------- 0.12s\n",
      "lastname_homephone_ssn_count_7 ---------> Done\n",
      "Run time for variable lastname_homephone_ssn_count_7 -------------- 0.14s\n",
      "lastname_homephone_ssn_count_14 ---------> Done\n",
      "Run time for variable lastname_homephone_ssn_count_14 -------------- 0.13s\n",
      "lastname_homephone_ssn_count_30 ---------> Done\n",
      "Run time for variable lastname_homephone_ssn_count_30 -------------- 0.13s\n",
      "lastname_homephone_ssn_count_60 ---------> Done\n",
      "Run time for variable lastname_homephone_ssn_count_60 -------------- 0.13s\n",
      "lastname_fulladdress_homephone_ssn_day_since ---------> Done\n",
      "Run time for variable lastname_fulladdress_homephone_ssn_day_since -------------- 0.15s\n",
      "lastname_fulladdress_homephone_ssn_count_0 ---------> Done\n",
      "Run time for variable lastname_fulladdress_homephone_ssn_count_0 -------------- 0.12s\n",
      "lastname_fulladdress_homephone_ssn_count_1 ---------> Done\n",
      "Run time for variable lastname_fulladdress_homephone_ssn_count_1 -------------- 0.12s\n",
      "lastname_fulladdress_homephone_ssn_count_3 ---------> Done\n",
      "Run time for variable lastname_fulladdress_homephone_ssn_count_3 -------------- 0.12s\n",
      "lastname_fulladdress_homephone_ssn_count_7 ---------> Done\n",
      "Run time for variable lastname_fulladdress_homephone_ssn_count_7 -------------- 0.12s\n",
      "lastname_fulladdress_homephone_ssn_count_14 ---------> Done\n",
      "Run time for variable lastname_fulladdress_homephone_ssn_count_14 -------------- 0.12s\n",
      "lastname_fulladdress_homephone_ssn_count_30 ---------> Done\n",
      "Run time for variable lastname_fulladdress_homephone_ssn_count_30 -------------- 0.12s\n",
      "lastname_fulladdress_homephone_ssn_count_60 ---------> Done\n",
      "Run time for variable lastname_fulladdress_homephone_ssn_count_60 -------------- 0.12s\n",
      "zip_namedob_homephone_day_since ---------> Done\n",
      "Run time for variable zip_namedob_homephone_day_since -------------- 0.16s\n",
      "zip_namedob_homephone_count_0 ---------> Done\n",
      "Run time for variable zip_namedob_homephone_count_0 -------------- 0.13s\n",
      "zip_namedob_homephone_count_1 ---------> Done\n",
      "Run time for variable zip_namedob_homephone_count_1 -------------- 0.12s\n",
      "zip_namedob_homephone_count_3 ---------> Done\n",
      "Run time for variable zip_namedob_homephone_count_3 -------------- 0.12s\n",
      "zip_namedob_homephone_count_7 ---------> Done\n",
      "Run time for variable zip_namedob_homephone_count_7 -------------- 0.12s\n",
      "zip_namedob_homephone_count_14 ---------> Done\n",
      "Run time for variable zip_namedob_homephone_count_14 -------------- 0.12s\n",
      "zip_namedob_homephone_count_30 ---------> Done\n",
      "Run time for variable zip_namedob_homephone_count_30 -------------- 0.13s\n",
      "zip_namedob_homephone_count_60 ---------> Done\n",
      "Run time for variable zip_namedob_homephone_count_60 -------------- 0.13s\n",
      "zip_namedob_ssn_day_since ---------> Done\n",
      "Run time for variable zip_namedob_ssn_day_since -------------- 0.15s\n",
      "zip_namedob_ssn_count_0 ---------> Done\n",
      "Run time for variable zip_namedob_ssn_count_0 -------------- 0.12s\n",
      "zip_namedob_ssn_count_1 ---------> Done\n",
      "Run time for variable zip_namedob_ssn_count_1 -------------- 0.12s\n",
      "zip_namedob_ssn_count_3 ---------> Done\n",
      "Run time for variable zip_namedob_ssn_count_3 -------------- 0.12s\n",
      "zip_namedob_ssn_count_7 ---------> Done\n",
      "Run time for variable zip_namedob_ssn_count_7 -------------- 0.12s\n",
      "zip_namedob_ssn_count_14 ---------> Done\n",
      "Run time for variable zip_namedob_ssn_count_14 -------------- 0.13s\n",
      "zip_namedob_ssn_count_30 ---------> Done\n",
      "Run time for variable zip_namedob_ssn_count_30 -------------- 0.13s\n",
      "zip_namedob_ssn_count_60 ---------> Done\n",
      "Run time for variable zip_namedob_ssn_count_60 -------------- 0.13s\n"
     ]
    },
    {
     "name": "stdout",
     "output_type": "stream",
     "text": [
      "zip_homephone_ssn_day_since ---------> Done\n",
      "Run time for variable zip_homephone_ssn_day_since -------------- 0.15s\n",
      "zip_homephone_ssn_count_0 ---------> Done\n",
      "Run time for variable zip_homephone_ssn_count_0 -------------- 0.12s\n",
      "zip_homephone_ssn_count_1 ---------> Done\n",
      "Run time for variable zip_homephone_ssn_count_1 -------------- 0.13s\n",
      "zip_homephone_ssn_count_3 ---------> Done\n",
      "Run time for variable zip_homephone_ssn_count_3 -------------- 0.13s\n",
      "zip_homephone_ssn_count_7 ---------> Done\n",
      "Run time for variable zip_homephone_ssn_count_7 -------------- 0.13s\n",
      "zip_homephone_ssn_count_14 ---------> Done\n",
      "Run time for variable zip_homephone_ssn_count_14 -------------- 0.14s\n",
      "zip_homephone_ssn_count_30 ---------> Done\n",
      "Run time for variable zip_homephone_ssn_count_30 -------------- 0.13s\n",
      "zip_homephone_ssn_count_60 ---------> Done\n",
      "Run time for variable zip_homephone_ssn_count_60 -------------- 0.13s\n",
      "zip_namedob_homephone_ssn_day_since ---------> Done\n",
      "Run time for variable zip_namedob_homephone_ssn_day_since -------------- 0.16s\n",
      "zip_namedob_homephone_ssn_count_0 ---------> Done\n",
      "Run time for variable zip_namedob_homephone_ssn_count_0 -------------- 0.12s\n",
      "zip_namedob_homephone_ssn_count_1 ---------> Done\n",
      "Run time for variable zip_namedob_homephone_ssn_count_1 -------------- 0.13s\n",
      "zip_namedob_homephone_ssn_count_3 ---------> Done\n",
      "Run time for variable zip_namedob_homephone_ssn_count_3 -------------- 0.12s\n",
      "zip_namedob_homephone_ssn_count_7 ---------> Done\n",
      "Run time for variable zip_namedob_homephone_ssn_count_7 -------------- 0.13s\n",
      "zip_namedob_homephone_ssn_count_14 ---------> Done\n",
      "Run time for variable zip_namedob_homephone_ssn_count_14 -------------- 0.12s\n",
      "zip_namedob_homephone_ssn_count_30 ---------> Done\n",
      "Run time for variable zip_namedob_homephone_ssn_count_30 -------------- 0.12s\n",
      "zip_namedob_homephone_ssn_count_60 ---------> Done\n",
      "Run time for variable zip_namedob_homephone_ssn_count_60 -------------- 0.12s\n",
      "ssn_count_0_by_3 ---------> Done\n",
      "Run time for variable ssn_count_0_by_3 -------------- 0.14s\n",
      "ssn_count_0_by_7 ---------> Done\n",
      "Run time for variable ssn_count_0_by_7 -------------- 0.15s\n",
      "ssn_count_0_by_14 ---------> Done\n",
      "Run time for variable ssn_count_0_by_14 -------------- 0.14s\n",
      "ssn_count_0_by_30 ---------> Done\n",
      "Run time for variable ssn_count_0_by_30 -------------- 0.14s\n",
      "ssn_count_1_by_3 ---------> Done\n",
      "Run time for variable ssn_count_1_by_3 -------------- 0.15s\n",
      "ssn_count_1_by_7 ---------> Done\n",
      "Run time for variable ssn_count_1_by_7 -------------- 0.14s\n",
      "ssn_count_1_by_14 ---------> Done\n",
      "Run time for variable ssn_count_1_by_14 -------------- 0.14s\n",
      "ssn_count_1_by_30 ---------> Done\n",
      "Run time for variable ssn_count_1_by_30 -------------- 0.14s\n",
      "address_count_0_by_3 ---------> Done\n",
      "Run time for variable address_count_0_by_3 -------------- 0.16s\n",
      "address_count_0_by_7 ---------> Done\n",
      "Run time for variable address_count_0_by_7 -------------- 0.14s\n",
      "address_count_0_by_14 ---------> Done\n",
      "Run time for variable address_count_0_by_14 -------------- 0.15s\n",
      "address_count_0_by_30 ---------> Done\n",
      "Run time for variable address_count_0_by_30 -------------- 0.14s\n",
      "address_count_1_by_3 ---------> Done\n",
      "Run time for variable address_count_1_by_3 -------------- 0.14s\n",
      "address_count_1_by_7 ---------> Done\n",
      "Run time for variable address_count_1_by_7 -------------- 0.14s\n",
      "address_count_1_by_14 ---------> Done\n",
      "Run time for variable address_count_1_by_14 -------------- 0.15s\n",
      "address_count_1_by_30 ---------> Done\n",
      "Run time for variable address_count_1_by_30 -------------- 0.14s\n",
      "dob_count_0_by_3 ---------> Done\n",
      "Run time for variable dob_count_0_by_3 -------------- 0.16s\n",
      "dob_count_0_by_7 ---------> Done\n",
      "Run time for variable dob_count_0_by_7 -------------- 0.15s\n",
      "dob_count_0_by_14 ---------> Done\n",
      "Run time for variable dob_count_0_by_14 -------------- 0.16s\n",
      "dob_count_0_by_30 ---------> Done\n",
      "Run time for variable dob_count_0_by_30 -------------- 0.16s\n",
      "dob_count_1_by_3 ---------> Done\n",
      "Run time for variable dob_count_1_by_3 -------------- 0.15s\n",
      "dob_count_1_by_7 ---------> Done\n",
      "Run time for variable dob_count_1_by_7 -------------- 0.15s\n",
      "dob_count_1_by_14 ---------> Done\n",
      "Run time for variable dob_count_1_by_14 -------------- 0.16s\n",
      "dob_count_1_by_30 ---------> Done\n",
      "Run time for variable dob_count_1_by_30 -------------- 0.16s\n",
      "homephone_count_0_by_3 ---------> Done\n",
      "Run time for variable homephone_count_0_by_3 -------------- 0.16s\n",
      "homephone_count_0_by_7 ---------> Done\n",
      "Run time for variable homephone_count_0_by_7 -------------- 0.16s\n",
      "homephone_count_0_by_14 ---------> Done\n",
      "Run time for variable homephone_count_0_by_14 -------------- 0.17s\n",
      "homephone_count_0_by_30 ---------> Done\n",
      "Run time for variable homephone_count_0_by_30 -------------- 0.18s\n",
      "homephone_count_1_by_3 ---------> Done\n",
      "Run time for variable homephone_count_1_by_3 -------------- 0.15s\n",
      "homephone_count_1_by_7 ---------> Done\n",
      "Run time for variable homephone_count_1_by_7 -------------- 0.16s\n",
      "homephone_count_1_by_14 ---------> Done\n",
      "Run time for variable homephone_count_1_by_14 -------------- 0.17s\n",
      "homephone_count_1_by_30 ---------> Done\n",
      "Run time for variable homephone_count_1_by_30 -------------- 0.18s\n",
      "namedob_count_0_by_3 ---------> Done\n",
      "Run time for variable namedob_count_0_by_3 -------------- 0.14s\n",
      "namedob_count_0_by_7 ---------> Done\n",
      "Run time for variable namedob_count_0_by_7 -------------- 0.14s\n",
      "namedob_count_0_by_14 ---------> Done\n",
      "Run time for variable namedob_count_0_by_14 -------------- 0.14s\n",
      "namedob_count_0_by_30 ---------> Done\n",
      "Run time for variable namedob_count_0_by_30 -------------- 0.14s\n",
      "namedob_count_1_by_3 ---------> Done\n",
      "Run time for variable namedob_count_1_by_3 -------------- 0.14s\n",
      "namedob_count_1_by_7 ---------> Done\n",
      "Run time for variable namedob_count_1_by_7 -------------- 0.14s\n",
      "namedob_count_1_by_14 ---------> Done\n",
      "Run time for variable namedob_count_1_by_14 -------------- 0.14s\n",
      "namedob_count_1_by_30 ---------> Done\n",
      "Run time for variable namedob_count_1_by_30 -------------- 0.14s\n",
      "namedob_fulladdress_count_0_by_3 ---------> Done\n",
      "Run time for variable namedob_fulladdress_count_0_by_3 -------------- 0.14s\n",
      "namedob_fulladdress_count_0_by_7 ---------> Done\n",
      "Run time for variable namedob_fulladdress_count_0_by_7 -------------- 0.14s\n",
      "namedob_fulladdress_count_0_by_14 ---------> Done\n",
      "Run time for variable namedob_fulladdress_count_0_by_14 -------------- 0.14s\n",
      "namedob_fulladdress_count_0_by_30 ---------> Done\n",
      "Run time for variable namedob_fulladdress_count_0_by_30 -------------- 0.14s\n",
      "namedob_fulladdress_count_1_by_3 ---------> Done\n",
      "Run time for variable namedob_fulladdress_count_1_by_3 -------------- 0.14s\n",
      "namedob_fulladdress_count_1_by_7 ---------> Done\n",
      "Run time for variable namedob_fulladdress_count_1_by_7 -------------- 0.14s\n",
      "namedob_fulladdress_count_1_by_14 ---------> Done\n",
      "Run time for variable namedob_fulladdress_count_1_by_14 -------------- 0.14s\n",
      "namedob_fulladdress_count_1_by_30 ---------> Done\n",
      "Run time for variable namedob_fulladdress_count_1_by_30 -------------- 0.14s\n",
      "namedob_homephone_count_0_by_3 ---------> Done\n",
      "Run time for variable namedob_homephone_count_0_by_3 -------------- 0.15s\n",
      "namedob_homephone_count_0_by_7 ---------> Done\n",
      "Run time for variable namedob_homephone_count_0_by_7 -------------- 0.14s\n",
      "namedob_homephone_count_0_by_14 ---------> Done\n",
      "Run time for variable namedob_homephone_count_0_by_14 -------------- 0.14s\n",
      "namedob_homephone_count_0_by_30 ---------> Done\n",
      "Run time for variable namedob_homephone_count_0_by_30 -------------- 0.14s\n",
      "namedob_homephone_count_1_by_3 ---------> Done\n",
      "Run time for variable namedob_homephone_count_1_by_3 -------------- 0.14s\n",
      "namedob_homephone_count_1_by_7 ---------> Done\n",
      "Run time for variable namedob_homephone_count_1_by_7 -------------- 0.14s\n",
      "namedob_homephone_count_1_by_14 ---------> Done\n",
      "Run time for variable namedob_homephone_count_1_by_14 -------------- 0.15s\n",
      "namedob_homephone_count_1_by_30 ---------> Done\n",
      "Run time for variable namedob_homephone_count_1_by_30 -------------- 0.14s\n",
      "namedob_ssn_count_0_by_3 ---------> Done\n",
      "Run time for variable namedob_ssn_count_0_by_3 -------------- 0.14s\n",
      "namedob_ssn_count_0_by_7 ---------> Done\n",
      "Run time for variable namedob_ssn_count_0_by_7 -------------- 0.14s\n",
      "namedob_ssn_count_0_by_14 ---------> Done\n",
      "Run time for variable namedob_ssn_count_0_by_14 -------------- 0.14s\n",
      "namedob_ssn_count_0_by_30 ---------> Done\n",
      "Run time for variable namedob_ssn_count_0_by_30 -------------- 0.14s\n"
     ]
    },
    {
     "name": "stdout",
     "output_type": "stream",
     "text": [
      "namedob_ssn_count_1_by_3 ---------> Done\n",
      "Run time for variable namedob_ssn_count_1_by_3 -------------- 0.15s\n",
      "namedob_ssn_count_1_by_7 ---------> Done\n",
      "Run time for variable namedob_ssn_count_1_by_7 -------------- 0.14s\n",
      "namedob_ssn_count_1_by_14 ---------> Done\n",
      "Run time for variable namedob_ssn_count_1_by_14 -------------- 0.14s\n",
      "namedob_ssn_count_1_by_30 ---------> Done\n",
      "Run time for variable namedob_ssn_count_1_by_30 -------------- 0.14s\n",
      "fulladdress_homephone_count_0_by_3 ---------> Done\n",
      "Run time for variable fulladdress_homephone_count_0_by_3 -------------- 0.14s\n",
      "fulladdress_homephone_count_0_by_7 ---------> Done\n",
      "Run time for variable fulladdress_homephone_count_0_by_7 -------------- 0.14s\n",
      "fulladdress_homephone_count_0_by_14 ---------> Done\n",
      "Run time for variable fulladdress_homephone_count_0_by_14 -------------- 0.14s\n",
      "fulladdress_homephone_count_0_by_30 ---------> Done\n",
      "Run time for variable fulladdress_homephone_count_0_by_30 -------------- 0.14s\n",
      "fulladdress_homephone_count_1_by_3 ---------> Done\n",
      "Run time for variable fulladdress_homephone_count_1_by_3 -------------- 0.14s\n",
      "fulladdress_homephone_count_1_by_7 ---------> Done\n",
      "Run time for variable fulladdress_homephone_count_1_by_7 -------------- 0.14s\n",
      "fulladdress_homephone_count_1_by_14 ---------> Done\n",
      "Run time for variable fulladdress_homephone_count_1_by_14 -------------- 0.14s\n",
      "fulladdress_homephone_count_1_by_30 ---------> Done\n",
      "Run time for variable fulladdress_homephone_count_1_by_30 -------------- 0.14s\n",
      "fulladdress_ssn_count_0_by_3 ---------> Done\n",
      "Run time for variable fulladdress_ssn_count_0_by_3 -------------- 0.14s\n",
      "fulladdress_ssn_count_0_by_7 ---------> Done\n",
      "Run time for variable fulladdress_ssn_count_0_by_7 -------------- 0.14s\n",
      "fulladdress_ssn_count_0_by_14 ---------> Done\n",
      "Run time for variable fulladdress_ssn_count_0_by_14 -------------- 0.15s\n",
      "fulladdress_ssn_count_0_by_30 ---------> Done\n",
      "Run time for variable fulladdress_ssn_count_0_by_30 -------------- 0.14s\n",
      "fulladdress_ssn_count_1_by_3 ---------> Done\n",
      "Run time for variable fulladdress_ssn_count_1_by_3 -------------- 0.16s\n",
      "fulladdress_ssn_count_1_by_7 ---------> Done\n",
      "Run time for variable fulladdress_ssn_count_1_by_7 -------------- 0.14s\n",
      "fulladdress_ssn_count_1_by_14 ---------> Done\n",
      "Run time for variable fulladdress_ssn_count_1_by_14 -------------- 0.14s\n",
      "fulladdress_ssn_count_1_by_30 ---------> Done\n",
      "Run time for variable fulladdress_ssn_count_1_by_30 -------------- 0.14s\n",
      "homephone_ssn_count_0_by_3 ---------> Done\n",
      "Run time for variable homephone_ssn_count_0_by_3 -------------- 0.14s\n",
      "homephone_ssn_count_0_by_7 ---------> Done\n",
      "Run time for variable homephone_ssn_count_0_by_7 -------------- 0.14s\n",
      "homephone_ssn_count_0_by_14 ---------> Done\n",
      "Run time for variable homephone_ssn_count_0_by_14 -------------- 0.15s\n",
      "homephone_ssn_count_0_by_30 ---------> Done\n",
      "Run time for variable homephone_ssn_count_0_by_30 -------------- 0.15s\n",
      "homephone_ssn_count_1_by_3 ---------> Done\n",
      "Run time for variable homephone_ssn_count_1_by_3 -------------- 0.15s\n",
      "homephone_ssn_count_1_by_7 ---------> Done\n",
      "Run time for variable homephone_ssn_count_1_by_7 -------------- 0.14s\n",
      "homephone_ssn_count_1_by_14 ---------> Done\n",
      "Run time for variable homephone_ssn_count_1_by_14 -------------- 0.14s\n",
      "homephone_ssn_count_1_by_30 ---------> Done\n",
      "Run time for variable homephone_ssn_count_1_by_30 -------------- 0.14s\n",
      "namedob_fulladdress_homephone_count_0_by_3 ---------> Done\n",
      "Run time for variable namedob_fulladdress_homephone_count_0_by_3 -------------- 0.14s\n",
      "namedob_fulladdress_homephone_count_0_by_7 ---------> Done\n",
      "Run time for variable namedob_fulladdress_homephone_count_0_by_7 -------------- 0.14s\n",
      "namedob_fulladdress_homephone_count_0_by_14 ---------> Done\n",
      "Run time for variable namedob_fulladdress_homephone_count_0_by_14 -------------- 0.14s\n",
      "namedob_fulladdress_homephone_count_0_by_30 ---------> Done\n",
      "Run time for variable namedob_fulladdress_homephone_count_0_by_30 -------------- 0.14s\n",
      "namedob_fulladdress_homephone_count_1_by_3 ---------> Done\n",
      "Run time for variable namedob_fulladdress_homephone_count_1_by_3 -------------- 0.14s\n",
      "namedob_fulladdress_homephone_count_1_by_7 ---------> Done\n",
      "Run time for variable namedob_fulladdress_homephone_count_1_by_7 -------------- 0.15s\n",
      "namedob_fulladdress_homephone_count_1_by_14 ---------> Done\n",
      "Run time for variable namedob_fulladdress_homephone_count_1_by_14 -------------- 0.15s\n",
      "namedob_fulladdress_homephone_count_1_by_30 ---------> Done\n",
      "Run time for variable namedob_fulladdress_homephone_count_1_by_30 -------------- 0.14s\n",
      "namedob_fulladdress_ssn_count_0_by_3 ---------> Done\n",
      "Run time for variable namedob_fulladdress_ssn_count_0_by_3 -------------- 0.15s\n",
      "namedob_fulladdress_ssn_count_0_by_7 ---------> Done\n",
      "Run time for variable namedob_fulladdress_ssn_count_0_by_7 -------------- 0.14s\n",
      "namedob_fulladdress_ssn_count_0_by_14 ---------> Done\n",
      "Run time for variable namedob_fulladdress_ssn_count_0_by_14 -------------- 0.14s\n",
      "namedob_fulladdress_ssn_count_0_by_30 ---------> Done\n",
      "Run time for variable namedob_fulladdress_ssn_count_0_by_30 -------------- 0.14s\n",
      "namedob_fulladdress_ssn_count_1_by_3 ---------> Done\n",
      "Run time for variable namedob_fulladdress_ssn_count_1_by_3 -------------- 0.14s\n",
      "namedob_fulladdress_ssn_count_1_by_7 ---------> Done\n",
      "Run time for variable namedob_fulladdress_ssn_count_1_by_7 -------------- 0.14s\n",
      "namedob_fulladdress_ssn_count_1_by_14 ---------> Done\n",
      "Run time for variable namedob_fulladdress_ssn_count_1_by_14 -------------- 0.14s\n",
      "namedob_fulladdress_ssn_count_1_by_30 ---------> Done\n",
      "Run time for variable namedob_fulladdress_ssn_count_1_by_30 -------------- 0.14s\n",
      "namedob_homephone_ssn_count_0_by_3 ---------> Done\n",
      "Run time for variable namedob_homephone_ssn_count_0_by_3 -------------- 0.14s\n",
      "namedob_homephone_ssn_count_0_by_7 ---------> Done\n",
      "Run time for variable namedob_homephone_ssn_count_0_by_7 -------------- 0.14s\n",
      "namedob_homephone_ssn_count_0_by_14 ---------> Done\n",
      "Run time for variable namedob_homephone_ssn_count_0_by_14 -------------- 0.14s\n",
      "namedob_homephone_ssn_count_0_by_30 ---------> Done\n",
      "Run time for variable namedob_homephone_ssn_count_0_by_30 -------------- 0.14s\n",
      "namedob_homephone_ssn_count_1_by_3 ---------> Done\n",
      "Run time for variable namedob_homephone_ssn_count_1_by_3 -------------- 0.14s\n",
      "namedob_homephone_ssn_count_1_by_7 ---------> Done\n",
      "Run time for variable namedob_homephone_ssn_count_1_by_7 -------------- 0.14s\n",
      "namedob_homephone_ssn_count_1_by_14 ---------> Done\n",
      "Run time for variable namedob_homephone_ssn_count_1_by_14 -------------- 0.14s\n",
      "namedob_homephone_ssn_count_1_by_30 ---------> Done\n",
      "Run time for variable namedob_homephone_ssn_count_1_by_30 -------------- 0.14s\n",
      "fulladdress_homephone_ssn_count_0_by_3 ---------> Done\n",
      "Run time for variable fulladdress_homephone_ssn_count_0_by_3 -------------- 0.14s\n",
      "fulladdress_homephone_ssn_count_0_by_7 ---------> Done\n",
      "Run time for variable fulladdress_homephone_ssn_count_0_by_7 -------------- 0.14s\n",
      "fulladdress_homephone_ssn_count_0_by_14 ---------> Done\n",
      "Run time for variable fulladdress_homephone_ssn_count_0_by_14 -------------- 0.14s\n",
      "fulladdress_homephone_ssn_count_0_by_30 ---------> Done\n",
      "Run time for variable fulladdress_homephone_ssn_count_0_by_30 -------------- 0.14s\n",
      "fulladdress_homephone_ssn_count_1_by_3 ---------> Done\n",
      "Run time for variable fulladdress_homephone_ssn_count_1_by_3 -------------- 0.14s\n",
      "fulladdress_homephone_ssn_count_1_by_7 ---------> Done\n",
      "Run time for variable fulladdress_homephone_ssn_count_1_by_7 -------------- 0.15s\n",
      "fulladdress_homephone_ssn_count_1_by_14 ---------> Done\n",
      "Run time for variable fulladdress_homephone_ssn_count_1_by_14 -------------- 0.17s\n",
      "fulladdress_homephone_ssn_count_1_by_30 ---------> Done\n",
      "Run time for variable fulladdress_homephone_ssn_count_1_by_30 -------------- 0.15s\n",
      "namedob_fulladdress_homephone_ssn_count_0_by_3 ---------> Done\n",
      "Run time for variable namedob_fulladdress_homephone_ssn_count_0_by_3 -------------- 0.16s\n",
      "namedob_fulladdress_homephone_ssn_count_0_by_7 ---------> Done\n",
      "Run time for variable namedob_fulladdress_homephone_ssn_count_0_by_7 -------------- 0.15s\n",
      "namedob_fulladdress_homephone_ssn_count_0_by_14 ---------> Done\n",
      "Run time for variable namedob_fulladdress_homephone_ssn_count_0_by_14 -------------- 0.15s\n",
      "namedob_fulladdress_homephone_ssn_count_0_by_30 ---------> Done\n",
      "Run time for variable namedob_fulladdress_homephone_ssn_count_0_by_30 -------------- 0.14s\n"
     ]
    },
    {
     "name": "stdout",
     "output_type": "stream",
     "text": [
      "namedob_fulladdress_homephone_ssn_count_1_by_3 ---------> Done\n",
      "Run time for variable namedob_fulladdress_homephone_ssn_count_1_by_3 -------------- 0.14s\n",
      "namedob_fulladdress_homephone_ssn_count_1_by_7 ---------> Done\n",
      "Run time for variable namedob_fulladdress_homephone_ssn_count_1_by_7 -------------- 0.14s\n",
      "namedob_fulladdress_homephone_ssn_count_1_by_14 ---------> Done\n",
      "Run time for variable namedob_fulladdress_homephone_ssn_count_1_by_14 -------------- 0.14s\n",
      "namedob_fulladdress_homephone_ssn_count_1_by_30 ---------> Done\n",
      "Run time for variable namedob_fulladdress_homephone_ssn_count_1_by_30 -------------- 0.14s\n",
      "firstname_fulladdress_homephone_count_0_by_3 ---------> Done\n",
      "Run time for variable firstname_fulladdress_homephone_count_0_by_3 -------------- 0.15s\n",
      "firstname_fulladdress_homephone_count_0_by_7 ---------> Done\n",
      "Run time for variable firstname_fulladdress_homephone_count_0_by_7 -------------- 0.14s\n",
      "firstname_fulladdress_homephone_count_0_by_14 ---------> Done\n",
      "Run time for variable firstname_fulladdress_homephone_count_0_by_14 -------------- 0.15s\n",
      "firstname_fulladdress_homephone_count_0_by_30 ---------> Done\n",
      "Run time for variable firstname_fulladdress_homephone_count_0_by_30 -------------- 0.15s\n",
      "firstname_fulladdress_homephone_count_1_by_3 ---------> Done\n",
      "Run time for variable firstname_fulladdress_homephone_count_1_by_3 -------------- 0.15s\n",
      "firstname_fulladdress_homephone_count_1_by_7 ---------> Done\n",
      "Run time for variable firstname_fulladdress_homephone_count_1_by_7 -------------- 0.14s\n",
      "firstname_fulladdress_homephone_count_1_by_14 ---------> Done\n",
      "Run time for variable firstname_fulladdress_homephone_count_1_by_14 -------------- 0.16s\n",
      "firstname_fulladdress_homephone_count_1_by_30 ---------> Done\n",
      "Run time for variable firstname_fulladdress_homephone_count_1_by_30 -------------- 0.16s\n",
      "firstname_fulladdress_ssn_count_0_by_3 ---------> Done\n",
      "Run time for variable firstname_fulladdress_ssn_count_0_by_3 -------------- 0.15s\n",
      "firstname_fulladdress_ssn_count_0_by_7 ---------> Done\n",
      "Run time for variable firstname_fulladdress_ssn_count_0_by_7 -------------- 0.14s\n",
      "firstname_fulladdress_ssn_count_0_by_14 ---------> Done\n",
      "Run time for variable firstname_fulladdress_ssn_count_0_by_14 -------------- 0.15s\n",
      "firstname_fulladdress_ssn_count_0_by_30 ---------> Done\n",
      "Run time for variable firstname_fulladdress_ssn_count_0_by_30 -------------- 0.14s\n",
      "firstname_fulladdress_ssn_count_1_by_3 ---------> Done\n",
      "Run time for variable firstname_fulladdress_ssn_count_1_by_3 -------------- 0.14s\n",
      "firstname_fulladdress_ssn_count_1_by_7 ---------> Done\n",
      "Run time for variable firstname_fulladdress_ssn_count_1_by_7 -------------- 0.14s\n",
      "firstname_fulladdress_ssn_count_1_by_14 ---------> Done\n",
      "Run time for variable firstname_fulladdress_ssn_count_1_by_14 -------------- 0.15s\n",
      "firstname_fulladdress_ssn_count_1_by_30 ---------> Done\n",
      "Run time for variable firstname_fulladdress_ssn_count_1_by_30 -------------- 0.14s\n",
      "firstname_homephone_ssn_count_0_by_3 ---------> Done\n",
      "Run time for variable firstname_homephone_ssn_count_0_by_3 -------------- 0.15s\n",
      "firstname_homephone_ssn_count_0_by_7 ---------> Done\n",
      "Run time for variable firstname_homephone_ssn_count_0_by_7 -------------- 0.15s\n",
      "firstname_homephone_ssn_count_0_by_14 ---------> Done\n",
      "Run time for variable firstname_homephone_ssn_count_0_by_14 -------------- 0.15s\n",
      "firstname_homephone_ssn_count_0_by_30 ---------> Done\n",
      "Run time for variable firstname_homephone_ssn_count_0_by_30 -------------- 0.15s\n",
      "firstname_homephone_ssn_count_1_by_3 ---------> Done\n",
      "Run time for variable firstname_homephone_ssn_count_1_by_3 -------------- 0.15s\n",
      "firstname_homephone_ssn_count_1_by_7 ---------> Done\n",
      "Run time for variable firstname_homephone_ssn_count_1_by_7 -------------- 0.15s\n",
      "firstname_homephone_ssn_count_1_by_14 ---------> Done\n",
      "Run time for variable firstname_homephone_ssn_count_1_by_14 -------------- 0.15s\n",
      "firstname_homephone_ssn_count_1_by_30 ---------> Done\n",
      "Run time for variable firstname_homephone_ssn_count_1_by_30 -------------- 0.15s\n",
      "firstname_fulladdress_homephone_ssn_count_0_by_3 ---------> Done\n",
      "Run time for variable firstname_fulladdress_homephone_ssn_count_0_by_3 -------------- 0.15s\n",
      "firstname_fulladdress_homephone_ssn_count_0_by_7 ---------> Done\n",
      "Run time for variable firstname_fulladdress_homephone_ssn_count_0_by_7 -------------- 0.15s\n",
      "firstname_fulladdress_homephone_ssn_count_0_by_14 ---------> Done\n",
      "Run time for variable firstname_fulladdress_homephone_ssn_count_0_by_14 -------------- 0.15s\n",
      "firstname_fulladdress_homephone_ssn_count_0_by_30 ---------> Done\n",
      "Run time for variable firstname_fulladdress_homephone_ssn_count_0_by_30 -------------- 0.14s\n",
      "firstname_fulladdress_homephone_ssn_count_1_by_3 ---------> Done\n",
      "Run time for variable firstname_fulladdress_homephone_ssn_count_1_by_3 -------------- 0.14s\n",
      "firstname_fulladdress_homephone_ssn_count_1_by_7 ---------> Done\n",
      "Run time for variable firstname_fulladdress_homephone_ssn_count_1_by_7 -------------- 0.14s\n",
      "firstname_fulladdress_homephone_ssn_count_1_by_14 ---------> Done\n",
      "Run time for variable firstname_fulladdress_homephone_ssn_count_1_by_14 -------------- 0.14s\n",
      "firstname_fulladdress_homephone_ssn_count_1_by_30 ---------> Done\n",
      "Run time for variable firstname_fulladdress_homephone_ssn_count_1_by_30 -------------- 0.14s\n",
      "lastname_fulladdress_homephone_count_0_by_3 ---------> Done\n",
      "Run time for variable lastname_fulladdress_homephone_count_0_by_3 -------------- 0.14s\n",
      "lastname_fulladdress_homephone_count_0_by_7 ---------> Done\n",
      "Run time for variable lastname_fulladdress_homephone_count_0_by_7 -------------- 0.14s\n",
      "lastname_fulladdress_homephone_count_0_by_14 ---------> Done\n",
      "Run time for variable lastname_fulladdress_homephone_count_0_by_14 -------------- 0.14s\n",
      "lastname_fulladdress_homephone_count_0_by_30 ---------> Done\n",
      "Run time for variable lastname_fulladdress_homephone_count_0_by_30 -------------- 0.14s\n",
      "lastname_fulladdress_homephone_count_1_by_3 ---------> Done\n",
      "Run time for variable lastname_fulladdress_homephone_count_1_by_3 -------------- 0.15s\n",
      "lastname_fulladdress_homephone_count_1_by_7 ---------> Done\n",
      "Run time for variable lastname_fulladdress_homephone_count_1_by_7 -------------- 0.14s\n",
      "lastname_fulladdress_homephone_count_1_by_14 ---------> Done\n",
      "Run time for variable lastname_fulladdress_homephone_count_1_by_14 -------------- 0.14s\n",
      "lastname_fulladdress_homephone_count_1_by_30 ---------> Done\n",
      "Run time for variable lastname_fulladdress_homephone_count_1_by_30 -------------- 0.14s\n",
      "lastname_fulladdress_ssn_count_0_by_3 ---------> Done\n",
      "Run time for variable lastname_fulladdress_ssn_count_0_by_3 -------------- 0.14s\n",
      "lastname_fulladdress_ssn_count_0_by_7 ---------> Done\n",
      "Run time for variable lastname_fulladdress_ssn_count_0_by_7 -------------- 0.14s\n",
      "lastname_fulladdress_ssn_count_0_by_14 ---------> Done\n",
      "Run time for variable lastname_fulladdress_ssn_count_0_by_14 -------------- 0.15s\n",
      "lastname_fulladdress_ssn_count_0_by_30 ---------> Done\n",
      "Run time for variable lastname_fulladdress_ssn_count_0_by_30 -------------- 0.14s\n",
      "lastname_fulladdress_ssn_count_1_by_3 ---------> Done\n",
      "Run time for variable lastname_fulladdress_ssn_count_1_by_3 -------------- 0.14s\n",
      "lastname_fulladdress_ssn_count_1_by_7 ---------> Done\n",
      "Run time for variable lastname_fulladdress_ssn_count_1_by_7 -------------- 0.14s\n",
      "lastname_fulladdress_ssn_count_1_by_14 ---------> Done\n",
      "Run time for variable lastname_fulladdress_ssn_count_1_by_14 -------------- 0.14s\n",
      "lastname_fulladdress_ssn_count_1_by_30 ---------> Done\n",
      "Run time for variable lastname_fulladdress_ssn_count_1_by_30 -------------- 0.14s\n",
      "lastname_homephone_ssn_count_0_by_3 ---------> Done\n",
      "Run time for variable lastname_homephone_ssn_count_0_by_3 -------------- 0.14s\n",
      "lastname_homephone_ssn_count_0_by_7 ---------> Done\n",
      "Run time for variable lastname_homephone_ssn_count_0_by_7 -------------- 0.14s\n",
      "lastname_homephone_ssn_count_0_by_14 ---------> Done\n",
      "Run time for variable lastname_homephone_ssn_count_0_by_14 -------------- 0.14s\n",
      "lastname_homephone_ssn_count_0_by_30 ---------> Done\n",
      "Run time for variable lastname_homephone_ssn_count_0_by_30 -------------- 0.14s\n",
      "lastname_homephone_ssn_count_1_by_3 ---------> Done\n",
      "Run time for variable lastname_homephone_ssn_count_1_by_3 -------------- 0.15s\n",
      "lastname_homephone_ssn_count_1_by_7 ---------> Done\n",
      "Run time for variable lastname_homephone_ssn_count_1_by_7 -------------- 0.14s\n"
     ]
    },
    {
     "name": "stdout",
     "output_type": "stream",
     "text": [
      "lastname_homephone_ssn_count_1_by_14 ---------> Done\n",
      "Run time for variable lastname_homephone_ssn_count_1_by_14 -------------- 0.14s\n",
      "lastname_homephone_ssn_count_1_by_30 ---------> Done\n",
      "Run time for variable lastname_homephone_ssn_count_1_by_30 -------------- 0.14s\n",
      "lastname_fulladdress_homephone_ssn_count_0_by_3 ---------> Done\n",
      "Run time for variable lastname_fulladdress_homephone_ssn_count_0_by_3 -------------- 0.14s\n",
      "lastname_fulladdress_homephone_ssn_count_0_by_7 ---------> Done\n",
      "Run time for variable lastname_fulladdress_homephone_ssn_count_0_by_7 -------------- 0.14s\n",
      "lastname_fulladdress_homephone_ssn_count_0_by_14 ---------> Done\n",
      "Run time for variable lastname_fulladdress_homephone_ssn_count_0_by_14 -------------- 0.14s\n",
      "lastname_fulladdress_homephone_ssn_count_0_by_30 ---------> Done\n",
      "Run time for variable lastname_fulladdress_homephone_ssn_count_0_by_30 -------------- 0.14s\n",
      "lastname_fulladdress_homephone_ssn_count_1_by_3 ---------> Done\n",
      "Run time for variable lastname_fulladdress_homephone_ssn_count_1_by_3 -------------- 0.14s\n",
      "lastname_fulladdress_homephone_ssn_count_1_by_7 ---------> Done\n",
      "Run time for variable lastname_fulladdress_homephone_ssn_count_1_by_7 -------------- 0.14s\n",
      "lastname_fulladdress_homephone_ssn_count_1_by_14 ---------> Done\n",
      "Run time for variable lastname_fulladdress_homephone_ssn_count_1_by_14 -------------- 0.14s\n",
      "lastname_fulladdress_homephone_ssn_count_1_by_30 ---------> Done\n",
      "Run time for variable lastname_fulladdress_homephone_ssn_count_1_by_30 -------------- 0.14s\n",
      "zip_namedob_homephone_count_0_by_3 ---------> Done\n",
      "Run time for variable zip_namedob_homephone_count_0_by_3 -------------- 0.14s\n",
      "zip_namedob_homephone_count_0_by_7 ---------> Done\n",
      "Run time for variable zip_namedob_homephone_count_0_by_7 -------------- 0.14s\n",
      "zip_namedob_homephone_count_0_by_14 ---------> Done\n",
      "Run time for variable zip_namedob_homephone_count_0_by_14 -------------- 0.14s\n",
      "zip_namedob_homephone_count_0_by_30 ---------> Done\n",
      "Run time for variable zip_namedob_homephone_count_0_by_30 -------------- 0.14s\n",
      "zip_namedob_homephone_count_1_by_3 ---------> Done\n",
      "Run time for variable zip_namedob_homephone_count_1_by_3 -------------- 0.14s\n",
      "zip_namedob_homephone_count_1_by_7 ---------> Done\n",
      "Run time for variable zip_namedob_homephone_count_1_by_7 -------------- 0.14s\n",
      "zip_namedob_homephone_count_1_by_14 ---------> Done\n",
      "Run time for variable zip_namedob_homephone_count_1_by_14 -------------- 0.14s\n",
      "zip_namedob_homephone_count_1_by_30 ---------> Done\n",
      "Run time for variable zip_namedob_homephone_count_1_by_30 -------------- 0.14s\n",
      "zip_namedob_ssn_count_0_by_3 ---------> Done\n",
      "Run time for variable zip_namedob_ssn_count_0_by_3 -------------- 0.14s\n",
      "zip_namedob_ssn_count_0_by_7 ---------> Done\n",
      "Run time for variable zip_namedob_ssn_count_0_by_7 -------------- 0.15s\n",
      "zip_namedob_ssn_count_0_by_14 ---------> Done\n",
      "Run time for variable zip_namedob_ssn_count_0_by_14 -------------- 0.15s\n",
      "zip_namedob_ssn_count_0_by_30 ---------> Done\n",
      "Run time for variable zip_namedob_ssn_count_0_by_30 -------------- 0.15s\n",
      "zip_namedob_ssn_count_1_by_3 ---------> Done\n",
      "Run time for variable zip_namedob_ssn_count_1_by_3 -------------- 0.14s\n",
      "zip_namedob_ssn_count_1_by_7 ---------> Done\n",
      "Run time for variable zip_namedob_ssn_count_1_by_7 -------------- 0.14s\n",
      "zip_namedob_ssn_count_1_by_14 ---------> Done\n",
      "Run time for variable zip_namedob_ssn_count_1_by_14 -------------- 0.14s\n",
      "zip_namedob_ssn_count_1_by_30 ---------> Done\n",
      "Run time for variable zip_namedob_ssn_count_1_by_30 -------------- 0.14s\n",
      "zip_homephone_ssn_count_0_by_3 ---------> Done\n",
      "Run time for variable zip_homephone_ssn_count_0_by_3 -------------- 0.15s\n",
      "zip_homephone_ssn_count_0_by_7 ---------> Done\n",
      "Run time for variable zip_homephone_ssn_count_0_by_7 -------------- 0.14s\n",
      "zip_homephone_ssn_count_0_by_14 ---------> Done\n",
      "Run time for variable zip_homephone_ssn_count_0_by_14 -------------- 0.15s\n",
      "zip_homephone_ssn_count_0_by_30 ---------> Done\n",
      "Run time for variable zip_homephone_ssn_count_0_by_30 -------------- 0.14s\n",
      "zip_homephone_ssn_count_1_by_3 ---------> Done\n",
      "Run time for variable zip_homephone_ssn_count_1_by_3 -------------- 0.14s\n",
      "zip_homephone_ssn_count_1_by_7 ---------> Done\n",
      "Run time for variable zip_homephone_ssn_count_1_by_7 -------------- 0.14s\n",
      "zip_homephone_ssn_count_1_by_14 ---------> Done\n",
      "Run time for variable zip_homephone_ssn_count_1_by_14 -------------- 0.15s\n",
      "zip_homephone_ssn_count_1_by_30 ---------> Done\n",
      "Run time for variable zip_homephone_ssn_count_1_by_30 -------------- 0.14s\n",
      "zip_namedob_homephone_ssn_count_0_by_3 ---------> Done\n",
      "Run time for variable zip_namedob_homephone_ssn_count_0_by_3 -------------- 0.15s\n",
      "zip_namedob_homephone_ssn_count_0_by_7 ---------> Done\n",
      "Run time for variable zip_namedob_homephone_ssn_count_0_by_7 -------------- 0.14s\n",
      "zip_namedob_homephone_ssn_count_0_by_14 ---------> Done\n",
      "Run time for variable zip_namedob_homephone_ssn_count_0_by_14 -------------- 0.15s\n",
      "zip_namedob_homephone_ssn_count_0_by_30 ---------> Done\n",
      "Run time for variable zip_namedob_homephone_ssn_count_0_by_30 -------------- 0.14s\n",
      "zip_namedob_homephone_ssn_count_1_by_3 ---------> Done\n",
      "Run time for variable zip_namedob_homephone_ssn_count_1_by_3 -------------- 0.14s\n",
      "zip_namedob_homephone_ssn_count_1_by_7 ---------> Done\n",
      "Run time for variable zip_namedob_homephone_ssn_count_1_by_7 -------------- 0.14s\n",
      "zip_namedob_homephone_ssn_count_1_by_14 ---------> Done\n",
      "Run time for variable zip_namedob_homephone_ssn_count_1_by_14 -------------- 0.14s\n",
      "zip_namedob_homephone_ssn_count_1_by_30 ---------> Done\n",
      "Run time for variable zip_namedob_homephone_ssn_count_1_by_30 -------------- 0.14s\n",
      "Total run time:  1.08min\n"
     ]
    }
   ],
   "source": [
    "start = timer()\n",
    "for column in variables:\n",
    "    st = timer()\n",
    "    temp = mydata[[column, 'fraud_label']].copy()\n",
    "    numbads = sum(temp['fraud_label'])\n",
    "    temp0 = temp.sort_values(column, ascending = False)\n",
    "    temp1 = temp0.head(topRows)\n",
    "    temp2 = temp0.tail(topRows)\n",
    "    needed1 = temp1.loc[:, 'fraud_label']\n",
    "    needed2 = temp2.loc[:, 'fraud_label']\n",
    "    FDR1 = sum(needed1)/numbads\n",
    "    FDR2 = sum(needed2)/numbads\n",
    "    FDRate = np.maximum(FDR1, FDR2)\n",
    "    KSFDR.loc[column, 'FDR'] = FDRate\n",
    "    print(f'{column} ---------> Done')\n",
    "    print(f'Run time for variable {column} -------------- {timer() - st:0.2f}s')\n",
    "\n",
    "print(f'Total run time: {(timer() - start) / 60: 0.2f}min')"
   ]
  },
  {
   "cell_type": "code",
   "execution_count": 42,
   "id": "junior-bumper",
   "metadata": {
    "ExecuteTime": {
     "end_time": "2021-03-18T06:17:04.366023Z",
     "start_time": "2021-03-18T06:17:04.358226Z"
    }
   },
   "outputs": [
    {
     "data": {
      "text/plain": [
       "450"
      ]
     },
     "execution_count": 42,
     "metadata": {},
     "output_type": "execute_result"
    }
   ],
   "source": [
    "len(KSFDR)"
   ]
  },
  {
   "cell_type": "code",
   "execution_count": 43,
   "id": "gross-appendix",
   "metadata": {
    "ExecuteTime": {
     "end_time": "2021-03-18T06:17:04.445567Z",
     "start_time": "2021-03-18T06:17:04.368392Z"
    }
   },
   "outputs": [],
   "source": [
    "KSFDR.to_excel('KDSFDR.xlsx')"
   ]
  },
  {
   "cell_type": "code",
   "execution_count": 44,
   "id": "vanilla-reservoir",
   "metadata": {
    "ExecuteTime": {
     "end_time": "2021-03-18T06:17:04.496712Z",
     "start_time": "2021-03-18T06:17:04.449288Z"
    }
   },
   "outputs": [],
   "source": [
    "KSFDR['rank_ks'] = KSFDR['ks'].rank(ascending = True)\n",
    "KSFDR['rank_FDR'] = KSFDR['FDR'].rank(ascending = True)\n",
    "KSFDR['average_rank'] = (KSFDR['rank_ks'] + KSFDR['rank_FDR'])/2\n",
    "KSFDR.sort_values(by = ['average_rank'], ascending = False, inplace = True)"
   ]
  },
  {
   "cell_type": "code",
   "execution_count": 224,
   "id": "systematic-fundamental",
   "metadata": {
    "ExecuteTime": {
     "end_time": "2021-03-07T16:40:29.658261Z",
     "start_time": "2021-03-07T16:40:29.638067Z"
    },
    "scrolled": false
   },
   "outputs": [
    {
     "data": {
      "text/html": [
       "<div>\n",
       "<style scoped>\n",
       "    .dataframe tbody tr th:only-of-type {\n",
       "        vertical-align: middle;\n",
       "    }\n",
       "\n",
       "    .dataframe tbody tr th {\n",
       "        vertical-align: top;\n",
       "    }\n",
       "\n",
       "    .dataframe thead th {\n",
       "        text-align: right;\n",
       "    }\n",
       "</style>\n",
       "<table border=\"1\" class=\"dataframe\">\n",
       "  <thead>\n",
       "    <tr style=\"text-align: right;\">\n",
       "      <th></th>\n",
       "      <th>ks</th>\n",
       "      <th>FDR</th>\n",
       "      <th>rank_ks</th>\n",
       "      <th>rank_FDR</th>\n",
       "      <th>average_rank</th>\n",
       "    </tr>\n",
       "    <tr>\n",
       "      <th>variable_name</th>\n",
       "      <th></th>\n",
       "      <th></th>\n",
       "      <th></th>\n",
       "      <th></th>\n",
       "      <th></th>\n",
       "    </tr>\n",
       "  </thead>\n",
       "  <tbody>\n",
       "    <tr>\n",
       "      <th>address_day_since</th>\n",
       "      <td>0.334673</td>\n",
       "      <td>0.355789</td>\n",
       "      <td>450.0</td>\n",
       "      <td>450.0</td>\n",
       "      <td>450.00</td>\n",
       "    </tr>\n",
       "    <tr>\n",
       "      <th>address_count_30</th>\n",
       "      <td>0.333297</td>\n",
       "      <td>0.354565</td>\n",
       "      <td>449.0</td>\n",
       "      <td>449.0</td>\n",
       "      <td>449.00</td>\n",
       "    </tr>\n",
       "    <tr>\n",
       "      <th>address_count_60</th>\n",
       "      <td>0.325596</td>\n",
       "      <td>0.349934</td>\n",
       "      <td>448.0</td>\n",
       "      <td>448.0</td>\n",
       "      <td>448.00</td>\n",
       "    </tr>\n",
       "    <tr>\n",
       "      <th>address_count_14</th>\n",
       "      <td>0.322785</td>\n",
       "      <td>0.346352</td>\n",
       "      <td>447.0</td>\n",
       "      <td>447.0</td>\n",
       "      <td>447.00</td>\n",
       "    </tr>\n",
       "    <tr>\n",
       "      <th>address_count_7</th>\n",
       "      <td>0.301954</td>\n",
       "      <td>0.322237</td>\n",
       "      <td>446.0</td>\n",
       "      <td>446.0</td>\n",
       "      <td>446.00</td>\n",
       "    </tr>\n",
       "    <tr>\n",
       "      <th>...</th>\n",
       "      <td>...</td>\n",
       "      <td>...</td>\n",
       "      <td>...</td>\n",
       "      <td>...</td>\n",
       "      <td>...</td>\n",
       "    </tr>\n",
       "    <tr>\n",
       "      <th>zip_homephone_ssn_count_0</th>\n",
       "      <td>0.001717</td>\n",
       "      <td>0.034688</td>\n",
       "      <td>2.0</td>\n",
       "      <td>12.5</td>\n",
       "      <td>7.25</td>\n",
       "    </tr>\n",
       "    <tr>\n",
       "      <th>lastname_homephone_ssn_count_0</th>\n",
       "      <td>0.001713</td>\n",
       "      <td>0.034688</td>\n",
       "      <td>1.0</td>\n",
       "      <td>12.5</td>\n",
       "      <td>6.75</td>\n",
       "    </tr>\n",
       "    <tr>\n",
       "      <th>zip_namedob_homephone_ssn_count_0</th>\n",
       "      <td>0.001745</td>\n",
       "      <td>0.034600</td>\n",
       "      <td>8.0</td>\n",
       "      <td>4.0</td>\n",
       "      <td>6.00</td>\n",
       "    </tr>\n",
       "    <tr>\n",
       "      <th>namedob_homephone_ssn_count_0</th>\n",
       "      <td>0.001743</td>\n",
       "      <td>0.034600</td>\n",
       "      <td>7.0</td>\n",
       "      <td>4.0</td>\n",
       "      <td>5.50</td>\n",
       "    </tr>\n",
       "    <tr>\n",
       "      <th>namedob_fulladdress_ssn_count_0</th>\n",
       "      <td>0.001735</td>\n",
       "      <td>0.034600</td>\n",
       "      <td>6.0</td>\n",
       "      <td>4.0</td>\n",
       "      <td>5.00</td>\n",
       "    </tr>\n",
       "  </tbody>\n",
       "</table>\n",
       "<p>450 rows × 5 columns</p>\n",
       "</div>"
      ],
      "text/plain": [
       "                                         ks       FDR  rank_ks  rank_FDR  \\\n",
       "variable_name                                                              \n",
       "address_day_since                  0.334673  0.355789    450.0     450.0   \n",
       "address_count_30                   0.333297  0.354565    449.0     449.0   \n",
       "address_count_60                   0.325596  0.349934    448.0     448.0   \n",
       "address_count_14                   0.322785  0.346352    447.0     447.0   \n",
       "address_count_7                    0.301954  0.322237    446.0     446.0   \n",
       "...                                     ...       ...      ...       ...   \n",
       "zip_homephone_ssn_count_0          0.001717  0.034688      2.0      12.5   \n",
       "lastname_homephone_ssn_count_0     0.001713  0.034688      1.0      12.5   \n",
       "zip_namedob_homephone_ssn_count_0  0.001745  0.034600      8.0       4.0   \n",
       "namedob_homephone_ssn_count_0      0.001743  0.034600      7.0       4.0   \n",
       "namedob_fulladdress_ssn_count_0    0.001735  0.034600      6.0       4.0   \n",
       "\n",
       "                                   average_rank  \n",
       "variable_name                                    \n",
       "address_day_since                        450.00  \n",
       "address_count_30                         449.00  \n",
       "address_count_60                         448.00  \n",
       "address_count_14                         447.00  \n",
       "address_count_7                          446.00  \n",
       "...                                         ...  \n",
       "zip_homephone_ssn_count_0                  7.25  \n",
       "lastname_homephone_ssn_count_0             6.75  \n",
       "zip_namedob_homephone_ssn_count_0          6.00  \n",
       "namedob_homephone_ssn_count_0              5.50  \n",
       "namedob_fulladdress_ssn_count_0            5.00  \n",
       "\n",
       "[450 rows x 5 columns]"
      ]
     },
     "execution_count": 224,
     "metadata": {},
     "output_type": "execute_result"
    }
   ],
   "source": []
  },
  {
   "cell_type": "code",
   "execution_count": 45,
   "id": "intended-wheel",
   "metadata": {
    "ExecuteTime": {
     "end_time": "2021-03-18T06:17:04.503710Z",
     "start_time": "2021-03-18T06:17:04.500435Z"
    }
   },
   "outputs": [],
   "source": [
    "top_80 = KSFDR.iloc[:80,:].copy().index"
   ]
  },
  {
   "cell_type": "code",
   "execution_count": 46,
   "id": "progressive-parade",
   "metadata": {
    "ExecuteTime": {
     "end_time": "2021-03-18T06:17:05.623745Z",
     "start_time": "2021-03-18T06:17:04.505967Z"
    }
   },
   "outputs": [
    {
     "data": {
      "text/html": [
       "<div>\n",
       "<style scoped>\n",
       "    .dataframe tbody tr th:only-of-type {\n",
       "        vertical-align: middle;\n",
       "    }\n",
       "\n",
       "    .dataframe tbody tr th {\n",
       "        vertical-align: top;\n",
       "    }\n",
       "\n",
       "    .dataframe thead th {\n",
       "        text-align: right;\n",
       "    }\n",
       "</style>\n",
       "<table border=\"1\" class=\"dataframe\">\n",
       "  <thead>\n",
       "    <tr style=\"text-align: right;\">\n",
       "      <th>variable_name</th>\n",
       "      <th>address_day_since</th>\n",
       "      <th>address_count_30</th>\n",
       "      <th>address_count_60</th>\n",
       "      <th>address_count_14</th>\n",
       "      <th>address_count_7</th>\n",
       "      <th>address_count_0_by_14</th>\n",
       "      <th>address_count_3</th>\n",
       "      <th>address_count_0_by_30</th>\n",
       "      <th>address_count_0_by_7</th>\n",
       "      <th>address_count_1</th>\n",
       "      <th>...</th>\n",
       "      <th>fulladdress_homephone_count_0_by_3</th>\n",
       "      <th>namedob_ssn_count_1</th>\n",
       "      <th>dob_count_3</th>\n",
       "      <th>dob_count_60</th>\n",
       "      <th>homephone_day_since</th>\n",
       "      <th>homephone_count_0</th>\n",
       "      <th>namedob_count_0_by_3</th>\n",
       "      <th>ssn_count_0_by_3</th>\n",
       "      <th>namedob_ssn_count_0_by_3</th>\n",
       "      <th>dob_day_since</th>\n",
       "    </tr>\n",
       "  </thead>\n",
       "  <tbody>\n",
       "    <tr>\n",
       "      <th>41239</th>\n",
       "      <td>365.0</td>\n",
       "      <td>1</td>\n",
       "      <td>1</td>\n",
       "      <td>1</td>\n",
       "      <td>1</td>\n",
       "      <td>14.0</td>\n",
       "      <td>1</td>\n",
       "      <td>30.0</td>\n",
       "      <td>7.0</td>\n",
       "      <td>1</td>\n",
       "      <td>...</td>\n",
       "      <td>3.0</td>\n",
       "      <td>1</td>\n",
       "      <td>1</td>\n",
       "      <td>3</td>\n",
       "      <td>10.0</td>\n",
       "      <td>1</td>\n",
       "      <td>3.0</td>\n",
       "      <td>3.0</td>\n",
       "      <td>3.0</td>\n",
       "      <td>7.0</td>\n",
       "    </tr>\n",
       "    <tr>\n",
       "      <th>41240</th>\n",
       "      <td>10.0</td>\n",
       "      <td>2</td>\n",
       "      <td>2</td>\n",
       "      <td>2</td>\n",
       "      <td>1</td>\n",
       "      <td>7.0</td>\n",
       "      <td>1</td>\n",
       "      <td>15.0</td>\n",
       "      <td>7.0</td>\n",
       "      <td>1</td>\n",
       "      <td>...</td>\n",
       "      <td>3.0</td>\n",
       "      <td>1</td>\n",
       "      <td>1</td>\n",
       "      <td>3</td>\n",
       "      <td>5.0</td>\n",
       "      <td>1</td>\n",
       "      <td>3.0</td>\n",
       "      <td>3.0</td>\n",
       "      <td>3.0</td>\n",
       "      <td>10.0</td>\n",
       "    </tr>\n",
       "    <tr>\n",
       "      <th>41241</th>\n",
       "      <td>365.0</td>\n",
       "      <td>1</td>\n",
       "      <td>1</td>\n",
       "      <td>1</td>\n",
       "      <td>1</td>\n",
       "      <td>14.0</td>\n",
       "      <td>1</td>\n",
       "      <td>30.0</td>\n",
       "      <td>7.0</td>\n",
       "      <td>1</td>\n",
       "      <td>...</td>\n",
       "      <td>3.0</td>\n",
       "      <td>1</td>\n",
       "      <td>1</td>\n",
       "      <td>3</td>\n",
       "      <td>4.0</td>\n",
       "      <td>1</td>\n",
       "      <td>3.0</td>\n",
       "      <td>3.0</td>\n",
       "      <td>3.0</td>\n",
       "      <td>5.0</td>\n",
       "    </tr>\n",
       "    <tr>\n",
       "      <th>41242</th>\n",
       "      <td>365.0</td>\n",
       "      <td>1</td>\n",
       "      <td>1</td>\n",
       "      <td>1</td>\n",
       "      <td>1</td>\n",
       "      <td>14.0</td>\n",
       "      <td>1</td>\n",
       "      <td>30.0</td>\n",
       "      <td>7.0</td>\n",
       "      <td>1</td>\n",
       "      <td>...</td>\n",
       "      <td>3.0</td>\n",
       "      <td>1</td>\n",
       "      <td>1</td>\n",
       "      <td>1</td>\n",
       "      <td>7.0</td>\n",
       "      <td>1</td>\n",
       "      <td>3.0</td>\n",
       "      <td>3.0</td>\n",
       "      <td>3.0</td>\n",
       "      <td>365.0</td>\n",
       "    </tr>\n",
       "    <tr>\n",
       "      <th>41243</th>\n",
       "      <td>365.0</td>\n",
       "      <td>1</td>\n",
       "      <td>1</td>\n",
       "      <td>1</td>\n",
       "      <td>1</td>\n",
       "      <td>14.0</td>\n",
       "      <td>1</td>\n",
       "      <td>30.0</td>\n",
       "      <td>7.0</td>\n",
       "      <td>1</td>\n",
       "      <td>...</td>\n",
       "      <td>3.0</td>\n",
       "      <td>1</td>\n",
       "      <td>1</td>\n",
       "      <td>1</td>\n",
       "      <td>1.0</td>\n",
       "      <td>1</td>\n",
       "      <td>3.0</td>\n",
       "      <td>3.0</td>\n",
       "      <td>3.0</td>\n",
       "      <td>365.0</td>\n",
       "    </tr>\n",
       "    <tr>\n",
       "      <th>...</th>\n",
       "      <td>...</td>\n",
       "      <td>...</td>\n",
       "      <td>...</td>\n",
       "      <td>...</td>\n",
       "      <td>...</td>\n",
       "      <td>...</td>\n",
       "      <td>...</td>\n",
       "      <td>...</td>\n",
       "      <td>...</td>\n",
       "      <td>...</td>\n",
       "      <td>...</td>\n",
       "      <td>...</td>\n",
       "      <td>...</td>\n",
       "      <td>...</td>\n",
       "      <td>...</td>\n",
       "      <td>...</td>\n",
       "      <td>...</td>\n",
       "      <td>...</td>\n",
       "      <td>...</td>\n",
       "      <td>...</td>\n",
       "      <td>...</td>\n",
       "    </tr>\n",
       "    <tr>\n",
       "      <th>833502</th>\n",
       "      <td>36.0</td>\n",
       "      <td>1</td>\n",
       "      <td>2</td>\n",
       "      <td>1</td>\n",
       "      <td>1</td>\n",
       "      <td>14.0</td>\n",
       "      <td>1</td>\n",
       "      <td>30.0</td>\n",
       "      <td>7.0</td>\n",
       "      <td>1</td>\n",
       "      <td>...</td>\n",
       "      <td>3.0</td>\n",
       "      <td>1</td>\n",
       "      <td>1</td>\n",
       "      <td>5</td>\n",
       "      <td>1.0</td>\n",
       "      <td>1</td>\n",
       "      <td>3.0</td>\n",
       "      <td>3.0</td>\n",
       "      <td>3.0</td>\n",
       "      <td>12.0</td>\n",
       "    </tr>\n",
       "    <tr>\n",
       "      <th>833503</th>\n",
       "      <td>151.0</td>\n",
       "      <td>1</td>\n",
       "      <td>1</td>\n",
       "      <td>1</td>\n",
       "      <td>1</td>\n",
       "      <td>14.0</td>\n",
       "      <td>1</td>\n",
       "      <td>30.0</td>\n",
       "      <td>7.0</td>\n",
       "      <td>1</td>\n",
       "      <td>...</td>\n",
       "      <td>3.0</td>\n",
       "      <td>1</td>\n",
       "      <td>1</td>\n",
       "      <td>7</td>\n",
       "      <td>2.0</td>\n",
       "      <td>1</td>\n",
       "      <td>3.0</td>\n",
       "      <td>3.0</td>\n",
       "      <td>3.0</td>\n",
       "      <td>10.0</td>\n",
       "    </tr>\n",
       "    <tr>\n",
       "      <th>833504</th>\n",
       "      <td>365.0</td>\n",
       "      <td>1</td>\n",
       "      <td>1</td>\n",
       "      <td>1</td>\n",
       "      <td>1</td>\n",
       "      <td>14.0</td>\n",
       "      <td>1</td>\n",
       "      <td>30.0</td>\n",
       "      <td>7.0</td>\n",
       "      <td>1</td>\n",
       "      <td>...</td>\n",
       "      <td>3.0</td>\n",
       "      <td>1</td>\n",
       "      <td>3</td>\n",
       "      <td>4</td>\n",
       "      <td>365.0</td>\n",
       "      <td>1</td>\n",
       "      <td>3.0</td>\n",
       "      <td>3.0</td>\n",
       "      <td>3.0</td>\n",
       "      <td>1.0</td>\n",
       "    </tr>\n",
       "    <tr>\n",
       "      <th>833505</th>\n",
       "      <td>365.0</td>\n",
       "      <td>1</td>\n",
       "      <td>1</td>\n",
       "      <td>1</td>\n",
       "      <td>1</td>\n",
       "      <td>14.0</td>\n",
       "      <td>1</td>\n",
       "      <td>30.0</td>\n",
       "      <td>7.0</td>\n",
       "      <td>1</td>\n",
       "      <td>...</td>\n",
       "      <td>3.0</td>\n",
       "      <td>1</td>\n",
       "      <td>1</td>\n",
       "      <td>3</td>\n",
       "      <td>1.0</td>\n",
       "      <td>1</td>\n",
       "      <td>3.0</td>\n",
       "      <td>3.0</td>\n",
       "      <td>3.0</td>\n",
       "      <td>19.0</td>\n",
       "    </tr>\n",
       "    <tr>\n",
       "      <th>833506</th>\n",
       "      <td>365.0</td>\n",
       "      <td>1</td>\n",
       "      <td>1</td>\n",
       "      <td>1</td>\n",
       "      <td>1</td>\n",
       "      <td>14.0</td>\n",
       "      <td>1</td>\n",
       "      <td>30.0</td>\n",
       "      <td>7.0</td>\n",
       "      <td>1</td>\n",
       "      <td>...</td>\n",
       "      <td>3.0</td>\n",
       "      <td>1</td>\n",
       "      <td>1</td>\n",
       "      <td>4</td>\n",
       "      <td>2.0</td>\n",
       "      <td>1</td>\n",
       "      <td>3.0</td>\n",
       "      <td>3.0</td>\n",
       "      <td>3.0</td>\n",
       "      <td>40.0</td>\n",
       "    </tr>\n",
       "  </tbody>\n",
       "</table>\n",
       "<p>792268 rows × 80 columns</p>\n",
       "</div>"
      ],
      "text/plain": [
       "variable_name  address_day_since  address_count_30  address_count_60  \\\n",
       "41239                      365.0                 1                 1   \n",
       "41240                       10.0                 2                 2   \n",
       "41241                      365.0                 1                 1   \n",
       "41242                      365.0                 1                 1   \n",
       "41243                      365.0                 1                 1   \n",
       "...                          ...               ...               ...   \n",
       "833502                      36.0                 1                 2   \n",
       "833503                     151.0                 1                 1   \n",
       "833504                     365.0                 1                 1   \n",
       "833505                     365.0                 1                 1   \n",
       "833506                     365.0                 1                 1   \n",
       "\n",
       "variable_name  address_count_14  address_count_7  address_count_0_by_14  \\\n",
       "41239                         1                1                   14.0   \n",
       "41240                         2                1                    7.0   \n",
       "41241                         1                1                   14.0   \n",
       "41242                         1                1                   14.0   \n",
       "41243                         1                1                   14.0   \n",
       "...                         ...              ...                    ...   \n",
       "833502                        1                1                   14.0   \n",
       "833503                        1                1                   14.0   \n",
       "833504                        1                1                   14.0   \n",
       "833505                        1                1                   14.0   \n",
       "833506                        1                1                   14.0   \n",
       "\n",
       "variable_name  address_count_3  address_count_0_by_30  address_count_0_by_7  \\\n",
       "41239                        1                   30.0                   7.0   \n",
       "41240                        1                   15.0                   7.0   \n",
       "41241                        1                   30.0                   7.0   \n",
       "41242                        1                   30.0                   7.0   \n",
       "41243                        1                   30.0                   7.0   \n",
       "...                        ...                    ...                   ...   \n",
       "833502                       1                   30.0                   7.0   \n",
       "833503                       1                   30.0                   7.0   \n",
       "833504                       1                   30.0                   7.0   \n",
       "833505                       1                   30.0                   7.0   \n",
       "833506                       1                   30.0                   7.0   \n",
       "\n",
       "variable_name  address_count_1  ...  fulladdress_homephone_count_0_by_3  \\\n",
       "41239                        1  ...                                 3.0   \n",
       "41240                        1  ...                                 3.0   \n",
       "41241                        1  ...                                 3.0   \n",
       "41242                        1  ...                                 3.0   \n",
       "41243                        1  ...                                 3.0   \n",
       "...                        ...  ...                                 ...   \n",
       "833502                       1  ...                                 3.0   \n",
       "833503                       1  ...                                 3.0   \n",
       "833504                       1  ...                                 3.0   \n",
       "833505                       1  ...                                 3.0   \n",
       "833506                       1  ...                                 3.0   \n",
       "\n",
       "variable_name  namedob_ssn_count_1  dob_count_3  dob_count_60  \\\n",
       "41239                            1            1             3   \n",
       "41240                            1            1             3   \n",
       "41241                            1            1             3   \n",
       "41242                            1            1             1   \n",
       "41243                            1            1             1   \n",
       "...                            ...          ...           ...   \n",
       "833502                           1            1             5   \n",
       "833503                           1            1             7   \n",
       "833504                           1            3             4   \n",
       "833505                           1            1             3   \n",
       "833506                           1            1             4   \n",
       "\n",
       "variable_name  homephone_day_since  homephone_count_0  namedob_count_0_by_3  \\\n",
       "41239                         10.0                  1                   3.0   \n",
       "41240                          5.0                  1                   3.0   \n",
       "41241                          4.0                  1                   3.0   \n",
       "41242                          7.0                  1                   3.0   \n",
       "41243                          1.0                  1                   3.0   \n",
       "...                            ...                ...                   ...   \n",
       "833502                         1.0                  1                   3.0   \n",
       "833503                         2.0                  1                   3.0   \n",
       "833504                       365.0                  1                   3.0   \n",
       "833505                         1.0                  1                   3.0   \n",
       "833506                         2.0                  1                   3.0   \n",
       "\n",
       "variable_name  ssn_count_0_by_3  namedob_ssn_count_0_by_3  dob_day_since  \n",
       "41239                       3.0                       3.0            7.0  \n",
       "41240                       3.0                       3.0           10.0  \n",
       "41241                       3.0                       3.0            5.0  \n",
       "41242                       3.0                       3.0          365.0  \n",
       "41243                       3.0                       3.0          365.0  \n",
       "...                         ...                       ...            ...  \n",
       "833502                      3.0                       3.0           12.0  \n",
       "833503                      3.0                       3.0           10.0  \n",
       "833504                      3.0                       3.0            1.0  \n",
       "833505                      3.0                       3.0           19.0  \n",
       "833506                      3.0                       3.0           40.0  \n",
       "\n",
       "[792268 rows x 80 columns]"
      ]
     },
     "execution_count": 46,
     "metadata": {},
     "output_type": "execute_result"
    }
   ],
   "source": [
    "mydata.loc[:, top_80]"
   ]
  },
  {
   "cell_type": "code",
   "execution_count": 47,
   "id": "desperate-hunger",
   "metadata": {
    "ExecuteTime": {
     "end_time": "2021-03-18T06:17:07.635194Z",
     "start_time": "2021-03-18T06:17:05.626016Z"
    }
   },
   "outputs": [],
   "source": [
    "from sklearn.linear_model import LogisticRegression\n",
    "from sklearn.feature_selection import RFECV"
   ]
  },
  {
   "cell_type": "code",
   "execution_count": 48,
   "id": "balanced-miniature",
   "metadata": {
    "ExecuteTime": {
     "end_time": "2021-03-18T06:17:07.641902Z",
     "start_time": "2021-03-18T06:17:07.638925Z"
    }
   },
   "outputs": [],
   "source": [
    "model = LogisticRegression(penalty = 'l2', class_weight = 'balanced')"
   ]
  },
  {
   "cell_type": "code",
   "execution_count": null,
   "id": "damaged-tract",
   "metadata": {},
   "outputs": [],
   "source": []
  },
  {
   "cell_type": "code",
   "execution_count": 49,
   "id": "statistical-conversion",
   "metadata": {
    "ExecuteTime": {
     "end_time": "2021-03-18T06:31:28.921588Z",
     "start_time": "2021-03-18T06:17:07.643699Z"
    },
    "scrolled": false
   },
   "outputs": [
    {
     "name": "stdout",
     "output_type": "stream",
     "text": [
      "Fitting estimator with 80 features.\n"
     ]
    },
    {
     "name": "stderr",
     "output_type": "stream",
     "text": [
      "/Users/HarryWang/opt/anaconda3/lib/python3.8/site-packages/sklearn/linear_model/_logistic.py:762: ConvergenceWarning: lbfgs failed to converge (status=1):\n",
      "STOP: TOTAL NO. of ITERATIONS REACHED LIMIT.\n",
      "\n",
      "Increase the number of iterations (max_iter) or scale the data as shown in:\n",
      "    https://scikit-learn.org/stable/modules/preprocessing.html\n",
      "Please also refer to the documentation for alternative solver options:\n",
      "    https://scikit-learn.org/stable/modules/linear_model.html#logistic-regression\n",
      "  n_iter_i = _check_optimize_result(\n"
     ]
    },
    {
     "name": "stdout",
     "output_type": "stream",
     "text": [
      "Fitting estimator with 79 features.\n"
     ]
    },
    {
     "name": "stderr",
     "output_type": "stream",
     "text": [
      "/Users/HarryWang/opt/anaconda3/lib/python3.8/site-packages/sklearn/linear_model/_logistic.py:762: ConvergenceWarning: lbfgs failed to converge (status=1):\n",
      "STOP: TOTAL NO. of ITERATIONS REACHED LIMIT.\n",
      "\n",
      "Increase the number of iterations (max_iter) or scale the data as shown in:\n",
      "    https://scikit-learn.org/stable/modules/preprocessing.html\n",
      "Please also refer to the documentation for alternative solver options:\n",
      "    https://scikit-learn.org/stable/modules/linear_model.html#logistic-regression\n",
      "  n_iter_i = _check_optimize_result(\n"
     ]
    },
    {
     "name": "stdout",
     "output_type": "stream",
     "text": [
      "Fitting estimator with 78 features.\n"
     ]
    },
    {
     "name": "stderr",
     "output_type": "stream",
     "text": [
      "/Users/HarryWang/opt/anaconda3/lib/python3.8/site-packages/sklearn/linear_model/_logistic.py:762: ConvergenceWarning: lbfgs failed to converge (status=1):\n",
      "STOP: TOTAL NO. of ITERATIONS REACHED LIMIT.\n",
      "\n",
      "Increase the number of iterations (max_iter) or scale the data as shown in:\n",
      "    https://scikit-learn.org/stable/modules/preprocessing.html\n",
      "Please also refer to the documentation for alternative solver options:\n",
      "    https://scikit-learn.org/stable/modules/linear_model.html#logistic-regression\n",
      "  n_iter_i = _check_optimize_result(\n"
     ]
    },
    {
     "name": "stdout",
     "output_type": "stream",
     "text": [
      "Fitting estimator with 77 features.\n"
     ]
    },
    {
     "name": "stderr",
     "output_type": "stream",
     "text": [
      "/Users/HarryWang/opt/anaconda3/lib/python3.8/site-packages/sklearn/linear_model/_logistic.py:762: ConvergenceWarning: lbfgs failed to converge (status=1):\n",
      "STOP: TOTAL NO. of ITERATIONS REACHED LIMIT.\n",
      "\n",
      "Increase the number of iterations (max_iter) or scale the data as shown in:\n",
      "    https://scikit-learn.org/stable/modules/preprocessing.html\n",
      "Please also refer to the documentation for alternative solver options:\n",
      "    https://scikit-learn.org/stable/modules/linear_model.html#logistic-regression\n",
      "  n_iter_i = _check_optimize_result(\n"
     ]
    },
    {
     "name": "stdout",
     "output_type": "stream",
     "text": [
      "Fitting estimator with 76 features.\n"
     ]
    },
    {
     "name": "stderr",
     "output_type": "stream",
     "text": [
      "/Users/HarryWang/opt/anaconda3/lib/python3.8/site-packages/sklearn/linear_model/_logistic.py:762: ConvergenceWarning: lbfgs failed to converge (status=1):\n",
      "STOP: TOTAL NO. of ITERATIONS REACHED LIMIT.\n",
      "\n",
      "Increase the number of iterations (max_iter) or scale the data as shown in:\n",
      "    https://scikit-learn.org/stable/modules/preprocessing.html\n",
      "Please also refer to the documentation for alternative solver options:\n",
      "    https://scikit-learn.org/stable/modules/linear_model.html#logistic-regression\n",
      "  n_iter_i = _check_optimize_result(\n"
     ]
    },
    {
     "name": "stdout",
     "output_type": "stream",
     "text": [
      "Fitting estimator with 75 features.\n"
     ]
    },
    {
     "name": "stderr",
     "output_type": "stream",
     "text": [
      "/Users/HarryWang/opt/anaconda3/lib/python3.8/site-packages/sklearn/linear_model/_logistic.py:762: ConvergenceWarning: lbfgs failed to converge (status=1):\n",
      "STOP: TOTAL NO. of ITERATIONS REACHED LIMIT.\n",
      "\n",
      "Increase the number of iterations (max_iter) or scale the data as shown in:\n",
      "    https://scikit-learn.org/stable/modules/preprocessing.html\n",
      "Please also refer to the documentation for alternative solver options:\n",
      "    https://scikit-learn.org/stable/modules/linear_model.html#logistic-regression\n",
      "  n_iter_i = _check_optimize_result(\n"
     ]
    },
    {
     "name": "stdout",
     "output_type": "stream",
     "text": [
      "Fitting estimator with 74 features.\n"
     ]
    },
    {
     "name": "stderr",
     "output_type": "stream",
     "text": [
      "/Users/HarryWang/opt/anaconda3/lib/python3.8/site-packages/sklearn/linear_model/_logistic.py:762: ConvergenceWarning: lbfgs failed to converge (status=1):\n",
      "STOP: TOTAL NO. of ITERATIONS REACHED LIMIT.\n",
      "\n",
      "Increase the number of iterations (max_iter) or scale the data as shown in:\n",
      "    https://scikit-learn.org/stable/modules/preprocessing.html\n",
      "Please also refer to the documentation for alternative solver options:\n",
      "    https://scikit-learn.org/stable/modules/linear_model.html#logistic-regression\n",
      "  n_iter_i = _check_optimize_result(\n"
     ]
    },
    {
     "name": "stdout",
     "output_type": "stream",
     "text": [
      "Fitting estimator with 73 features.\n"
     ]
    },
    {
     "name": "stderr",
     "output_type": "stream",
     "text": [
      "/Users/HarryWang/opt/anaconda3/lib/python3.8/site-packages/sklearn/linear_model/_logistic.py:762: ConvergenceWarning: lbfgs failed to converge (status=1):\n",
      "STOP: TOTAL NO. of ITERATIONS REACHED LIMIT.\n",
      "\n",
      "Increase the number of iterations (max_iter) or scale the data as shown in:\n",
      "    https://scikit-learn.org/stable/modules/preprocessing.html\n",
      "Please also refer to the documentation for alternative solver options:\n",
      "    https://scikit-learn.org/stable/modules/linear_model.html#logistic-regression\n",
      "  n_iter_i = _check_optimize_result(\n"
     ]
    },
    {
     "name": "stdout",
     "output_type": "stream",
     "text": [
      "Fitting estimator with 72 features.\n"
     ]
    },
    {
     "name": "stderr",
     "output_type": "stream",
     "text": [
      "/Users/HarryWang/opt/anaconda3/lib/python3.8/site-packages/sklearn/linear_model/_logistic.py:762: ConvergenceWarning: lbfgs failed to converge (status=1):\n",
      "STOP: TOTAL NO. of ITERATIONS REACHED LIMIT.\n",
      "\n",
      "Increase the number of iterations (max_iter) or scale the data as shown in:\n",
      "    https://scikit-learn.org/stable/modules/preprocessing.html\n",
      "Please also refer to the documentation for alternative solver options:\n",
      "    https://scikit-learn.org/stable/modules/linear_model.html#logistic-regression\n",
      "  n_iter_i = _check_optimize_result(\n"
     ]
    },
    {
     "name": "stdout",
     "output_type": "stream",
     "text": [
      "Fitting estimator with 71 features.\n"
     ]
    },
    {
     "name": "stderr",
     "output_type": "stream",
     "text": [
      "/Users/HarryWang/opt/anaconda3/lib/python3.8/site-packages/sklearn/linear_model/_logistic.py:762: ConvergenceWarning: lbfgs failed to converge (status=1):\n",
      "STOP: TOTAL NO. of ITERATIONS REACHED LIMIT.\n",
      "\n",
      "Increase the number of iterations (max_iter) or scale the data as shown in:\n",
      "    https://scikit-learn.org/stable/modules/preprocessing.html\n",
      "Please also refer to the documentation for alternative solver options:\n",
      "    https://scikit-learn.org/stable/modules/linear_model.html#logistic-regression\n",
      "  n_iter_i = _check_optimize_result(\n"
     ]
    },
    {
     "name": "stdout",
     "output_type": "stream",
     "text": [
      "Fitting estimator with 70 features.\n"
     ]
    },
    {
     "name": "stderr",
     "output_type": "stream",
     "text": [
      "/Users/HarryWang/opt/anaconda3/lib/python3.8/site-packages/sklearn/linear_model/_logistic.py:762: ConvergenceWarning: lbfgs failed to converge (status=1):\n",
      "STOP: TOTAL NO. of ITERATIONS REACHED LIMIT.\n",
      "\n",
      "Increase the number of iterations (max_iter) or scale the data as shown in:\n",
      "    https://scikit-learn.org/stable/modules/preprocessing.html\n",
      "Please also refer to the documentation for alternative solver options:\n",
      "    https://scikit-learn.org/stable/modules/linear_model.html#logistic-regression\n",
      "  n_iter_i = _check_optimize_result(\n"
     ]
    },
    {
     "name": "stdout",
     "output_type": "stream",
     "text": [
      "Fitting estimator with 69 features.\n"
     ]
    },
    {
     "name": "stderr",
     "output_type": "stream",
     "text": [
      "/Users/HarryWang/opt/anaconda3/lib/python3.8/site-packages/sklearn/linear_model/_logistic.py:762: ConvergenceWarning: lbfgs failed to converge (status=1):\n",
      "STOP: TOTAL NO. of ITERATIONS REACHED LIMIT.\n",
      "\n",
      "Increase the number of iterations (max_iter) or scale the data as shown in:\n",
      "    https://scikit-learn.org/stable/modules/preprocessing.html\n",
      "Please also refer to the documentation for alternative solver options:\n",
      "    https://scikit-learn.org/stable/modules/linear_model.html#logistic-regression\n",
      "  n_iter_i = _check_optimize_result(\n"
     ]
    },
    {
     "name": "stdout",
     "output_type": "stream",
     "text": [
      "Fitting estimator with 68 features.\n"
     ]
    },
    {
     "name": "stderr",
     "output_type": "stream",
     "text": [
      "/Users/HarryWang/opt/anaconda3/lib/python3.8/site-packages/sklearn/linear_model/_logistic.py:762: ConvergenceWarning: lbfgs failed to converge (status=1):\n",
      "STOP: TOTAL NO. of ITERATIONS REACHED LIMIT.\n",
      "\n",
      "Increase the number of iterations (max_iter) or scale the data as shown in:\n",
      "    https://scikit-learn.org/stable/modules/preprocessing.html\n",
      "Please also refer to the documentation for alternative solver options:\n",
      "    https://scikit-learn.org/stable/modules/linear_model.html#logistic-regression\n",
      "  n_iter_i = _check_optimize_result(\n"
     ]
    },
    {
     "name": "stdout",
     "output_type": "stream",
     "text": [
      "Fitting estimator with 67 features.\n"
     ]
    },
    {
     "name": "stderr",
     "output_type": "stream",
     "text": [
      "/Users/HarryWang/opt/anaconda3/lib/python3.8/site-packages/sklearn/linear_model/_logistic.py:762: ConvergenceWarning: lbfgs failed to converge (status=1):\n",
      "STOP: TOTAL NO. of ITERATIONS REACHED LIMIT.\n",
      "\n",
      "Increase the number of iterations (max_iter) or scale the data as shown in:\n",
      "    https://scikit-learn.org/stable/modules/preprocessing.html\n",
      "Please also refer to the documentation for alternative solver options:\n",
      "    https://scikit-learn.org/stable/modules/linear_model.html#logistic-regression\n",
      "  n_iter_i = _check_optimize_result(\n"
     ]
    },
    {
     "name": "stdout",
     "output_type": "stream",
     "text": [
      "Fitting estimator with 66 features.\n"
     ]
    },
    {
     "name": "stderr",
     "output_type": "stream",
     "text": [
      "/Users/HarryWang/opt/anaconda3/lib/python3.8/site-packages/sklearn/linear_model/_logistic.py:762: ConvergenceWarning: lbfgs failed to converge (status=1):\n",
      "STOP: TOTAL NO. of ITERATIONS REACHED LIMIT.\n",
      "\n",
      "Increase the number of iterations (max_iter) or scale the data as shown in:\n",
      "    https://scikit-learn.org/stable/modules/preprocessing.html\n",
      "Please also refer to the documentation for alternative solver options:\n",
      "    https://scikit-learn.org/stable/modules/linear_model.html#logistic-regression\n",
      "  n_iter_i = _check_optimize_result(\n"
     ]
    },
    {
     "name": "stdout",
     "output_type": "stream",
     "text": [
      "Fitting estimator with 65 features.\n"
     ]
    },
    {
     "name": "stderr",
     "output_type": "stream",
     "text": [
      "/Users/HarryWang/opt/anaconda3/lib/python3.8/site-packages/sklearn/linear_model/_logistic.py:762: ConvergenceWarning: lbfgs failed to converge (status=1):\n",
      "STOP: TOTAL NO. of ITERATIONS REACHED LIMIT.\n",
      "\n",
      "Increase the number of iterations (max_iter) or scale the data as shown in:\n",
      "    https://scikit-learn.org/stable/modules/preprocessing.html\n",
      "Please also refer to the documentation for alternative solver options:\n",
      "    https://scikit-learn.org/stable/modules/linear_model.html#logistic-regression\n",
      "  n_iter_i = _check_optimize_result(\n"
     ]
    },
    {
     "name": "stdout",
     "output_type": "stream",
     "text": [
      "Fitting estimator with 64 features.\n"
     ]
    },
    {
     "name": "stderr",
     "output_type": "stream",
     "text": [
      "/Users/HarryWang/opt/anaconda3/lib/python3.8/site-packages/sklearn/linear_model/_logistic.py:762: ConvergenceWarning: lbfgs failed to converge (status=1):\n",
      "STOP: TOTAL NO. of ITERATIONS REACHED LIMIT.\n",
      "\n",
      "Increase the number of iterations (max_iter) or scale the data as shown in:\n",
      "    https://scikit-learn.org/stable/modules/preprocessing.html\n",
      "Please also refer to the documentation for alternative solver options:\n",
      "    https://scikit-learn.org/stable/modules/linear_model.html#logistic-regression\n",
      "  n_iter_i = _check_optimize_result(\n"
     ]
    },
    {
     "name": "stdout",
     "output_type": "stream",
     "text": [
      "Fitting estimator with 63 features.\n"
     ]
    },
    {
     "name": "stderr",
     "output_type": "stream",
     "text": [
      "/Users/HarryWang/opt/anaconda3/lib/python3.8/site-packages/sklearn/linear_model/_logistic.py:762: ConvergenceWarning: lbfgs failed to converge (status=1):\n",
      "STOP: TOTAL NO. of ITERATIONS REACHED LIMIT.\n",
      "\n",
      "Increase the number of iterations (max_iter) or scale the data as shown in:\n",
      "    https://scikit-learn.org/stable/modules/preprocessing.html\n",
      "Please also refer to the documentation for alternative solver options:\n",
      "    https://scikit-learn.org/stable/modules/linear_model.html#logistic-regression\n",
      "  n_iter_i = _check_optimize_result(\n"
     ]
    },
    {
     "name": "stdout",
     "output_type": "stream",
     "text": [
      "Fitting estimator with 62 features.\n"
     ]
    },
    {
     "name": "stderr",
     "output_type": "stream",
     "text": [
      "/Users/HarryWang/opt/anaconda3/lib/python3.8/site-packages/sklearn/linear_model/_logistic.py:762: ConvergenceWarning: lbfgs failed to converge (status=1):\n",
      "STOP: TOTAL NO. of ITERATIONS REACHED LIMIT.\n",
      "\n",
      "Increase the number of iterations (max_iter) or scale the data as shown in:\n",
      "    https://scikit-learn.org/stable/modules/preprocessing.html\n",
      "Please also refer to the documentation for alternative solver options:\n",
      "    https://scikit-learn.org/stable/modules/linear_model.html#logistic-regression\n",
      "  n_iter_i = _check_optimize_result(\n"
     ]
    },
    {
     "name": "stdout",
     "output_type": "stream",
     "text": [
      "Fitting estimator with 61 features.\n"
     ]
    },
    {
     "name": "stderr",
     "output_type": "stream",
     "text": [
      "/Users/HarryWang/opt/anaconda3/lib/python3.8/site-packages/sklearn/linear_model/_logistic.py:762: ConvergenceWarning: lbfgs failed to converge (status=1):\n",
      "STOP: TOTAL NO. of ITERATIONS REACHED LIMIT.\n",
      "\n",
      "Increase the number of iterations (max_iter) or scale the data as shown in:\n",
      "    https://scikit-learn.org/stable/modules/preprocessing.html\n",
      "Please also refer to the documentation for alternative solver options:\n",
      "    https://scikit-learn.org/stable/modules/linear_model.html#logistic-regression\n",
      "  n_iter_i = _check_optimize_result(\n"
     ]
    },
    {
     "name": "stdout",
     "output_type": "stream",
     "text": [
      "Fitting estimator with 60 features.\n"
     ]
    },
    {
     "name": "stderr",
     "output_type": "stream",
     "text": [
      "/Users/HarryWang/opt/anaconda3/lib/python3.8/site-packages/sklearn/linear_model/_logistic.py:762: ConvergenceWarning: lbfgs failed to converge (status=1):\n",
      "STOP: TOTAL NO. of ITERATIONS REACHED LIMIT.\n",
      "\n",
      "Increase the number of iterations (max_iter) or scale the data as shown in:\n",
      "    https://scikit-learn.org/stable/modules/preprocessing.html\n",
      "Please also refer to the documentation for alternative solver options:\n",
      "    https://scikit-learn.org/stable/modules/linear_model.html#logistic-regression\n",
      "  n_iter_i = _check_optimize_result(\n"
     ]
    },
    {
     "name": "stdout",
     "output_type": "stream",
     "text": [
      "Fitting estimator with 59 features.\n"
     ]
    },
    {
     "name": "stderr",
     "output_type": "stream",
     "text": [
      "/Users/HarryWang/opt/anaconda3/lib/python3.8/site-packages/sklearn/linear_model/_logistic.py:762: ConvergenceWarning: lbfgs failed to converge (status=1):\n",
      "STOP: TOTAL NO. of ITERATIONS REACHED LIMIT.\n",
      "\n",
      "Increase the number of iterations (max_iter) or scale the data as shown in:\n",
      "    https://scikit-learn.org/stable/modules/preprocessing.html\n",
      "Please also refer to the documentation for alternative solver options:\n",
      "    https://scikit-learn.org/stable/modules/linear_model.html#logistic-regression\n",
      "  n_iter_i = _check_optimize_result(\n"
     ]
    },
    {
     "name": "stdout",
     "output_type": "stream",
     "text": [
      "Fitting estimator with 58 features.\n"
     ]
    },
    {
     "name": "stderr",
     "output_type": "stream",
     "text": [
      "/Users/HarryWang/opt/anaconda3/lib/python3.8/site-packages/sklearn/linear_model/_logistic.py:762: ConvergenceWarning: lbfgs failed to converge (status=1):\n",
      "STOP: TOTAL NO. of ITERATIONS REACHED LIMIT.\n",
      "\n",
      "Increase the number of iterations (max_iter) or scale the data as shown in:\n",
      "    https://scikit-learn.org/stable/modules/preprocessing.html\n",
      "Please also refer to the documentation for alternative solver options:\n",
      "    https://scikit-learn.org/stable/modules/linear_model.html#logistic-regression\n",
      "  n_iter_i = _check_optimize_result(\n"
     ]
    },
    {
     "name": "stdout",
     "output_type": "stream",
     "text": [
      "Fitting estimator with 57 features.\n"
     ]
    },
    {
     "name": "stderr",
     "output_type": "stream",
     "text": [
      "/Users/HarryWang/opt/anaconda3/lib/python3.8/site-packages/sklearn/linear_model/_logistic.py:762: ConvergenceWarning: lbfgs failed to converge (status=1):\n",
      "STOP: TOTAL NO. of ITERATIONS REACHED LIMIT.\n",
      "\n",
      "Increase the number of iterations (max_iter) or scale the data as shown in:\n",
      "    https://scikit-learn.org/stable/modules/preprocessing.html\n",
      "Please also refer to the documentation for alternative solver options:\n",
      "    https://scikit-learn.org/stable/modules/linear_model.html#logistic-regression\n",
      "  n_iter_i = _check_optimize_result(\n"
     ]
    },
    {
     "name": "stdout",
     "output_type": "stream",
     "text": [
      "Fitting estimator with 56 features.\n"
     ]
    },
    {
     "name": "stderr",
     "output_type": "stream",
     "text": [
      "/Users/HarryWang/opt/anaconda3/lib/python3.8/site-packages/sklearn/linear_model/_logistic.py:762: ConvergenceWarning: lbfgs failed to converge (status=1):\n",
      "STOP: TOTAL NO. of ITERATIONS REACHED LIMIT.\n",
      "\n",
      "Increase the number of iterations (max_iter) or scale the data as shown in:\n",
      "    https://scikit-learn.org/stable/modules/preprocessing.html\n",
      "Please also refer to the documentation for alternative solver options:\n",
      "    https://scikit-learn.org/stable/modules/linear_model.html#logistic-regression\n",
      "  n_iter_i = _check_optimize_result(\n"
     ]
    },
    {
     "name": "stdout",
     "output_type": "stream",
     "text": [
      "Fitting estimator with 55 features.\n"
     ]
    },
    {
     "name": "stderr",
     "output_type": "stream",
     "text": [
      "/Users/HarryWang/opt/anaconda3/lib/python3.8/site-packages/sklearn/linear_model/_logistic.py:762: ConvergenceWarning: lbfgs failed to converge (status=1):\n",
      "STOP: TOTAL NO. of ITERATIONS REACHED LIMIT.\n",
      "\n",
      "Increase the number of iterations (max_iter) or scale the data as shown in:\n",
      "    https://scikit-learn.org/stable/modules/preprocessing.html\n",
      "Please also refer to the documentation for alternative solver options:\n",
      "    https://scikit-learn.org/stable/modules/linear_model.html#logistic-regression\n",
      "  n_iter_i = _check_optimize_result(\n"
     ]
    },
    {
     "name": "stdout",
     "output_type": "stream",
     "text": [
      "Fitting estimator with 54 features.\n"
     ]
    },
    {
     "name": "stderr",
     "output_type": "stream",
     "text": [
      "/Users/HarryWang/opt/anaconda3/lib/python3.8/site-packages/sklearn/linear_model/_logistic.py:762: ConvergenceWarning: lbfgs failed to converge (status=1):\n",
      "STOP: TOTAL NO. of ITERATIONS REACHED LIMIT.\n",
      "\n",
      "Increase the number of iterations (max_iter) or scale the data as shown in:\n",
      "    https://scikit-learn.org/stable/modules/preprocessing.html\n",
      "Please also refer to the documentation for alternative solver options:\n",
      "    https://scikit-learn.org/stable/modules/linear_model.html#logistic-regression\n",
      "  n_iter_i = _check_optimize_result(\n"
     ]
    },
    {
     "name": "stdout",
     "output_type": "stream",
     "text": [
      "Fitting estimator with 53 features.\n"
     ]
    },
    {
     "name": "stderr",
     "output_type": "stream",
     "text": [
      "/Users/HarryWang/opt/anaconda3/lib/python3.8/site-packages/sklearn/linear_model/_logistic.py:762: ConvergenceWarning: lbfgs failed to converge (status=1):\n",
      "STOP: TOTAL NO. of ITERATIONS REACHED LIMIT.\n",
      "\n",
      "Increase the number of iterations (max_iter) or scale the data as shown in:\n",
      "    https://scikit-learn.org/stable/modules/preprocessing.html\n",
      "Please also refer to the documentation for alternative solver options:\n",
      "    https://scikit-learn.org/stable/modules/linear_model.html#logistic-regression\n",
      "  n_iter_i = _check_optimize_result(\n"
     ]
    },
    {
     "name": "stdout",
     "output_type": "stream",
     "text": [
      "Fitting estimator with 52 features.\n"
     ]
    },
    {
     "name": "stderr",
     "output_type": "stream",
     "text": [
      "/Users/HarryWang/opt/anaconda3/lib/python3.8/site-packages/sklearn/linear_model/_logistic.py:762: ConvergenceWarning: lbfgs failed to converge (status=1):\n",
      "STOP: TOTAL NO. of ITERATIONS REACHED LIMIT.\n",
      "\n",
      "Increase the number of iterations (max_iter) or scale the data as shown in:\n",
      "    https://scikit-learn.org/stable/modules/preprocessing.html\n",
      "Please also refer to the documentation for alternative solver options:\n",
      "    https://scikit-learn.org/stable/modules/linear_model.html#logistic-regression\n",
      "  n_iter_i = _check_optimize_result(\n"
     ]
    },
    {
     "name": "stdout",
     "output_type": "stream",
     "text": [
      "Fitting estimator with 51 features.\n"
     ]
    },
    {
     "name": "stderr",
     "output_type": "stream",
     "text": [
      "/Users/HarryWang/opt/anaconda3/lib/python3.8/site-packages/sklearn/linear_model/_logistic.py:762: ConvergenceWarning: lbfgs failed to converge (status=1):\n",
      "STOP: TOTAL NO. of ITERATIONS REACHED LIMIT.\n",
      "\n",
      "Increase the number of iterations (max_iter) or scale the data as shown in:\n",
      "    https://scikit-learn.org/stable/modules/preprocessing.html\n",
      "Please also refer to the documentation for alternative solver options:\n",
      "    https://scikit-learn.org/stable/modules/linear_model.html#logistic-regression\n",
      "  n_iter_i = _check_optimize_result(\n"
     ]
    },
    {
     "name": "stdout",
     "output_type": "stream",
     "text": [
      "Fitting estimator with 50 features.\n"
     ]
    },
    {
     "name": "stderr",
     "output_type": "stream",
     "text": [
      "/Users/HarryWang/opt/anaconda3/lib/python3.8/site-packages/sklearn/linear_model/_logistic.py:762: ConvergenceWarning: lbfgs failed to converge (status=1):\n",
      "STOP: TOTAL NO. of ITERATIONS REACHED LIMIT.\n",
      "\n",
      "Increase the number of iterations (max_iter) or scale the data as shown in:\n",
      "    https://scikit-learn.org/stable/modules/preprocessing.html\n",
      "Please also refer to the documentation for alternative solver options:\n",
      "    https://scikit-learn.org/stable/modules/linear_model.html#logistic-regression\n",
      "  n_iter_i = _check_optimize_result(\n"
     ]
    },
    {
     "name": "stdout",
     "output_type": "stream",
     "text": [
      "Fitting estimator with 49 features.\n"
     ]
    },
    {
     "name": "stderr",
     "output_type": "stream",
     "text": [
      "/Users/HarryWang/opt/anaconda3/lib/python3.8/site-packages/sklearn/linear_model/_logistic.py:762: ConvergenceWarning: lbfgs failed to converge (status=1):\n",
      "STOP: TOTAL NO. of ITERATIONS REACHED LIMIT.\n",
      "\n",
      "Increase the number of iterations (max_iter) or scale the data as shown in:\n",
      "    https://scikit-learn.org/stable/modules/preprocessing.html\n",
      "Please also refer to the documentation for alternative solver options:\n",
      "    https://scikit-learn.org/stable/modules/linear_model.html#logistic-regression\n",
      "  n_iter_i = _check_optimize_result(\n"
     ]
    },
    {
     "name": "stdout",
     "output_type": "stream",
     "text": [
      "Fitting estimator with 48 features.\n"
     ]
    },
    {
     "name": "stderr",
     "output_type": "stream",
     "text": [
      "/Users/HarryWang/opt/anaconda3/lib/python3.8/site-packages/sklearn/linear_model/_logistic.py:762: ConvergenceWarning: lbfgs failed to converge (status=1):\n",
      "STOP: TOTAL NO. of ITERATIONS REACHED LIMIT.\n",
      "\n",
      "Increase the number of iterations (max_iter) or scale the data as shown in:\n",
      "    https://scikit-learn.org/stable/modules/preprocessing.html\n",
      "Please also refer to the documentation for alternative solver options:\n",
      "    https://scikit-learn.org/stable/modules/linear_model.html#logistic-regression\n",
      "  n_iter_i = _check_optimize_result(\n"
     ]
    },
    {
     "name": "stdout",
     "output_type": "stream",
     "text": [
      "Fitting estimator with 47 features.\n"
     ]
    },
    {
     "name": "stderr",
     "output_type": "stream",
     "text": [
      "/Users/HarryWang/opt/anaconda3/lib/python3.8/site-packages/sklearn/linear_model/_logistic.py:762: ConvergenceWarning: lbfgs failed to converge (status=1):\n",
      "STOP: TOTAL NO. of ITERATIONS REACHED LIMIT.\n",
      "\n",
      "Increase the number of iterations (max_iter) or scale the data as shown in:\n",
      "    https://scikit-learn.org/stable/modules/preprocessing.html\n",
      "Please also refer to the documentation for alternative solver options:\n",
      "    https://scikit-learn.org/stable/modules/linear_model.html#logistic-regression\n",
      "  n_iter_i = _check_optimize_result(\n"
     ]
    },
    {
     "name": "stdout",
     "output_type": "stream",
     "text": [
      "Fitting estimator with 46 features.\n"
     ]
    },
    {
     "name": "stderr",
     "output_type": "stream",
     "text": [
      "/Users/HarryWang/opt/anaconda3/lib/python3.8/site-packages/sklearn/linear_model/_logistic.py:762: ConvergenceWarning: lbfgs failed to converge (status=1):\n",
      "STOP: TOTAL NO. of ITERATIONS REACHED LIMIT.\n",
      "\n",
      "Increase the number of iterations (max_iter) or scale the data as shown in:\n",
      "    https://scikit-learn.org/stable/modules/preprocessing.html\n",
      "Please also refer to the documentation for alternative solver options:\n",
      "    https://scikit-learn.org/stable/modules/linear_model.html#logistic-regression\n",
      "  n_iter_i = _check_optimize_result(\n"
     ]
    },
    {
     "name": "stdout",
     "output_type": "stream",
     "text": [
      "Fitting estimator with 45 features.\n"
     ]
    },
    {
     "name": "stderr",
     "output_type": "stream",
     "text": [
      "/Users/HarryWang/opt/anaconda3/lib/python3.8/site-packages/sklearn/linear_model/_logistic.py:762: ConvergenceWarning: lbfgs failed to converge (status=1):\n",
      "STOP: TOTAL NO. of ITERATIONS REACHED LIMIT.\n",
      "\n",
      "Increase the number of iterations (max_iter) or scale the data as shown in:\n",
      "    https://scikit-learn.org/stable/modules/preprocessing.html\n",
      "Please also refer to the documentation for alternative solver options:\n",
      "    https://scikit-learn.org/stable/modules/linear_model.html#logistic-regression\n",
      "  n_iter_i = _check_optimize_result(\n"
     ]
    },
    {
     "name": "stdout",
     "output_type": "stream",
     "text": [
      "Fitting estimator with 44 features.\n"
     ]
    },
    {
     "name": "stderr",
     "output_type": "stream",
     "text": [
      "/Users/HarryWang/opt/anaconda3/lib/python3.8/site-packages/sklearn/linear_model/_logistic.py:762: ConvergenceWarning: lbfgs failed to converge (status=1):\n",
      "STOP: TOTAL NO. of ITERATIONS REACHED LIMIT.\n",
      "\n",
      "Increase the number of iterations (max_iter) or scale the data as shown in:\n",
      "    https://scikit-learn.org/stable/modules/preprocessing.html\n",
      "Please also refer to the documentation for alternative solver options:\n",
      "    https://scikit-learn.org/stable/modules/linear_model.html#logistic-regression\n",
      "  n_iter_i = _check_optimize_result(\n"
     ]
    },
    {
     "name": "stdout",
     "output_type": "stream",
     "text": [
      "Fitting estimator with 43 features.\n"
     ]
    },
    {
     "name": "stderr",
     "output_type": "stream",
     "text": [
      "/Users/HarryWang/opt/anaconda3/lib/python3.8/site-packages/sklearn/linear_model/_logistic.py:762: ConvergenceWarning: lbfgs failed to converge (status=1):\n",
      "STOP: TOTAL NO. of ITERATIONS REACHED LIMIT.\n",
      "\n",
      "Increase the number of iterations (max_iter) or scale the data as shown in:\n",
      "    https://scikit-learn.org/stable/modules/preprocessing.html\n",
      "Please also refer to the documentation for alternative solver options:\n",
      "    https://scikit-learn.org/stable/modules/linear_model.html#logistic-regression\n",
      "  n_iter_i = _check_optimize_result(\n"
     ]
    },
    {
     "name": "stdout",
     "output_type": "stream",
     "text": [
      "Fitting estimator with 42 features.\n"
     ]
    },
    {
     "name": "stderr",
     "output_type": "stream",
     "text": [
      "/Users/HarryWang/opt/anaconda3/lib/python3.8/site-packages/sklearn/linear_model/_logistic.py:762: ConvergenceWarning: lbfgs failed to converge (status=1):\n",
      "STOP: TOTAL NO. of ITERATIONS REACHED LIMIT.\n",
      "\n",
      "Increase the number of iterations (max_iter) or scale the data as shown in:\n",
      "    https://scikit-learn.org/stable/modules/preprocessing.html\n",
      "Please also refer to the documentation for alternative solver options:\n",
      "    https://scikit-learn.org/stable/modules/linear_model.html#logistic-regression\n",
      "  n_iter_i = _check_optimize_result(\n"
     ]
    },
    {
     "name": "stdout",
     "output_type": "stream",
     "text": [
      "Fitting estimator with 41 features.\n"
     ]
    },
    {
     "name": "stderr",
     "output_type": "stream",
     "text": [
      "/Users/HarryWang/opt/anaconda3/lib/python3.8/site-packages/sklearn/linear_model/_logistic.py:762: ConvergenceWarning: lbfgs failed to converge (status=1):\n",
      "STOP: TOTAL NO. of ITERATIONS REACHED LIMIT.\n",
      "\n",
      "Increase the number of iterations (max_iter) or scale the data as shown in:\n",
      "    https://scikit-learn.org/stable/modules/preprocessing.html\n",
      "Please also refer to the documentation for alternative solver options:\n",
      "    https://scikit-learn.org/stable/modules/linear_model.html#logistic-regression\n",
      "  n_iter_i = _check_optimize_result(\n"
     ]
    },
    {
     "name": "stdout",
     "output_type": "stream",
     "text": [
      "Fitting estimator with 40 features.\n"
     ]
    },
    {
     "name": "stderr",
     "output_type": "stream",
     "text": [
      "/Users/HarryWang/opt/anaconda3/lib/python3.8/site-packages/sklearn/linear_model/_logistic.py:762: ConvergenceWarning: lbfgs failed to converge (status=1):\n",
      "STOP: TOTAL NO. of ITERATIONS REACHED LIMIT.\n",
      "\n",
      "Increase the number of iterations (max_iter) or scale the data as shown in:\n",
      "    https://scikit-learn.org/stable/modules/preprocessing.html\n",
      "Please also refer to the documentation for alternative solver options:\n",
      "    https://scikit-learn.org/stable/modules/linear_model.html#logistic-regression\n",
      "  n_iter_i = _check_optimize_result(\n"
     ]
    },
    {
     "name": "stdout",
     "output_type": "stream",
     "text": [
      "Fitting estimator with 39 features.\n"
     ]
    },
    {
     "name": "stderr",
     "output_type": "stream",
     "text": [
      "/Users/HarryWang/opt/anaconda3/lib/python3.8/site-packages/sklearn/linear_model/_logistic.py:762: ConvergenceWarning: lbfgs failed to converge (status=1):\n",
      "STOP: TOTAL NO. of ITERATIONS REACHED LIMIT.\n",
      "\n",
      "Increase the number of iterations (max_iter) or scale the data as shown in:\n",
      "    https://scikit-learn.org/stable/modules/preprocessing.html\n",
      "Please also refer to the documentation for alternative solver options:\n",
      "    https://scikit-learn.org/stable/modules/linear_model.html#logistic-regression\n",
      "  n_iter_i = _check_optimize_result(\n"
     ]
    },
    {
     "name": "stdout",
     "output_type": "stream",
     "text": [
      "Fitting estimator with 38 features.\n"
     ]
    },
    {
     "name": "stderr",
     "output_type": "stream",
     "text": [
      "/Users/HarryWang/opt/anaconda3/lib/python3.8/site-packages/sklearn/linear_model/_logistic.py:762: ConvergenceWarning: lbfgs failed to converge (status=1):\n",
      "STOP: TOTAL NO. of ITERATIONS REACHED LIMIT.\n",
      "\n",
      "Increase the number of iterations (max_iter) or scale the data as shown in:\n",
      "    https://scikit-learn.org/stable/modules/preprocessing.html\n",
      "Please also refer to the documentation for alternative solver options:\n",
      "    https://scikit-learn.org/stable/modules/linear_model.html#logistic-regression\n",
      "  n_iter_i = _check_optimize_result(\n"
     ]
    },
    {
     "name": "stdout",
     "output_type": "stream",
     "text": [
      "Fitting estimator with 37 features.\n"
     ]
    },
    {
     "name": "stderr",
     "output_type": "stream",
     "text": [
      "/Users/HarryWang/opt/anaconda3/lib/python3.8/site-packages/sklearn/linear_model/_logistic.py:762: ConvergenceWarning: lbfgs failed to converge (status=1):\n",
      "STOP: TOTAL NO. of ITERATIONS REACHED LIMIT.\n",
      "\n",
      "Increase the number of iterations (max_iter) or scale the data as shown in:\n",
      "    https://scikit-learn.org/stable/modules/preprocessing.html\n",
      "Please also refer to the documentation for alternative solver options:\n",
      "    https://scikit-learn.org/stable/modules/linear_model.html#logistic-regression\n",
      "  n_iter_i = _check_optimize_result(\n"
     ]
    },
    {
     "name": "stdout",
     "output_type": "stream",
     "text": [
      "Fitting estimator with 36 features.\n"
     ]
    },
    {
     "name": "stderr",
     "output_type": "stream",
     "text": [
      "/Users/HarryWang/opt/anaconda3/lib/python3.8/site-packages/sklearn/linear_model/_logistic.py:762: ConvergenceWarning: lbfgs failed to converge (status=1):\n",
      "STOP: TOTAL NO. of ITERATIONS REACHED LIMIT.\n",
      "\n",
      "Increase the number of iterations (max_iter) or scale the data as shown in:\n",
      "    https://scikit-learn.org/stable/modules/preprocessing.html\n",
      "Please also refer to the documentation for alternative solver options:\n",
      "    https://scikit-learn.org/stable/modules/linear_model.html#logistic-regression\n",
      "  n_iter_i = _check_optimize_result(\n"
     ]
    },
    {
     "name": "stdout",
     "output_type": "stream",
     "text": [
      "Fitting estimator with 35 features.\n"
     ]
    },
    {
     "name": "stderr",
     "output_type": "stream",
     "text": [
      "/Users/HarryWang/opt/anaconda3/lib/python3.8/site-packages/sklearn/linear_model/_logistic.py:762: ConvergenceWarning: lbfgs failed to converge (status=1):\n",
      "STOP: TOTAL NO. of ITERATIONS REACHED LIMIT.\n",
      "\n",
      "Increase the number of iterations (max_iter) or scale the data as shown in:\n",
      "    https://scikit-learn.org/stable/modules/preprocessing.html\n",
      "Please also refer to the documentation for alternative solver options:\n",
      "    https://scikit-learn.org/stable/modules/linear_model.html#logistic-regression\n",
      "  n_iter_i = _check_optimize_result(\n"
     ]
    },
    {
     "name": "stdout",
     "output_type": "stream",
     "text": [
      "Fitting estimator with 34 features.\n"
     ]
    },
    {
     "name": "stderr",
     "output_type": "stream",
     "text": [
      "/Users/HarryWang/opt/anaconda3/lib/python3.8/site-packages/sklearn/linear_model/_logistic.py:762: ConvergenceWarning: lbfgs failed to converge (status=1):\n",
      "STOP: TOTAL NO. of ITERATIONS REACHED LIMIT.\n",
      "\n",
      "Increase the number of iterations (max_iter) or scale the data as shown in:\n",
      "    https://scikit-learn.org/stable/modules/preprocessing.html\n",
      "Please also refer to the documentation for alternative solver options:\n",
      "    https://scikit-learn.org/stable/modules/linear_model.html#logistic-regression\n",
      "  n_iter_i = _check_optimize_result(\n"
     ]
    },
    {
     "name": "stdout",
     "output_type": "stream",
     "text": [
      "Fitting estimator with 33 features.\n"
     ]
    },
    {
     "name": "stderr",
     "output_type": "stream",
     "text": [
      "/Users/HarryWang/opt/anaconda3/lib/python3.8/site-packages/sklearn/linear_model/_logistic.py:762: ConvergenceWarning: lbfgs failed to converge (status=1):\n",
      "STOP: TOTAL NO. of ITERATIONS REACHED LIMIT.\n",
      "\n",
      "Increase the number of iterations (max_iter) or scale the data as shown in:\n",
      "    https://scikit-learn.org/stable/modules/preprocessing.html\n",
      "Please also refer to the documentation for alternative solver options:\n",
      "    https://scikit-learn.org/stable/modules/linear_model.html#logistic-regression\n",
      "  n_iter_i = _check_optimize_result(\n"
     ]
    },
    {
     "name": "stdout",
     "output_type": "stream",
     "text": [
      "Fitting estimator with 32 features.\n"
     ]
    },
    {
     "name": "stderr",
     "output_type": "stream",
     "text": [
      "/Users/HarryWang/opt/anaconda3/lib/python3.8/site-packages/sklearn/linear_model/_logistic.py:762: ConvergenceWarning: lbfgs failed to converge (status=1):\n",
      "STOP: TOTAL NO. of ITERATIONS REACHED LIMIT.\n",
      "\n",
      "Increase the number of iterations (max_iter) or scale the data as shown in:\n",
      "    https://scikit-learn.org/stable/modules/preprocessing.html\n",
      "Please also refer to the documentation for alternative solver options:\n",
      "    https://scikit-learn.org/stable/modules/linear_model.html#logistic-regression\n",
      "  n_iter_i = _check_optimize_result(\n"
     ]
    },
    {
     "name": "stdout",
     "output_type": "stream",
     "text": [
      "Fitting estimator with 31 features.\n"
     ]
    },
    {
     "name": "stderr",
     "output_type": "stream",
     "text": [
      "/Users/HarryWang/opt/anaconda3/lib/python3.8/site-packages/sklearn/linear_model/_logistic.py:762: ConvergenceWarning: lbfgs failed to converge (status=1):\n",
      "STOP: TOTAL NO. of ITERATIONS REACHED LIMIT.\n",
      "\n",
      "Increase the number of iterations (max_iter) or scale the data as shown in:\n",
      "    https://scikit-learn.org/stable/modules/preprocessing.html\n",
      "Please also refer to the documentation for alternative solver options:\n",
      "    https://scikit-learn.org/stable/modules/linear_model.html#logistic-regression\n",
      "  n_iter_i = _check_optimize_result(\n"
     ]
    },
    {
     "name": "stdout",
     "output_type": "stream",
     "text": [
      "Fitting estimator with 30 features.\n"
     ]
    },
    {
     "name": "stderr",
     "output_type": "stream",
     "text": [
      "/Users/HarryWang/opt/anaconda3/lib/python3.8/site-packages/sklearn/linear_model/_logistic.py:762: ConvergenceWarning: lbfgs failed to converge (status=1):\n",
      "STOP: TOTAL NO. of ITERATIONS REACHED LIMIT.\n",
      "\n",
      "Increase the number of iterations (max_iter) or scale the data as shown in:\n",
      "    https://scikit-learn.org/stable/modules/preprocessing.html\n",
      "Please also refer to the documentation for alternative solver options:\n",
      "    https://scikit-learn.org/stable/modules/linear_model.html#logistic-regression\n",
      "  n_iter_i = _check_optimize_result(\n"
     ]
    },
    {
     "name": "stdout",
     "output_type": "stream",
     "text": [
      "Fitting estimator with 29 features.\n"
     ]
    },
    {
     "name": "stderr",
     "output_type": "stream",
     "text": [
      "/Users/HarryWang/opt/anaconda3/lib/python3.8/site-packages/sklearn/linear_model/_logistic.py:762: ConvergenceWarning: lbfgs failed to converge (status=1):\n",
      "STOP: TOTAL NO. of ITERATIONS REACHED LIMIT.\n",
      "\n",
      "Increase the number of iterations (max_iter) or scale the data as shown in:\n",
      "    https://scikit-learn.org/stable/modules/preprocessing.html\n",
      "Please also refer to the documentation for alternative solver options:\n",
      "    https://scikit-learn.org/stable/modules/linear_model.html#logistic-regression\n",
      "  n_iter_i = _check_optimize_result(\n"
     ]
    },
    {
     "name": "stdout",
     "output_type": "stream",
     "text": [
      "Fitting estimator with 28 features.\n"
     ]
    },
    {
     "name": "stderr",
     "output_type": "stream",
     "text": [
      "/Users/HarryWang/opt/anaconda3/lib/python3.8/site-packages/sklearn/linear_model/_logistic.py:762: ConvergenceWarning: lbfgs failed to converge (status=1):\n",
      "STOP: TOTAL NO. of ITERATIONS REACHED LIMIT.\n",
      "\n",
      "Increase the number of iterations (max_iter) or scale the data as shown in:\n",
      "    https://scikit-learn.org/stable/modules/preprocessing.html\n",
      "Please also refer to the documentation for alternative solver options:\n",
      "    https://scikit-learn.org/stable/modules/linear_model.html#logistic-regression\n",
      "  n_iter_i = _check_optimize_result(\n"
     ]
    },
    {
     "name": "stdout",
     "output_type": "stream",
     "text": [
      "Fitting estimator with 27 features.\n"
     ]
    },
    {
     "name": "stderr",
     "output_type": "stream",
     "text": [
      "/Users/HarryWang/opt/anaconda3/lib/python3.8/site-packages/sklearn/linear_model/_logistic.py:762: ConvergenceWarning: lbfgs failed to converge (status=1):\n",
      "STOP: TOTAL NO. of ITERATIONS REACHED LIMIT.\n",
      "\n",
      "Increase the number of iterations (max_iter) or scale the data as shown in:\n",
      "    https://scikit-learn.org/stable/modules/preprocessing.html\n",
      "Please also refer to the documentation for alternative solver options:\n",
      "    https://scikit-learn.org/stable/modules/linear_model.html#logistic-regression\n",
      "  n_iter_i = _check_optimize_result(\n"
     ]
    },
    {
     "name": "stdout",
     "output_type": "stream",
     "text": [
      "Fitting estimator with 26 features.\n"
     ]
    },
    {
     "name": "stderr",
     "output_type": "stream",
     "text": [
      "/Users/HarryWang/opt/anaconda3/lib/python3.8/site-packages/sklearn/linear_model/_logistic.py:762: ConvergenceWarning: lbfgs failed to converge (status=1):\n",
      "STOP: TOTAL NO. of ITERATIONS REACHED LIMIT.\n",
      "\n",
      "Increase the number of iterations (max_iter) or scale the data as shown in:\n",
      "    https://scikit-learn.org/stable/modules/preprocessing.html\n",
      "Please also refer to the documentation for alternative solver options:\n",
      "    https://scikit-learn.org/stable/modules/linear_model.html#logistic-regression\n",
      "  n_iter_i = _check_optimize_result(\n"
     ]
    },
    {
     "name": "stdout",
     "output_type": "stream",
     "text": [
      "Fitting estimator with 25 features.\n"
     ]
    },
    {
     "name": "stderr",
     "output_type": "stream",
     "text": [
      "/Users/HarryWang/opt/anaconda3/lib/python3.8/site-packages/sklearn/linear_model/_logistic.py:762: ConvergenceWarning: lbfgs failed to converge (status=1):\n",
      "STOP: TOTAL NO. of ITERATIONS REACHED LIMIT.\n",
      "\n",
      "Increase the number of iterations (max_iter) or scale the data as shown in:\n",
      "    https://scikit-learn.org/stable/modules/preprocessing.html\n",
      "Please also refer to the documentation for alternative solver options:\n",
      "    https://scikit-learn.org/stable/modules/linear_model.html#logistic-regression\n",
      "  n_iter_i = _check_optimize_result(\n"
     ]
    },
    {
     "name": "stdout",
     "output_type": "stream",
     "text": [
      "Fitting estimator with 24 features.\n"
     ]
    },
    {
     "name": "stderr",
     "output_type": "stream",
     "text": [
      "/Users/HarryWang/opt/anaconda3/lib/python3.8/site-packages/sklearn/linear_model/_logistic.py:762: ConvergenceWarning: lbfgs failed to converge (status=1):\n",
      "STOP: TOTAL NO. of ITERATIONS REACHED LIMIT.\n",
      "\n",
      "Increase the number of iterations (max_iter) or scale the data as shown in:\n",
      "    https://scikit-learn.org/stable/modules/preprocessing.html\n",
      "Please also refer to the documentation for alternative solver options:\n",
      "    https://scikit-learn.org/stable/modules/linear_model.html#logistic-regression\n",
      "  n_iter_i = _check_optimize_result(\n"
     ]
    },
    {
     "name": "stdout",
     "output_type": "stream",
     "text": [
      "Fitting estimator with 23 features.\n"
     ]
    },
    {
     "name": "stderr",
     "output_type": "stream",
     "text": [
      "/Users/HarryWang/opt/anaconda3/lib/python3.8/site-packages/sklearn/linear_model/_logistic.py:762: ConvergenceWarning: lbfgs failed to converge (status=1):\n",
      "STOP: TOTAL NO. of ITERATIONS REACHED LIMIT.\n",
      "\n",
      "Increase the number of iterations (max_iter) or scale the data as shown in:\n",
      "    https://scikit-learn.org/stable/modules/preprocessing.html\n",
      "Please also refer to the documentation for alternative solver options:\n",
      "    https://scikit-learn.org/stable/modules/linear_model.html#logistic-regression\n",
      "  n_iter_i = _check_optimize_result(\n"
     ]
    },
    {
     "name": "stdout",
     "output_type": "stream",
     "text": [
      "Fitting estimator with 22 features.\n"
     ]
    },
    {
     "name": "stderr",
     "output_type": "stream",
     "text": [
      "/Users/HarryWang/opt/anaconda3/lib/python3.8/site-packages/sklearn/linear_model/_logistic.py:762: ConvergenceWarning: lbfgs failed to converge (status=1):\n",
      "STOP: TOTAL NO. of ITERATIONS REACHED LIMIT.\n",
      "\n",
      "Increase the number of iterations (max_iter) or scale the data as shown in:\n",
      "    https://scikit-learn.org/stable/modules/preprocessing.html\n",
      "Please also refer to the documentation for alternative solver options:\n",
      "    https://scikit-learn.org/stable/modules/linear_model.html#logistic-regression\n",
      "  n_iter_i = _check_optimize_result(\n"
     ]
    },
    {
     "name": "stdout",
     "output_type": "stream",
     "text": [
      "Fitting estimator with 21 features.\n"
     ]
    },
    {
     "name": "stderr",
     "output_type": "stream",
     "text": [
      "/Users/HarryWang/opt/anaconda3/lib/python3.8/site-packages/sklearn/linear_model/_logistic.py:762: ConvergenceWarning: lbfgs failed to converge (status=1):\n",
      "STOP: TOTAL NO. of ITERATIONS REACHED LIMIT.\n",
      "\n",
      "Increase the number of iterations (max_iter) or scale the data as shown in:\n",
      "    https://scikit-learn.org/stable/modules/preprocessing.html\n",
      "Please also refer to the documentation for alternative solver options:\n",
      "    https://scikit-learn.org/stable/modules/linear_model.html#logistic-regression\n",
      "  n_iter_i = _check_optimize_result(\n"
     ]
    },
    {
     "name": "stdout",
     "output_type": "stream",
     "text": [
      "Fitting estimator with 20 features.\n"
     ]
    },
    {
     "name": "stderr",
     "output_type": "stream",
     "text": [
      "/Users/HarryWang/opt/anaconda3/lib/python3.8/site-packages/sklearn/linear_model/_logistic.py:762: ConvergenceWarning: lbfgs failed to converge (status=1):\n",
      "STOP: TOTAL NO. of ITERATIONS REACHED LIMIT.\n",
      "\n",
      "Increase the number of iterations (max_iter) or scale the data as shown in:\n",
      "    https://scikit-learn.org/stable/modules/preprocessing.html\n",
      "Please also refer to the documentation for alternative solver options:\n",
      "    https://scikit-learn.org/stable/modules/linear_model.html#logistic-regression\n",
      "  n_iter_i = _check_optimize_result(\n"
     ]
    },
    {
     "name": "stdout",
     "output_type": "stream",
     "text": [
      "Fitting estimator with 19 features.\n"
     ]
    },
    {
     "name": "stderr",
     "output_type": "stream",
     "text": [
      "/Users/HarryWang/opt/anaconda3/lib/python3.8/site-packages/sklearn/linear_model/_logistic.py:762: ConvergenceWarning: lbfgs failed to converge (status=1):\n",
      "STOP: TOTAL NO. of ITERATIONS REACHED LIMIT.\n",
      "\n",
      "Increase the number of iterations (max_iter) or scale the data as shown in:\n",
      "    https://scikit-learn.org/stable/modules/preprocessing.html\n",
      "Please also refer to the documentation for alternative solver options:\n",
      "    https://scikit-learn.org/stable/modules/linear_model.html#logistic-regression\n",
      "  n_iter_i = _check_optimize_result(\n"
     ]
    },
    {
     "name": "stdout",
     "output_type": "stream",
     "text": [
      "Fitting estimator with 18 features.\n"
     ]
    },
    {
     "name": "stderr",
     "output_type": "stream",
     "text": [
      "/Users/HarryWang/opt/anaconda3/lib/python3.8/site-packages/sklearn/linear_model/_logistic.py:762: ConvergenceWarning: lbfgs failed to converge (status=1):\n",
      "STOP: TOTAL NO. of ITERATIONS REACHED LIMIT.\n",
      "\n",
      "Increase the number of iterations (max_iter) or scale the data as shown in:\n",
      "    https://scikit-learn.org/stable/modules/preprocessing.html\n",
      "Please also refer to the documentation for alternative solver options:\n",
      "    https://scikit-learn.org/stable/modules/linear_model.html#logistic-regression\n",
      "  n_iter_i = _check_optimize_result(\n"
     ]
    },
    {
     "name": "stdout",
     "output_type": "stream",
     "text": [
      "Fitting estimator with 17 features.\n"
     ]
    },
    {
     "name": "stderr",
     "output_type": "stream",
     "text": [
      "/Users/HarryWang/opt/anaconda3/lib/python3.8/site-packages/sklearn/linear_model/_logistic.py:762: ConvergenceWarning: lbfgs failed to converge (status=1):\n",
      "STOP: TOTAL NO. of ITERATIONS REACHED LIMIT.\n",
      "\n",
      "Increase the number of iterations (max_iter) or scale the data as shown in:\n",
      "    https://scikit-learn.org/stable/modules/preprocessing.html\n",
      "Please also refer to the documentation for alternative solver options:\n",
      "    https://scikit-learn.org/stable/modules/linear_model.html#logistic-regression\n",
      "  n_iter_i = _check_optimize_result(\n"
     ]
    },
    {
     "name": "stdout",
     "output_type": "stream",
     "text": [
      "Fitting estimator with 16 features.\n"
     ]
    },
    {
     "name": "stderr",
     "output_type": "stream",
     "text": [
      "/Users/HarryWang/opt/anaconda3/lib/python3.8/site-packages/sklearn/linear_model/_logistic.py:762: ConvergenceWarning: lbfgs failed to converge (status=1):\n",
      "STOP: TOTAL NO. of ITERATIONS REACHED LIMIT.\n",
      "\n",
      "Increase the number of iterations (max_iter) or scale the data as shown in:\n",
      "    https://scikit-learn.org/stable/modules/preprocessing.html\n",
      "Please also refer to the documentation for alternative solver options:\n",
      "    https://scikit-learn.org/stable/modules/linear_model.html#logistic-regression\n",
      "  n_iter_i = _check_optimize_result(\n"
     ]
    },
    {
     "name": "stdout",
     "output_type": "stream",
     "text": [
      "Fitting estimator with 15 features.\n"
     ]
    },
    {
     "name": "stderr",
     "output_type": "stream",
     "text": [
      "/Users/HarryWang/opt/anaconda3/lib/python3.8/site-packages/sklearn/linear_model/_logistic.py:762: ConvergenceWarning: lbfgs failed to converge (status=1):\n",
      "STOP: TOTAL NO. of ITERATIONS REACHED LIMIT.\n",
      "\n",
      "Increase the number of iterations (max_iter) or scale the data as shown in:\n",
      "    https://scikit-learn.org/stable/modules/preprocessing.html\n",
      "Please also refer to the documentation for alternative solver options:\n",
      "    https://scikit-learn.org/stable/modules/linear_model.html#logistic-regression\n",
      "  n_iter_i = _check_optimize_result(\n"
     ]
    },
    {
     "name": "stdout",
     "output_type": "stream",
     "text": [
      "Fitting estimator with 14 features.\n"
     ]
    },
    {
     "name": "stderr",
     "output_type": "stream",
     "text": [
      "/Users/HarryWang/opt/anaconda3/lib/python3.8/site-packages/sklearn/linear_model/_logistic.py:762: ConvergenceWarning: lbfgs failed to converge (status=1):\n",
      "STOP: TOTAL NO. of ITERATIONS REACHED LIMIT.\n",
      "\n",
      "Increase the number of iterations (max_iter) or scale the data as shown in:\n",
      "    https://scikit-learn.org/stable/modules/preprocessing.html\n",
      "Please also refer to the documentation for alternative solver options:\n",
      "    https://scikit-learn.org/stable/modules/linear_model.html#logistic-regression\n",
      "  n_iter_i = _check_optimize_result(\n"
     ]
    },
    {
     "name": "stdout",
     "output_type": "stream",
     "text": [
      "Fitting estimator with 13 features.\n"
     ]
    },
    {
     "name": "stderr",
     "output_type": "stream",
     "text": [
      "/Users/HarryWang/opt/anaconda3/lib/python3.8/site-packages/sklearn/linear_model/_logistic.py:762: ConvergenceWarning: lbfgs failed to converge (status=1):\n",
      "STOP: TOTAL NO. of ITERATIONS REACHED LIMIT.\n",
      "\n",
      "Increase the number of iterations (max_iter) or scale the data as shown in:\n",
      "    https://scikit-learn.org/stable/modules/preprocessing.html\n",
      "Please also refer to the documentation for alternative solver options:\n",
      "    https://scikit-learn.org/stable/modules/linear_model.html#logistic-regression\n",
      "  n_iter_i = _check_optimize_result(\n"
     ]
    },
    {
     "name": "stdout",
     "output_type": "stream",
     "text": [
      "Fitting estimator with 12 features.\n"
     ]
    },
    {
     "name": "stderr",
     "output_type": "stream",
     "text": [
      "/Users/HarryWang/opt/anaconda3/lib/python3.8/site-packages/sklearn/linear_model/_logistic.py:762: ConvergenceWarning: lbfgs failed to converge (status=1):\n",
      "STOP: TOTAL NO. of ITERATIONS REACHED LIMIT.\n",
      "\n",
      "Increase the number of iterations (max_iter) or scale the data as shown in:\n",
      "    https://scikit-learn.org/stable/modules/preprocessing.html\n",
      "Please also refer to the documentation for alternative solver options:\n",
      "    https://scikit-learn.org/stable/modules/linear_model.html#logistic-regression\n",
      "  n_iter_i = _check_optimize_result(\n"
     ]
    },
    {
     "name": "stdout",
     "output_type": "stream",
     "text": [
      "Fitting estimator with 11 features.\n"
     ]
    },
    {
     "name": "stderr",
     "output_type": "stream",
     "text": [
      "/Users/HarryWang/opt/anaconda3/lib/python3.8/site-packages/sklearn/linear_model/_logistic.py:762: ConvergenceWarning: lbfgs failed to converge (status=1):\n",
      "STOP: TOTAL NO. of ITERATIONS REACHED LIMIT.\n",
      "\n",
      "Increase the number of iterations (max_iter) or scale the data as shown in:\n",
      "    https://scikit-learn.org/stable/modules/preprocessing.html\n",
      "Please also refer to the documentation for alternative solver options:\n",
      "    https://scikit-learn.org/stable/modules/linear_model.html#logistic-regression\n",
      "  n_iter_i = _check_optimize_result(\n"
     ]
    },
    {
     "name": "stdout",
     "output_type": "stream",
     "text": [
      "Fitting estimator with 10 features.\n"
     ]
    },
    {
     "name": "stderr",
     "output_type": "stream",
     "text": [
      "/Users/HarryWang/opt/anaconda3/lib/python3.8/site-packages/sklearn/linear_model/_logistic.py:762: ConvergenceWarning: lbfgs failed to converge (status=1):\n",
      "STOP: TOTAL NO. of ITERATIONS REACHED LIMIT.\n",
      "\n",
      "Increase the number of iterations (max_iter) or scale the data as shown in:\n",
      "    https://scikit-learn.org/stable/modules/preprocessing.html\n",
      "Please also refer to the documentation for alternative solver options:\n",
      "    https://scikit-learn.org/stable/modules/linear_model.html#logistic-regression\n",
      "  n_iter_i = _check_optimize_result(\n"
     ]
    },
    {
     "name": "stdout",
     "output_type": "stream",
     "text": [
      "Fitting estimator with 9 features.\n",
      "Fitting estimator with 8 features.\n",
      "Fitting estimator with 7 features.\n",
      "Fitting estimator with 6 features.\n",
      "Fitting estimator with 5 features.\n",
      "Fitting estimator with 4 features.\n",
      "Fitting estimator with 3 features.\n",
      "Fitting estimator with 2 features.\n",
      "Fitting estimator with 80 features.\n"
     ]
    },
    {
     "name": "stderr",
     "output_type": "stream",
     "text": [
      "/Users/HarryWang/opt/anaconda3/lib/python3.8/site-packages/sklearn/linear_model/_logistic.py:762: ConvergenceWarning: lbfgs failed to converge (status=1):\n",
      "STOP: TOTAL NO. of ITERATIONS REACHED LIMIT.\n",
      "\n",
      "Increase the number of iterations (max_iter) or scale the data as shown in:\n",
      "    https://scikit-learn.org/stable/modules/preprocessing.html\n",
      "Please also refer to the documentation for alternative solver options:\n",
      "    https://scikit-learn.org/stable/modules/linear_model.html#logistic-regression\n",
      "  n_iter_i = _check_optimize_result(\n"
     ]
    },
    {
     "name": "stdout",
     "output_type": "stream",
     "text": [
      "Fitting estimator with 79 features.\n"
     ]
    },
    {
     "name": "stderr",
     "output_type": "stream",
     "text": [
      "/Users/HarryWang/opt/anaconda3/lib/python3.8/site-packages/sklearn/linear_model/_logistic.py:762: ConvergenceWarning: lbfgs failed to converge (status=1):\n",
      "STOP: TOTAL NO. of ITERATIONS REACHED LIMIT.\n",
      "\n",
      "Increase the number of iterations (max_iter) or scale the data as shown in:\n",
      "    https://scikit-learn.org/stable/modules/preprocessing.html\n",
      "Please also refer to the documentation for alternative solver options:\n",
      "    https://scikit-learn.org/stable/modules/linear_model.html#logistic-regression\n",
      "  n_iter_i = _check_optimize_result(\n"
     ]
    },
    {
     "name": "stdout",
     "output_type": "stream",
     "text": [
      "Fitting estimator with 78 features.\n"
     ]
    },
    {
     "name": "stderr",
     "output_type": "stream",
     "text": [
      "/Users/HarryWang/opt/anaconda3/lib/python3.8/site-packages/sklearn/linear_model/_logistic.py:762: ConvergenceWarning: lbfgs failed to converge (status=1):\n",
      "STOP: TOTAL NO. of ITERATIONS REACHED LIMIT.\n",
      "\n",
      "Increase the number of iterations (max_iter) or scale the data as shown in:\n",
      "    https://scikit-learn.org/stable/modules/preprocessing.html\n",
      "Please also refer to the documentation for alternative solver options:\n",
      "    https://scikit-learn.org/stable/modules/linear_model.html#logistic-regression\n",
      "  n_iter_i = _check_optimize_result(\n"
     ]
    },
    {
     "name": "stdout",
     "output_type": "stream",
     "text": [
      "Fitting estimator with 77 features.\n"
     ]
    },
    {
     "name": "stderr",
     "output_type": "stream",
     "text": [
      "/Users/HarryWang/opt/anaconda3/lib/python3.8/site-packages/sklearn/linear_model/_logistic.py:762: ConvergenceWarning: lbfgs failed to converge (status=1):\n",
      "STOP: TOTAL NO. of ITERATIONS REACHED LIMIT.\n",
      "\n",
      "Increase the number of iterations (max_iter) or scale the data as shown in:\n",
      "    https://scikit-learn.org/stable/modules/preprocessing.html\n",
      "Please also refer to the documentation for alternative solver options:\n",
      "    https://scikit-learn.org/stable/modules/linear_model.html#logistic-regression\n",
      "  n_iter_i = _check_optimize_result(\n"
     ]
    },
    {
     "name": "stdout",
     "output_type": "stream",
     "text": [
      "Fitting estimator with 76 features.\n"
     ]
    },
    {
     "name": "stderr",
     "output_type": "stream",
     "text": [
      "/Users/HarryWang/opt/anaconda3/lib/python3.8/site-packages/sklearn/linear_model/_logistic.py:762: ConvergenceWarning: lbfgs failed to converge (status=1):\n",
      "STOP: TOTAL NO. of ITERATIONS REACHED LIMIT.\n",
      "\n",
      "Increase the number of iterations (max_iter) or scale the data as shown in:\n",
      "    https://scikit-learn.org/stable/modules/preprocessing.html\n",
      "Please also refer to the documentation for alternative solver options:\n",
      "    https://scikit-learn.org/stable/modules/linear_model.html#logistic-regression\n",
      "  n_iter_i = _check_optimize_result(\n"
     ]
    },
    {
     "name": "stdout",
     "output_type": "stream",
     "text": [
      "Fitting estimator with 75 features.\n"
     ]
    },
    {
     "name": "stderr",
     "output_type": "stream",
     "text": [
      "/Users/HarryWang/opt/anaconda3/lib/python3.8/site-packages/sklearn/linear_model/_logistic.py:762: ConvergenceWarning: lbfgs failed to converge (status=1):\n",
      "STOP: TOTAL NO. of ITERATIONS REACHED LIMIT.\n",
      "\n",
      "Increase the number of iterations (max_iter) or scale the data as shown in:\n",
      "    https://scikit-learn.org/stable/modules/preprocessing.html\n",
      "Please also refer to the documentation for alternative solver options:\n",
      "    https://scikit-learn.org/stable/modules/linear_model.html#logistic-regression\n",
      "  n_iter_i = _check_optimize_result(\n"
     ]
    },
    {
     "name": "stdout",
     "output_type": "stream",
     "text": [
      "Fitting estimator with 74 features.\n"
     ]
    },
    {
     "name": "stderr",
     "output_type": "stream",
     "text": [
      "/Users/HarryWang/opt/anaconda3/lib/python3.8/site-packages/sklearn/linear_model/_logistic.py:762: ConvergenceWarning: lbfgs failed to converge (status=1):\n",
      "STOP: TOTAL NO. of ITERATIONS REACHED LIMIT.\n",
      "\n",
      "Increase the number of iterations (max_iter) or scale the data as shown in:\n",
      "    https://scikit-learn.org/stable/modules/preprocessing.html\n",
      "Please also refer to the documentation for alternative solver options:\n",
      "    https://scikit-learn.org/stable/modules/linear_model.html#logistic-regression\n",
      "  n_iter_i = _check_optimize_result(\n"
     ]
    },
    {
     "name": "stdout",
     "output_type": "stream",
     "text": [
      "Fitting estimator with 73 features.\n"
     ]
    },
    {
     "name": "stderr",
     "output_type": "stream",
     "text": [
      "/Users/HarryWang/opt/anaconda3/lib/python3.8/site-packages/sklearn/linear_model/_logistic.py:762: ConvergenceWarning: lbfgs failed to converge (status=1):\n",
      "STOP: TOTAL NO. of ITERATIONS REACHED LIMIT.\n",
      "\n",
      "Increase the number of iterations (max_iter) or scale the data as shown in:\n",
      "    https://scikit-learn.org/stable/modules/preprocessing.html\n",
      "Please also refer to the documentation for alternative solver options:\n",
      "    https://scikit-learn.org/stable/modules/linear_model.html#logistic-regression\n",
      "  n_iter_i = _check_optimize_result(\n"
     ]
    },
    {
     "name": "stdout",
     "output_type": "stream",
     "text": [
      "Fitting estimator with 72 features.\n"
     ]
    },
    {
     "name": "stderr",
     "output_type": "stream",
     "text": [
      "/Users/HarryWang/opt/anaconda3/lib/python3.8/site-packages/sklearn/linear_model/_logistic.py:762: ConvergenceWarning: lbfgs failed to converge (status=1):\n",
      "STOP: TOTAL NO. of ITERATIONS REACHED LIMIT.\n",
      "\n",
      "Increase the number of iterations (max_iter) or scale the data as shown in:\n",
      "    https://scikit-learn.org/stable/modules/preprocessing.html\n",
      "Please also refer to the documentation for alternative solver options:\n",
      "    https://scikit-learn.org/stable/modules/linear_model.html#logistic-regression\n",
      "  n_iter_i = _check_optimize_result(\n"
     ]
    },
    {
     "name": "stdout",
     "output_type": "stream",
     "text": [
      "Fitting estimator with 71 features.\n"
     ]
    },
    {
     "name": "stderr",
     "output_type": "stream",
     "text": [
      "/Users/HarryWang/opt/anaconda3/lib/python3.8/site-packages/sklearn/linear_model/_logistic.py:762: ConvergenceWarning: lbfgs failed to converge (status=1):\n",
      "STOP: TOTAL NO. of ITERATIONS REACHED LIMIT.\n",
      "\n",
      "Increase the number of iterations (max_iter) or scale the data as shown in:\n",
      "    https://scikit-learn.org/stable/modules/preprocessing.html\n",
      "Please also refer to the documentation for alternative solver options:\n",
      "    https://scikit-learn.org/stable/modules/linear_model.html#logistic-regression\n",
      "  n_iter_i = _check_optimize_result(\n"
     ]
    },
    {
     "name": "stdout",
     "output_type": "stream",
     "text": [
      "Fitting estimator with 70 features.\n"
     ]
    },
    {
     "name": "stderr",
     "output_type": "stream",
     "text": [
      "/Users/HarryWang/opt/anaconda3/lib/python3.8/site-packages/sklearn/linear_model/_logistic.py:762: ConvergenceWarning: lbfgs failed to converge (status=1):\n",
      "STOP: TOTAL NO. of ITERATIONS REACHED LIMIT.\n",
      "\n",
      "Increase the number of iterations (max_iter) or scale the data as shown in:\n",
      "    https://scikit-learn.org/stable/modules/preprocessing.html\n",
      "Please also refer to the documentation for alternative solver options:\n",
      "    https://scikit-learn.org/stable/modules/linear_model.html#logistic-regression\n",
      "  n_iter_i = _check_optimize_result(\n"
     ]
    },
    {
     "name": "stdout",
     "output_type": "stream",
     "text": [
      "Fitting estimator with 69 features.\n"
     ]
    },
    {
     "name": "stderr",
     "output_type": "stream",
     "text": [
      "/Users/HarryWang/opt/anaconda3/lib/python3.8/site-packages/sklearn/linear_model/_logistic.py:762: ConvergenceWarning: lbfgs failed to converge (status=1):\n",
      "STOP: TOTAL NO. of ITERATIONS REACHED LIMIT.\n",
      "\n",
      "Increase the number of iterations (max_iter) or scale the data as shown in:\n",
      "    https://scikit-learn.org/stable/modules/preprocessing.html\n",
      "Please also refer to the documentation for alternative solver options:\n",
      "    https://scikit-learn.org/stable/modules/linear_model.html#logistic-regression\n",
      "  n_iter_i = _check_optimize_result(\n"
     ]
    },
    {
     "name": "stdout",
     "output_type": "stream",
     "text": [
      "Fitting estimator with 68 features.\n"
     ]
    },
    {
     "name": "stderr",
     "output_type": "stream",
     "text": [
      "/Users/HarryWang/opt/anaconda3/lib/python3.8/site-packages/sklearn/linear_model/_logistic.py:762: ConvergenceWarning: lbfgs failed to converge (status=1):\n",
      "STOP: TOTAL NO. of ITERATIONS REACHED LIMIT.\n",
      "\n",
      "Increase the number of iterations (max_iter) or scale the data as shown in:\n",
      "    https://scikit-learn.org/stable/modules/preprocessing.html\n",
      "Please also refer to the documentation for alternative solver options:\n",
      "    https://scikit-learn.org/stable/modules/linear_model.html#logistic-regression\n",
      "  n_iter_i = _check_optimize_result(\n"
     ]
    },
    {
     "name": "stdout",
     "output_type": "stream",
     "text": [
      "Fitting estimator with 67 features.\n"
     ]
    },
    {
     "name": "stderr",
     "output_type": "stream",
     "text": [
      "/Users/HarryWang/opt/anaconda3/lib/python3.8/site-packages/sklearn/linear_model/_logistic.py:762: ConvergenceWarning: lbfgs failed to converge (status=1):\n",
      "STOP: TOTAL NO. of ITERATIONS REACHED LIMIT.\n",
      "\n",
      "Increase the number of iterations (max_iter) or scale the data as shown in:\n",
      "    https://scikit-learn.org/stable/modules/preprocessing.html\n",
      "Please also refer to the documentation for alternative solver options:\n",
      "    https://scikit-learn.org/stable/modules/linear_model.html#logistic-regression\n",
      "  n_iter_i = _check_optimize_result(\n"
     ]
    },
    {
     "name": "stdout",
     "output_type": "stream",
     "text": [
      "Fitting estimator with 66 features.\n"
     ]
    },
    {
     "name": "stderr",
     "output_type": "stream",
     "text": [
      "/Users/HarryWang/opt/anaconda3/lib/python3.8/site-packages/sklearn/linear_model/_logistic.py:762: ConvergenceWarning: lbfgs failed to converge (status=1):\n",
      "STOP: TOTAL NO. of ITERATIONS REACHED LIMIT.\n",
      "\n",
      "Increase the number of iterations (max_iter) or scale the data as shown in:\n",
      "    https://scikit-learn.org/stable/modules/preprocessing.html\n",
      "Please also refer to the documentation for alternative solver options:\n",
      "    https://scikit-learn.org/stable/modules/linear_model.html#logistic-regression\n",
      "  n_iter_i = _check_optimize_result(\n"
     ]
    },
    {
     "name": "stdout",
     "output_type": "stream",
     "text": [
      "Fitting estimator with 65 features.\n"
     ]
    },
    {
     "name": "stderr",
     "output_type": "stream",
     "text": [
      "/Users/HarryWang/opt/anaconda3/lib/python3.8/site-packages/sklearn/linear_model/_logistic.py:762: ConvergenceWarning: lbfgs failed to converge (status=1):\n",
      "STOP: TOTAL NO. of ITERATIONS REACHED LIMIT.\n",
      "\n",
      "Increase the number of iterations (max_iter) or scale the data as shown in:\n",
      "    https://scikit-learn.org/stable/modules/preprocessing.html\n",
      "Please also refer to the documentation for alternative solver options:\n",
      "    https://scikit-learn.org/stable/modules/linear_model.html#logistic-regression\n",
      "  n_iter_i = _check_optimize_result(\n"
     ]
    },
    {
     "name": "stdout",
     "output_type": "stream",
     "text": [
      "Fitting estimator with 64 features.\n"
     ]
    },
    {
     "name": "stderr",
     "output_type": "stream",
     "text": [
      "/Users/HarryWang/opt/anaconda3/lib/python3.8/site-packages/sklearn/linear_model/_logistic.py:762: ConvergenceWarning: lbfgs failed to converge (status=1):\n",
      "STOP: TOTAL NO. of ITERATIONS REACHED LIMIT.\n",
      "\n",
      "Increase the number of iterations (max_iter) or scale the data as shown in:\n",
      "    https://scikit-learn.org/stable/modules/preprocessing.html\n",
      "Please also refer to the documentation for alternative solver options:\n",
      "    https://scikit-learn.org/stable/modules/linear_model.html#logistic-regression\n",
      "  n_iter_i = _check_optimize_result(\n"
     ]
    },
    {
     "name": "stdout",
     "output_type": "stream",
     "text": [
      "Fitting estimator with 63 features.\n"
     ]
    },
    {
     "name": "stderr",
     "output_type": "stream",
     "text": [
      "/Users/HarryWang/opt/anaconda3/lib/python3.8/site-packages/sklearn/linear_model/_logistic.py:762: ConvergenceWarning: lbfgs failed to converge (status=1):\n",
      "STOP: TOTAL NO. of ITERATIONS REACHED LIMIT.\n",
      "\n",
      "Increase the number of iterations (max_iter) or scale the data as shown in:\n",
      "    https://scikit-learn.org/stable/modules/preprocessing.html\n",
      "Please also refer to the documentation for alternative solver options:\n",
      "    https://scikit-learn.org/stable/modules/linear_model.html#logistic-regression\n",
      "  n_iter_i = _check_optimize_result(\n"
     ]
    },
    {
     "name": "stdout",
     "output_type": "stream",
     "text": [
      "Fitting estimator with 62 features.\n"
     ]
    },
    {
     "name": "stderr",
     "output_type": "stream",
     "text": [
      "/Users/HarryWang/opt/anaconda3/lib/python3.8/site-packages/sklearn/linear_model/_logistic.py:762: ConvergenceWarning: lbfgs failed to converge (status=1):\n",
      "STOP: TOTAL NO. of ITERATIONS REACHED LIMIT.\n",
      "\n",
      "Increase the number of iterations (max_iter) or scale the data as shown in:\n",
      "    https://scikit-learn.org/stable/modules/preprocessing.html\n",
      "Please also refer to the documentation for alternative solver options:\n",
      "    https://scikit-learn.org/stable/modules/linear_model.html#logistic-regression\n",
      "  n_iter_i = _check_optimize_result(\n"
     ]
    },
    {
     "name": "stdout",
     "output_type": "stream",
     "text": [
      "Fitting estimator with 61 features.\n"
     ]
    },
    {
     "name": "stderr",
     "output_type": "stream",
     "text": [
      "/Users/HarryWang/opt/anaconda3/lib/python3.8/site-packages/sklearn/linear_model/_logistic.py:762: ConvergenceWarning: lbfgs failed to converge (status=1):\n",
      "STOP: TOTAL NO. of ITERATIONS REACHED LIMIT.\n",
      "\n",
      "Increase the number of iterations (max_iter) or scale the data as shown in:\n",
      "    https://scikit-learn.org/stable/modules/preprocessing.html\n",
      "Please also refer to the documentation for alternative solver options:\n",
      "    https://scikit-learn.org/stable/modules/linear_model.html#logistic-regression\n",
      "  n_iter_i = _check_optimize_result(\n"
     ]
    },
    {
     "name": "stdout",
     "output_type": "stream",
     "text": [
      "Fitting estimator with 60 features.\n"
     ]
    },
    {
     "name": "stderr",
     "output_type": "stream",
     "text": [
      "/Users/HarryWang/opt/anaconda3/lib/python3.8/site-packages/sklearn/linear_model/_logistic.py:762: ConvergenceWarning: lbfgs failed to converge (status=1):\n",
      "STOP: TOTAL NO. of ITERATIONS REACHED LIMIT.\n",
      "\n",
      "Increase the number of iterations (max_iter) or scale the data as shown in:\n",
      "    https://scikit-learn.org/stable/modules/preprocessing.html\n",
      "Please also refer to the documentation for alternative solver options:\n",
      "    https://scikit-learn.org/stable/modules/linear_model.html#logistic-regression\n",
      "  n_iter_i = _check_optimize_result(\n"
     ]
    },
    {
     "name": "stdout",
     "output_type": "stream",
     "text": [
      "Fitting estimator with 59 features.\n"
     ]
    },
    {
     "name": "stderr",
     "output_type": "stream",
     "text": [
      "/Users/HarryWang/opt/anaconda3/lib/python3.8/site-packages/sklearn/linear_model/_logistic.py:762: ConvergenceWarning: lbfgs failed to converge (status=1):\n",
      "STOP: TOTAL NO. of ITERATIONS REACHED LIMIT.\n",
      "\n",
      "Increase the number of iterations (max_iter) or scale the data as shown in:\n",
      "    https://scikit-learn.org/stable/modules/preprocessing.html\n",
      "Please also refer to the documentation for alternative solver options:\n",
      "    https://scikit-learn.org/stable/modules/linear_model.html#logistic-regression\n",
      "  n_iter_i = _check_optimize_result(\n"
     ]
    },
    {
     "name": "stdout",
     "output_type": "stream",
     "text": [
      "Fitting estimator with 58 features.\n"
     ]
    },
    {
     "name": "stderr",
     "output_type": "stream",
     "text": [
      "/Users/HarryWang/opt/anaconda3/lib/python3.8/site-packages/sklearn/linear_model/_logistic.py:762: ConvergenceWarning: lbfgs failed to converge (status=1):\n",
      "STOP: TOTAL NO. of ITERATIONS REACHED LIMIT.\n",
      "\n",
      "Increase the number of iterations (max_iter) or scale the data as shown in:\n",
      "    https://scikit-learn.org/stable/modules/preprocessing.html\n",
      "Please also refer to the documentation for alternative solver options:\n",
      "    https://scikit-learn.org/stable/modules/linear_model.html#logistic-regression\n",
      "  n_iter_i = _check_optimize_result(\n"
     ]
    },
    {
     "name": "stdout",
     "output_type": "stream",
     "text": [
      "Fitting estimator with 57 features.\n"
     ]
    },
    {
     "name": "stderr",
     "output_type": "stream",
     "text": [
      "/Users/HarryWang/opt/anaconda3/lib/python3.8/site-packages/sklearn/linear_model/_logistic.py:762: ConvergenceWarning: lbfgs failed to converge (status=1):\n",
      "STOP: TOTAL NO. of ITERATIONS REACHED LIMIT.\n",
      "\n",
      "Increase the number of iterations (max_iter) or scale the data as shown in:\n",
      "    https://scikit-learn.org/stable/modules/preprocessing.html\n",
      "Please also refer to the documentation for alternative solver options:\n",
      "    https://scikit-learn.org/stable/modules/linear_model.html#logistic-regression\n",
      "  n_iter_i = _check_optimize_result(\n"
     ]
    },
    {
     "name": "stdout",
     "output_type": "stream",
     "text": [
      "Fitting estimator with 56 features.\n"
     ]
    },
    {
     "name": "stderr",
     "output_type": "stream",
     "text": [
      "/Users/HarryWang/opt/anaconda3/lib/python3.8/site-packages/sklearn/linear_model/_logistic.py:762: ConvergenceWarning: lbfgs failed to converge (status=1):\n",
      "STOP: TOTAL NO. of ITERATIONS REACHED LIMIT.\n",
      "\n",
      "Increase the number of iterations (max_iter) or scale the data as shown in:\n",
      "    https://scikit-learn.org/stable/modules/preprocessing.html\n",
      "Please also refer to the documentation for alternative solver options:\n",
      "    https://scikit-learn.org/stable/modules/linear_model.html#logistic-regression\n",
      "  n_iter_i = _check_optimize_result(\n"
     ]
    },
    {
     "name": "stdout",
     "output_type": "stream",
     "text": [
      "Fitting estimator with 55 features.\n"
     ]
    },
    {
     "name": "stderr",
     "output_type": "stream",
     "text": [
      "/Users/HarryWang/opt/anaconda3/lib/python3.8/site-packages/sklearn/linear_model/_logistic.py:762: ConvergenceWarning: lbfgs failed to converge (status=1):\n",
      "STOP: TOTAL NO. of ITERATIONS REACHED LIMIT.\n",
      "\n",
      "Increase the number of iterations (max_iter) or scale the data as shown in:\n",
      "    https://scikit-learn.org/stable/modules/preprocessing.html\n",
      "Please also refer to the documentation for alternative solver options:\n",
      "    https://scikit-learn.org/stable/modules/linear_model.html#logistic-regression\n",
      "  n_iter_i = _check_optimize_result(\n"
     ]
    },
    {
     "name": "stdout",
     "output_type": "stream",
     "text": [
      "Fitting estimator with 54 features.\n"
     ]
    },
    {
     "name": "stderr",
     "output_type": "stream",
     "text": [
      "/Users/HarryWang/opt/anaconda3/lib/python3.8/site-packages/sklearn/linear_model/_logistic.py:762: ConvergenceWarning: lbfgs failed to converge (status=1):\n",
      "STOP: TOTAL NO. of ITERATIONS REACHED LIMIT.\n",
      "\n",
      "Increase the number of iterations (max_iter) or scale the data as shown in:\n",
      "    https://scikit-learn.org/stable/modules/preprocessing.html\n",
      "Please also refer to the documentation for alternative solver options:\n",
      "    https://scikit-learn.org/stable/modules/linear_model.html#logistic-regression\n",
      "  n_iter_i = _check_optimize_result(\n"
     ]
    },
    {
     "name": "stdout",
     "output_type": "stream",
     "text": [
      "Fitting estimator with 53 features.\n"
     ]
    },
    {
     "name": "stderr",
     "output_type": "stream",
     "text": [
      "/Users/HarryWang/opt/anaconda3/lib/python3.8/site-packages/sklearn/linear_model/_logistic.py:762: ConvergenceWarning: lbfgs failed to converge (status=1):\n",
      "STOP: TOTAL NO. of ITERATIONS REACHED LIMIT.\n",
      "\n",
      "Increase the number of iterations (max_iter) or scale the data as shown in:\n",
      "    https://scikit-learn.org/stable/modules/preprocessing.html\n",
      "Please also refer to the documentation for alternative solver options:\n",
      "    https://scikit-learn.org/stable/modules/linear_model.html#logistic-regression\n",
      "  n_iter_i = _check_optimize_result(\n"
     ]
    },
    {
     "name": "stdout",
     "output_type": "stream",
     "text": [
      "Fitting estimator with 52 features.\n"
     ]
    },
    {
     "name": "stderr",
     "output_type": "stream",
     "text": [
      "/Users/HarryWang/opt/anaconda3/lib/python3.8/site-packages/sklearn/linear_model/_logistic.py:762: ConvergenceWarning: lbfgs failed to converge (status=1):\n",
      "STOP: TOTAL NO. of ITERATIONS REACHED LIMIT.\n",
      "\n",
      "Increase the number of iterations (max_iter) or scale the data as shown in:\n",
      "    https://scikit-learn.org/stable/modules/preprocessing.html\n",
      "Please also refer to the documentation for alternative solver options:\n",
      "    https://scikit-learn.org/stable/modules/linear_model.html#logistic-regression\n",
      "  n_iter_i = _check_optimize_result(\n"
     ]
    },
    {
     "name": "stdout",
     "output_type": "stream",
     "text": [
      "Fitting estimator with 51 features.\n"
     ]
    },
    {
     "name": "stderr",
     "output_type": "stream",
     "text": [
      "/Users/HarryWang/opt/anaconda3/lib/python3.8/site-packages/sklearn/linear_model/_logistic.py:762: ConvergenceWarning: lbfgs failed to converge (status=1):\n",
      "STOP: TOTAL NO. of ITERATIONS REACHED LIMIT.\n",
      "\n",
      "Increase the number of iterations (max_iter) or scale the data as shown in:\n",
      "    https://scikit-learn.org/stable/modules/preprocessing.html\n",
      "Please also refer to the documentation for alternative solver options:\n",
      "    https://scikit-learn.org/stable/modules/linear_model.html#logistic-regression\n",
      "  n_iter_i = _check_optimize_result(\n"
     ]
    },
    {
     "name": "stdout",
     "output_type": "stream",
     "text": [
      "Fitting estimator with 50 features.\n"
     ]
    },
    {
     "name": "stderr",
     "output_type": "stream",
     "text": [
      "/Users/HarryWang/opt/anaconda3/lib/python3.8/site-packages/sklearn/linear_model/_logistic.py:762: ConvergenceWarning: lbfgs failed to converge (status=1):\n",
      "STOP: TOTAL NO. of ITERATIONS REACHED LIMIT.\n",
      "\n",
      "Increase the number of iterations (max_iter) or scale the data as shown in:\n",
      "    https://scikit-learn.org/stable/modules/preprocessing.html\n",
      "Please also refer to the documentation for alternative solver options:\n",
      "    https://scikit-learn.org/stable/modules/linear_model.html#logistic-regression\n",
      "  n_iter_i = _check_optimize_result(\n"
     ]
    },
    {
     "name": "stdout",
     "output_type": "stream",
     "text": [
      "Fitting estimator with 49 features.\n"
     ]
    },
    {
     "name": "stderr",
     "output_type": "stream",
     "text": [
      "/Users/HarryWang/opt/anaconda3/lib/python3.8/site-packages/sklearn/linear_model/_logistic.py:762: ConvergenceWarning: lbfgs failed to converge (status=1):\n",
      "STOP: TOTAL NO. of ITERATIONS REACHED LIMIT.\n",
      "\n",
      "Increase the number of iterations (max_iter) or scale the data as shown in:\n",
      "    https://scikit-learn.org/stable/modules/preprocessing.html\n",
      "Please also refer to the documentation for alternative solver options:\n",
      "    https://scikit-learn.org/stable/modules/linear_model.html#logistic-regression\n",
      "  n_iter_i = _check_optimize_result(\n"
     ]
    },
    {
     "name": "stdout",
     "output_type": "stream",
     "text": [
      "Fitting estimator with 48 features.\n"
     ]
    },
    {
     "name": "stderr",
     "output_type": "stream",
     "text": [
      "/Users/HarryWang/opt/anaconda3/lib/python3.8/site-packages/sklearn/linear_model/_logistic.py:762: ConvergenceWarning: lbfgs failed to converge (status=1):\n",
      "STOP: TOTAL NO. of ITERATIONS REACHED LIMIT.\n",
      "\n",
      "Increase the number of iterations (max_iter) or scale the data as shown in:\n",
      "    https://scikit-learn.org/stable/modules/preprocessing.html\n",
      "Please also refer to the documentation for alternative solver options:\n",
      "    https://scikit-learn.org/stable/modules/linear_model.html#logistic-regression\n",
      "  n_iter_i = _check_optimize_result(\n"
     ]
    },
    {
     "name": "stdout",
     "output_type": "stream",
     "text": [
      "Fitting estimator with 47 features.\n"
     ]
    },
    {
     "name": "stderr",
     "output_type": "stream",
     "text": [
      "/Users/HarryWang/opt/anaconda3/lib/python3.8/site-packages/sklearn/linear_model/_logistic.py:762: ConvergenceWarning: lbfgs failed to converge (status=1):\n",
      "STOP: TOTAL NO. of ITERATIONS REACHED LIMIT.\n",
      "\n",
      "Increase the number of iterations (max_iter) or scale the data as shown in:\n",
      "    https://scikit-learn.org/stable/modules/preprocessing.html\n",
      "Please also refer to the documentation for alternative solver options:\n",
      "    https://scikit-learn.org/stable/modules/linear_model.html#logistic-regression\n",
      "  n_iter_i = _check_optimize_result(\n"
     ]
    },
    {
     "name": "stdout",
     "output_type": "stream",
     "text": [
      "Fitting estimator with 46 features.\n"
     ]
    },
    {
     "name": "stderr",
     "output_type": "stream",
     "text": [
      "/Users/HarryWang/opt/anaconda3/lib/python3.8/site-packages/sklearn/linear_model/_logistic.py:762: ConvergenceWarning: lbfgs failed to converge (status=1):\n",
      "STOP: TOTAL NO. of ITERATIONS REACHED LIMIT.\n",
      "\n",
      "Increase the number of iterations (max_iter) or scale the data as shown in:\n",
      "    https://scikit-learn.org/stable/modules/preprocessing.html\n",
      "Please also refer to the documentation for alternative solver options:\n",
      "    https://scikit-learn.org/stable/modules/linear_model.html#logistic-regression\n",
      "  n_iter_i = _check_optimize_result(\n"
     ]
    },
    {
     "name": "stdout",
     "output_type": "stream",
     "text": [
      "Fitting estimator with 45 features.\n"
     ]
    },
    {
     "name": "stderr",
     "output_type": "stream",
     "text": [
      "/Users/HarryWang/opt/anaconda3/lib/python3.8/site-packages/sklearn/linear_model/_logistic.py:762: ConvergenceWarning: lbfgs failed to converge (status=1):\n",
      "STOP: TOTAL NO. of ITERATIONS REACHED LIMIT.\n",
      "\n",
      "Increase the number of iterations (max_iter) or scale the data as shown in:\n",
      "    https://scikit-learn.org/stable/modules/preprocessing.html\n",
      "Please also refer to the documentation for alternative solver options:\n",
      "    https://scikit-learn.org/stable/modules/linear_model.html#logistic-regression\n",
      "  n_iter_i = _check_optimize_result(\n"
     ]
    },
    {
     "name": "stdout",
     "output_type": "stream",
     "text": [
      "Fitting estimator with 44 features.\n"
     ]
    },
    {
     "name": "stderr",
     "output_type": "stream",
     "text": [
      "/Users/HarryWang/opt/anaconda3/lib/python3.8/site-packages/sklearn/linear_model/_logistic.py:762: ConvergenceWarning: lbfgs failed to converge (status=1):\n",
      "STOP: TOTAL NO. of ITERATIONS REACHED LIMIT.\n",
      "\n",
      "Increase the number of iterations (max_iter) or scale the data as shown in:\n",
      "    https://scikit-learn.org/stable/modules/preprocessing.html\n",
      "Please also refer to the documentation for alternative solver options:\n",
      "    https://scikit-learn.org/stable/modules/linear_model.html#logistic-regression\n",
      "  n_iter_i = _check_optimize_result(\n"
     ]
    },
    {
     "name": "stdout",
     "output_type": "stream",
     "text": [
      "Fitting estimator with 43 features.\n"
     ]
    },
    {
     "name": "stderr",
     "output_type": "stream",
     "text": [
      "/Users/HarryWang/opt/anaconda3/lib/python3.8/site-packages/sklearn/linear_model/_logistic.py:762: ConvergenceWarning: lbfgs failed to converge (status=1):\n",
      "STOP: TOTAL NO. of ITERATIONS REACHED LIMIT.\n",
      "\n",
      "Increase the number of iterations (max_iter) or scale the data as shown in:\n",
      "    https://scikit-learn.org/stable/modules/preprocessing.html\n",
      "Please also refer to the documentation for alternative solver options:\n",
      "    https://scikit-learn.org/stable/modules/linear_model.html#logistic-regression\n",
      "  n_iter_i = _check_optimize_result(\n"
     ]
    },
    {
     "name": "stdout",
     "output_type": "stream",
     "text": [
      "Fitting estimator with 42 features.\n"
     ]
    },
    {
     "name": "stderr",
     "output_type": "stream",
     "text": [
      "/Users/HarryWang/opt/anaconda3/lib/python3.8/site-packages/sklearn/linear_model/_logistic.py:762: ConvergenceWarning: lbfgs failed to converge (status=1):\n",
      "STOP: TOTAL NO. of ITERATIONS REACHED LIMIT.\n",
      "\n",
      "Increase the number of iterations (max_iter) or scale the data as shown in:\n",
      "    https://scikit-learn.org/stable/modules/preprocessing.html\n",
      "Please also refer to the documentation for alternative solver options:\n",
      "    https://scikit-learn.org/stable/modules/linear_model.html#logistic-regression\n",
      "  n_iter_i = _check_optimize_result(\n"
     ]
    },
    {
     "name": "stdout",
     "output_type": "stream",
     "text": [
      "Fitting estimator with 41 features.\n"
     ]
    },
    {
     "name": "stderr",
     "output_type": "stream",
     "text": [
      "/Users/HarryWang/opt/anaconda3/lib/python3.8/site-packages/sklearn/linear_model/_logistic.py:762: ConvergenceWarning: lbfgs failed to converge (status=1):\n",
      "STOP: TOTAL NO. of ITERATIONS REACHED LIMIT.\n",
      "\n",
      "Increase the number of iterations (max_iter) or scale the data as shown in:\n",
      "    https://scikit-learn.org/stable/modules/preprocessing.html\n",
      "Please also refer to the documentation for alternative solver options:\n",
      "    https://scikit-learn.org/stable/modules/linear_model.html#logistic-regression\n",
      "  n_iter_i = _check_optimize_result(\n"
     ]
    },
    {
     "name": "stdout",
     "output_type": "stream",
     "text": [
      "Fitting estimator with 40 features.\n"
     ]
    },
    {
     "name": "stderr",
     "output_type": "stream",
     "text": [
      "/Users/HarryWang/opt/anaconda3/lib/python3.8/site-packages/sklearn/linear_model/_logistic.py:762: ConvergenceWarning: lbfgs failed to converge (status=1):\n",
      "STOP: TOTAL NO. of ITERATIONS REACHED LIMIT.\n",
      "\n",
      "Increase the number of iterations (max_iter) or scale the data as shown in:\n",
      "    https://scikit-learn.org/stable/modules/preprocessing.html\n",
      "Please also refer to the documentation for alternative solver options:\n",
      "    https://scikit-learn.org/stable/modules/linear_model.html#logistic-regression\n",
      "  n_iter_i = _check_optimize_result(\n"
     ]
    },
    {
     "name": "stdout",
     "output_type": "stream",
     "text": [
      "Fitting estimator with 39 features.\n"
     ]
    },
    {
     "name": "stderr",
     "output_type": "stream",
     "text": [
      "/Users/HarryWang/opt/anaconda3/lib/python3.8/site-packages/sklearn/linear_model/_logistic.py:762: ConvergenceWarning: lbfgs failed to converge (status=1):\n",
      "STOP: TOTAL NO. of ITERATIONS REACHED LIMIT.\n",
      "\n",
      "Increase the number of iterations (max_iter) or scale the data as shown in:\n",
      "    https://scikit-learn.org/stable/modules/preprocessing.html\n",
      "Please also refer to the documentation for alternative solver options:\n",
      "    https://scikit-learn.org/stable/modules/linear_model.html#logistic-regression\n",
      "  n_iter_i = _check_optimize_result(\n"
     ]
    },
    {
     "name": "stdout",
     "output_type": "stream",
     "text": [
      "Fitting estimator with 38 features.\n"
     ]
    },
    {
     "name": "stderr",
     "output_type": "stream",
     "text": [
      "/Users/HarryWang/opt/anaconda3/lib/python3.8/site-packages/sklearn/linear_model/_logistic.py:762: ConvergenceWarning: lbfgs failed to converge (status=1):\n",
      "STOP: TOTAL NO. of ITERATIONS REACHED LIMIT.\n",
      "\n",
      "Increase the number of iterations (max_iter) or scale the data as shown in:\n",
      "    https://scikit-learn.org/stable/modules/preprocessing.html\n",
      "Please also refer to the documentation for alternative solver options:\n",
      "    https://scikit-learn.org/stable/modules/linear_model.html#logistic-regression\n",
      "  n_iter_i = _check_optimize_result(\n"
     ]
    },
    {
     "name": "stdout",
     "output_type": "stream",
     "text": [
      "Fitting estimator with 37 features.\n"
     ]
    },
    {
     "name": "stderr",
     "output_type": "stream",
     "text": [
      "/Users/HarryWang/opt/anaconda3/lib/python3.8/site-packages/sklearn/linear_model/_logistic.py:762: ConvergenceWarning: lbfgs failed to converge (status=1):\n",
      "STOP: TOTAL NO. of ITERATIONS REACHED LIMIT.\n",
      "\n",
      "Increase the number of iterations (max_iter) or scale the data as shown in:\n",
      "    https://scikit-learn.org/stable/modules/preprocessing.html\n",
      "Please also refer to the documentation for alternative solver options:\n",
      "    https://scikit-learn.org/stable/modules/linear_model.html#logistic-regression\n",
      "  n_iter_i = _check_optimize_result(\n"
     ]
    },
    {
     "name": "stdout",
     "output_type": "stream",
     "text": [
      "Fitting estimator with 36 features.\n"
     ]
    },
    {
     "name": "stderr",
     "output_type": "stream",
     "text": [
      "/Users/HarryWang/opt/anaconda3/lib/python3.8/site-packages/sklearn/linear_model/_logistic.py:762: ConvergenceWarning: lbfgs failed to converge (status=1):\n",
      "STOP: TOTAL NO. of ITERATIONS REACHED LIMIT.\n",
      "\n",
      "Increase the number of iterations (max_iter) or scale the data as shown in:\n",
      "    https://scikit-learn.org/stable/modules/preprocessing.html\n",
      "Please also refer to the documentation for alternative solver options:\n",
      "    https://scikit-learn.org/stable/modules/linear_model.html#logistic-regression\n",
      "  n_iter_i = _check_optimize_result(\n"
     ]
    },
    {
     "name": "stdout",
     "output_type": "stream",
     "text": [
      "Fitting estimator with 35 features.\n"
     ]
    },
    {
     "name": "stderr",
     "output_type": "stream",
     "text": [
      "/Users/HarryWang/opt/anaconda3/lib/python3.8/site-packages/sklearn/linear_model/_logistic.py:762: ConvergenceWarning: lbfgs failed to converge (status=1):\n",
      "STOP: TOTAL NO. of ITERATIONS REACHED LIMIT.\n",
      "\n",
      "Increase the number of iterations (max_iter) or scale the data as shown in:\n",
      "    https://scikit-learn.org/stable/modules/preprocessing.html\n",
      "Please also refer to the documentation for alternative solver options:\n",
      "    https://scikit-learn.org/stable/modules/linear_model.html#logistic-regression\n",
      "  n_iter_i = _check_optimize_result(\n"
     ]
    },
    {
     "name": "stdout",
     "output_type": "stream",
     "text": [
      "Fitting estimator with 34 features.\n"
     ]
    },
    {
     "name": "stderr",
     "output_type": "stream",
     "text": [
      "/Users/HarryWang/opt/anaconda3/lib/python3.8/site-packages/sklearn/linear_model/_logistic.py:762: ConvergenceWarning: lbfgs failed to converge (status=1):\n",
      "STOP: TOTAL NO. of ITERATIONS REACHED LIMIT.\n",
      "\n",
      "Increase the number of iterations (max_iter) or scale the data as shown in:\n",
      "    https://scikit-learn.org/stable/modules/preprocessing.html\n",
      "Please also refer to the documentation for alternative solver options:\n",
      "    https://scikit-learn.org/stable/modules/linear_model.html#logistic-regression\n",
      "  n_iter_i = _check_optimize_result(\n"
     ]
    },
    {
     "name": "stdout",
     "output_type": "stream",
     "text": [
      "Fitting estimator with 33 features.\n"
     ]
    },
    {
     "name": "stderr",
     "output_type": "stream",
     "text": [
      "/Users/HarryWang/opt/anaconda3/lib/python3.8/site-packages/sklearn/linear_model/_logistic.py:762: ConvergenceWarning: lbfgs failed to converge (status=1):\n",
      "STOP: TOTAL NO. of ITERATIONS REACHED LIMIT.\n",
      "\n",
      "Increase the number of iterations (max_iter) or scale the data as shown in:\n",
      "    https://scikit-learn.org/stable/modules/preprocessing.html\n",
      "Please also refer to the documentation for alternative solver options:\n",
      "    https://scikit-learn.org/stable/modules/linear_model.html#logistic-regression\n",
      "  n_iter_i = _check_optimize_result(\n"
     ]
    },
    {
     "name": "stdout",
     "output_type": "stream",
     "text": [
      "Fitting estimator with 32 features.\n"
     ]
    },
    {
     "name": "stderr",
     "output_type": "stream",
     "text": [
      "/Users/HarryWang/opt/anaconda3/lib/python3.8/site-packages/sklearn/linear_model/_logistic.py:762: ConvergenceWarning: lbfgs failed to converge (status=1):\n",
      "STOP: TOTAL NO. of ITERATIONS REACHED LIMIT.\n",
      "\n",
      "Increase the number of iterations (max_iter) or scale the data as shown in:\n",
      "    https://scikit-learn.org/stable/modules/preprocessing.html\n",
      "Please also refer to the documentation for alternative solver options:\n",
      "    https://scikit-learn.org/stable/modules/linear_model.html#logistic-regression\n",
      "  n_iter_i = _check_optimize_result(\n"
     ]
    },
    {
     "name": "stdout",
     "output_type": "stream",
     "text": [
      "Fitting estimator with 31 features.\n"
     ]
    },
    {
     "name": "stderr",
     "output_type": "stream",
     "text": [
      "/Users/HarryWang/opt/anaconda3/lib/python3.8/site-packages/sklearn/linear_model/_logistic.py:762: ConvergenceWarning: lbfgs failed to converge (status=1):\n",
      "STOP: TOTAL NO. of ITERATIONS REACHED LIMIT.\n",
      "\n",
      "Increase the number of iterations (max_iter) or scale the data as shown in:\n",
      "    https://scikit-learn.org/stable/modules/preprocessing.html\n",
      "Please also refer to the documentation for alternative solver options:\n",
      "    https://scikit-learn.org/stable/modules/linear_model.html#logistic-regression\n",
      "  n_iter_i = _check_optimize_result(\n"
     ]
    },
    {
     "name": "stdout",
     "output_type": "stream",
     "text": [
      "Fitting estimator with 30 features.\n"
     ]
    },
    {
     "name": "stderr",
     "output_type": "stream",
     "text": [
      "/Users/HarryWang/opt/anaconda3/lib/python3.8/site-packages/sklearn/linear_model/_logistic.py:762: ConvergenceWarning: lbfgs failed to converge (status=1):\n",
      "STOP: TOTAL NO. of ITERATIONS REACHED LIMIT.\n",
      "\n",
      "Increase the number of iterations (max_iter) or scale the data as shown in:\n",
      "    https://scikit-learn.org/stable/modules/preprocessing.html\n",
      "Please also refer to the documentation for alternative solver options:\n",
      "    https://scikit-learn.org/stable/modules/linear_model.html#logistic-regression\n",
      "  n_iter_i = _check_optimize_result(\n"
     ]
    },
    {
     "name": "stdout",
     "output_type": "stream",
     "text": [
      "Fitting estimator with 29 features.\n"
     ]
    },
    {
     "name": "stderr",
     "output_type": "stream",
     "text": [
      "/Users/HarryWang/opt/anaconda3/lib/python3.8/site-packages/sklearn/linear_model/_logistic.py:762: ConvergenceWarning: lbfgs failed to converge (status=1):\n",
      "STOP: TOTAL NO. of ITERATIONS REACHED LIMIT.\n",
      "\n",
      "Increase the number of iterations (max_iter) or scale the data as shown in:\n",
      "    https://scikit-learn.org/stable/modules/preprocessing.html\n",
      "Please also refer to the documentation for alternative solver options:\n",
      "    https://scikit-learn.org/stable/modules/linear_model.html#logistic-regression\n",
      "  n_iter_i = _check_optimize_result(\n"
     ]
    },
    {
     "name": "stdout",
     "output_type": "stream",
     "text": [
      "Fitting estimator with 28 features.\n"
     ]
    },
    {
     "name": "stderr",
     "output_type": "stream",
     "text": [
      "/Users/HarryWang/opt/anaconda3/lib/python3.8/site-packages/sklearn/linear_model/_logistic.py:762: ConvergenceWarning: lbfgs failed to converge (status=1):\n",
      "STOP: TOTAL NO. of ITERATIONS REACHED LIMIT.\n",
      "\n",
      "Increase the number of iterations (max_iter) or scale the data as shown in:\n",
      "    https://scikit-learn.org/stable/modules/preprocessing.html\n",
      "Please also refer to the documentation for alternative solver options:\n",
      "    https://scikit-learn.org/stable/modules/linear_model.html#logistic-regression\n",
      "  n_iter_i = _check_optimize_result(\n"
     ]
    },
    {
     "name": "stdout",
     "output_type": "stream",
     "text": [
      "Fitting estimator with 27 features.\n"
     ]
    },
    {
     "name": "stderr",
     "output_type": "stream",
     "text": [
      "/Users/HarryWang/opt/anaconda3/lib/python3.8/site-packages/sklearn/linear_model/_logistic.py:762: ConvergenceWarning: lbfgs failed to converge (status=1):\n",
      "STOP: TOTAL NO. of ITERATIONS REACHED LIMIT.\n",
      "\n",
      "Increase the number of iterations (max_iter) or scale the data as shown in:\n",
      "    https://scikit-learn.org/stable/modules/preprocessing.html\n",
      "Please also refer to the documentation for alternative solver options:\n",
      "    https://scikit-learn.org/stable/modules/linear_model.html#logistic-regression\n",
      "  n_iter_i = _check_optimize_result(\n"
     ]
    },
    {
     "name": "stdout",
     "output_type": "stream",
     "text": [
      "Fitting estimator with 26 features.\n"
     ]
    },
    {
     "name": "stderr",
     "output_type": "stream",
     "text": [
      "/Users/HarryWang/opt/anaconda3/lib/python3.8/site-packages/sklearn/linear_model/_logistic.py:762: ConvergenceWarning: lbfgs failed to converge (status=1):\n",
      "STOP: TOTAL NO. of ITERATIONS REACHED LIMIT.\n",
      "\n",
      "Increase the number of iterations (max_iter) or scale the data as shown in:\n",
      "    https://scikit-learn.org/stable/modules/preprocessing.html\n",
      "Please also refer to the documentation for alternative solver options:\n",
      "    https://scikit-learn.org/stable/modules/linear_model.html#logistic-regression\n",
      "  n_iter_i = _check_optimize_result(\n"
     ]
    },
    {
     "name": "stdout",
     "output_type": "stream",
     "text": [
      "Fitting estimator with 25 features.\n"
     ]
    },
    {
     "name": "stderr",
     "output_type": "stream",
     "text": [
      "/Users/HarryWang/opt/anaconda3/lib/python3.8/site-packages/sklearn/linear_model/_logistic.py:762: ConvergenceWarning: lbfgs failed to converge (status=1):\n",
      "STOP: TOTAL NO. of ITERATIONS REACHED LIMIT.\n",
      "\n",
      "Increase the number of iterations (max_iter) or scale the data as shown in:\n",
      "    https://scikit-learn.org/stable/modules/preprocessing.html\n",
      "Please also refer to the documentation for alternative solver options:\n",
      "    https://scikit-learn.org/stable/modules/linear_model.html#logistic-regression\n",
      "  n_iter_i = _check_optimize_result(\n"
     ]
    },
    {
     "name": "stdout",
     "output_type": "stream",
     "text": [
      "Fitting estimator with 24 features.\n"
     ]
    },
    {
     "name": "stderr",
     "output_type": "stream",
     "text": [
      "/Users/HarryWang/opt/anaconda3/lib/python3.8/site-packages/sklearn/linear_model/_logistic.py:762: ConvergenceWarning: lbfgs failed to converge (status=1):\n",
      "STOP: TOTAL NO. of ITERATIONS REACHED LIMIT.\n",
      "\n",
      "Increase the number of iterations (max_iter) or scale the data as shown in:\n",
      "    https://scikit-learn.org/stable/modules/preprocessing.html\n",
      "Please also refer to the documentation for alternative solver options:\n",
      "    https://scikit-learn.org/stable/modules/linear_model.html#logistic-regression\n",
      "  n_iter_i = _check_optimize_result(\n"
     ]
    },
    {
     "name": "stdout",
     "output_type": "stream",
     "text": [
      "Fitting estimator with 23 features.\n"
     ]
    },
    {
     "name": "stderr",
     "output_type": "stream",
     "text": [
      "/Users/HarryWang/opt/anaconda3/lib/python3.8/site-packages/sklearn/linear_model/_logistic.py:762: ConvergenceWarning: lbfgs failed to converge (status=1):\n",
      "STOP: TOTAL NO. of ITERATIONS REACHED LIMIT.\n",
      "\n",
      "Increase the number of iterations (max_iter) or scale the data as shown in:\n",
      "    https://scikit-learn.org/stable/modules/preprocessing.html\n",
      "Please also refer to the documentation for alternative solver options:\n",
      "    https://scikit-learn.org/stable/modules/linear_model.html#logistic-regression\n",
      "  n_iter_i = _check_optimize_result(\n"
     ]
    },
    {
     "name": "stdout",
     "output_type": "stream",
     "text": [
      "Fitting estimator with 22 features.\n"
     ]
    },
    {
     "name": "stderr",
     "output_type": "stream",
     "text": [
      "/Users/HarryWang/opt/anaconda3/lib/python3.8/site-packages/sklearn/linear_model/_logistic.py:762: ConvergenceWarning: lbfgs failed to converge (status=1):\n",
      "STOP: TOTAL NO. of ITERATIONS REACHED LIMIT.\n",
      "\n",
      "Increase the number of iterations (max_iter) or scale the data as shown in:\n",
      "    https://scikit-learn.org/stable/modules/preprocessing.html\n",
      "Please also refer to the documentation for alternative solver options:\n",
      "    https://scikit-learn.org/stable/modules/linear_model.html#logistic-regression\n",
      "  n_iter_i = _check_optimize_result(\n"
     ]
    },
    {
     "name": "stdout",
     "output_type": "stream",
     "text": [
      "Fitting estimator with 21 features.\n"
     ]
    },
    {
     "name": "stderr",
     "output_type": "stream",
     "text": [
      "/Users/HarryWang/opt/anaconda3/lib/python3.8/site-packages/sklearn/linear_model/_logistic.py:762: ConvergenceWarning: lbfgs failed to converge (status=1):\n",
      "STOP: TOTAL NO. of ITERATIONS REACHED LIMIT.\n",
      "\n",
      "Increase the number of iterations (max_iter) or scale the data as shown in:\n",
      "    https://scikit-learn.org/stable/modules/preprocessing.html\n",
      "Please also refer to the documentation for alternative solver options:\n",
      "    https://scikit-learn.org/stable/modules/linear_model.html#logistic-regression\n",
      "  n_iter_i = _check_optimize_result(\n"
     ]
    },
    {
     "name": "stdout",
     "output_type": "stream",
     "text": [
      "Fitting estimator with 20 features.\n"
     ]
    },
    {
     "name": "stderr",
     "output_type": "stream",
     "text": [
      "/Users/HarryWang/opt/anaconda3/lib/python3.8/site-packages/sklearn/linear_model/_logistic.py:762: ConvergenceWarning: lbfgs failed to converge (status=1):\n",
      "STOP: TOTAL NO. of ITERATIONS REACHED LIMIT.\n",
      "\n",
      "Increase the number of iterations (max_iter) or scale the data as shown in:\n",
      "    https://scikit-learn.org/stable/modules/preprocessing.html\n",
      "Please also refer to the documentation for alternative solver options:\n",
      "    https://scikit-learn.org/stable/modules/linear_model.html#logistic-regression\n",
      "  n_iter_i = _check_optimize_result(\n"
     ]
    },
    {
     "name": "stdout",
     "output_type": "stream",
     "text": [
      "Fitting estimator with 19 features.\n"
     ]
    },
    {
     "name": "stderr",
     "output_type": "stream",
     "text": [
      "/Users/HarryWang/opt/anaconda3/lib/python3.8/site-packages/sklearn/linear_model/_logistic.py:762: ConvergenceWarning: lbfgs failed to converge (status=1):\n",
      "STOP: TOTAL NO. of ITERATIONS REACHED LIMIT.\n",
      "\n",
      "Increase the number of iterations (max_iter) or scale the data as shown in:\n",
      "    https://scikit-learn.org/stable/modules/preprocessing.html\n",
      "Please also refer to the documentation for alternative solver options:\n",
      "    https://scikit-learn.org/stable/modules/linear_model.html#logistic-regression\n",
      "  n_iter_i = _check_optimize_result(\n"
     ]
    },
    {
     "name": "stdout",
     "output_type": "stream",
     "text": [
      "Fitting estimator with 18 features.\n"
     ]
    },
    {
     "name": "stderr",
     "output_type": "stream",
     "text": [
      "/Users/HarryWang/opt/anaconda3/lib/python3.8/site-packages/sklearn/linear_model/_logistic.py:762: ConvergenceWarning: lbfgs failed to converge (status=1):\n",
      "STOP: TOTAL NO. of ITERATIONS REACHED LIMIT.\n",
      "\n",
      "Increase the number of iterations (max_iter) or scale the data as shown in:\n",
      "    https://scikit-learn.org/stable/modules/preprocessing.html\n",
      "Please also refer to the documentation for alternative solver options:\n",
      "    https://scikit-learn.org/stable/modules/linear_model.html#logistic-regression\n",
      "  n_iter_i = _check_optimize_result(\n"
     ]
    },
    {
     "name": "stdout",
     "output_type": "stream",
     "text": [
      "Fitting estimator with 17 features.\n"
     ]
    },
    {
     "name": "stderr",
     "output_type": "stream",
     "text": [
      "/Users/HarryWang/opt/anaconda3/lib/python3.8/site-packages/sklearn/linear_model/_logistic.py:762: ConvergenceWarning: lbfgs failed to converge (status=1):\n",
      "STOP: TOTAL NO. of ITERATIONS REACHED LIMIT.\n",
      "\n",
      "Increase the number of iterations (max_iter) or scale the data as shown in:\n",
      "    https://scikit-learn.org/stable/modules/preprocessing.html\n",
      "Please also refer to the documentation for alternative solver options:\n",
      "    https://scikit-learn.org/stable/modules/linear_model.html#logistic-regression\n",
      "  n_iter_i = _check_optimize_result(\n"
     ]
    },
    {
     "name": "stdout",
     "output_type": "stream",
     "text": [
      "Fitting estimator with 16 features.\n"
     ]
    },
    {
     "name": "stderr",
     "output_type": "stream",
     "text": [
      "/Users/HarryWang/opt/anaconda3/lib/python3.8/site-packages/sklearn/linear_model/_logistic.py:762: ConvergenceWarning: lbfgs failed to converge (status=1):\n",
      "STOP: TOTAL NO. of ITERATIONS REACHED LIMIT.\n",
      "\n",
      "Increase the number of iterations (max_iter) or scale the data as shown in:\n",
      "    https://scikit-learn.org/stable/modules/preprocessing.html\n",
      "Please also refer to the documentation for alternative solver options:\n",
      "    https://scikit-learn.org/stable/modules/linear_model.html#logistic-regression\n",
      "  n_iter_i = _check_optimize_result(\n"
     ]
    },
    {
     "name": "stdout",
     "output_type": "stream",
     "text": [
      "Fitting estimator with 15 features.\n"
     ]
    },
    {
     "name": "stderr",
     "output_type": "stream",
     "text": [
      "/Users/HarryWang/opt/anaconda3/lib/python3.8/site-packages/sklearn/linear_model/_logistic.py:762: ConvergenceWarning: lbfgs failed to converge (status=1):\n",
      "STOP: TOTAL NO. of ITERATIONS REACHED LIMIT.\n",
      "\n",
      "Increase the number of iterations (max_iter) or scale the data as shown in:\n",
      "    https://scikit-learn.org/stable/modules/preprocessing.html\n",
      "Please also refer to the documentation for alternative solver options:\n",
      "    https://scikit-learn.org/stable/modules/linear_model.html#logistic-regression\n",
      "  n_iter_i = _check_optimize_result(\n"
     ]
    },
    {
     "name": "stdout",
     "output_type": "stream",
     "text": [
      "Fitting estimator with 14 features.\n"
     ]
    },
    {
     "name": "stderr",
     "output_type": "stream",
     "text": [
      "/Users/HarryWang/opt/anaconda3/lib/python3.8/site-packages/sklearn/linear_model/_logistic.py:762: ConvergenceWarning: lbfgs failed to converge (status=1):\n",
      "STOP: TOTAL NO. of ITERATIONS REACHED LIMIT.\n",
      "\n",
      "Increase the number of iterations (max_iter) or scale the data as shown in:\n",
      "    https://scikit-learn.org/stable/modules/preprocessing.html\n",
      "Please also refer to the documentation for alternative solver options:\n",
      "    https://scikit-learn.org/stable/modules/linear_model.html#logistic-regression\n",
      "  n_iter_i = _check_optimize_result(\n"
     ]
    },
    {
     "name": "stdout",
     "output_type": "stream",
     "text": [
      "Fitting estimator with 13 features.\n"
     ]
    },
    {
     "name": "stderr",
     "output_type": "stream",
     "text": [
      "/Users/HarryWang/opt/anaconda3/lib/python3.8/site-packages/sklearn/linear_model/_logistic.py:762: ConvergenceWarning: lbfgs failed to converge (status=1):\n",
      "STOP: TOTAL NO. of ITERATIONS REACHED LIMIT.\n",
      "\n",
      "Increase the number of iterations (max_iter) or scale the data as shown in:\n",
      "    https://scikit-learn.org/stable/modules/preprocessing.html\n",
      "Please also refer to the documentation for alternative solver options:\n",
      "    https://scikit-learn.org/stable/modules/linear_model.html#logistic-regression\n",
      "  n_iter_i = _check_optimize_result(\n"
     ]
    },
    {
     "name": "stdout",
     "output_type": "stream",
     "text": [
      "Fitting estimator with 12 features.\n"
     ]
    },
    {
     "name": "stderr",
     "output_type": "stream",
     "text": [
      "/Users/HarryWang/opt/anaconda3/lib/python3.8/site-packages/sklearn/linear_model/_logistic.py:762: ConvergenceWarning: lbfgs failed to converge (status=1):\n",
      "STOP: TOTAL NO. of ITERATIONS REACHED LIMIT.\n",
      "\n",
      "Increase the number of iterations (max_iter) or scale the data as shown in:\n",
      "    https://scikit-learn.org/stable/modules/preprocessing.html\n",
      "Please also refer to the documentation for alternative solver options:\n",
      "    https://scikit-learn.org/stable/modules/linear_model.html#logistic-regression\n",
      "  n_iter_i = _check_optimize_result(\n"
     ]
    },
    {
     "name": "stdout",
     "output_type": "stream",
     "text": [
      "Fitting estimator with 11 features.\n"
     ]
    },
    {
     "name": "stderr",
     "output_type": "stream",
     "text": [
      "/Users/HarryWang/opt/anaconda3/lib/python3.8/site-packages/sklearn/linear_model/_logistic.py:762: ConvergenceWarning: lbfgs failed to converge (status=1):\n",
      "STOP: TOTAL NO. of ITERATIONS REACHED LIMIT.\n",
      "\n",
      "Increase the number of iterations (max_iter) or scale the data as shown in:\n",
      "    https://scikit-learn.org/stable/modules/preprocessing.html\n",
      "Please also refer to the documentation for alternative solver options:\n",
      "    https://scikit-learn.org/stable/modules/linear_model.html#logistic-regression\n",
      "  n_iter_i = _check_optimize_result(\n"
     ]
    },
    {
     "name": "stdout",
     "output_type": "stream",
     "text": [
      "Fitting estimator with 10 features.\n"
     ]
    },
    {
     "name": "stderr",
     "output_type": "stream",
     "text": [
      "/Users/HarryWang/opt/anaconda3/lib/python3.8/site-packages/sklearn/linear_model/_logistic.py:762: ConvergenceWarning: lbfgs failed to converge (status=1):\n",
      "STOP: TOTAL NO. of ITERATIONS REACHED LIMIT.\n",
      "\n",
      "Increase the number of iterations (max_iter) or scale the data as shown in:\n",
      "    https://scikit-learn.org/stable/modules/preprocessing.html\n",
      "Please also refer to the documentation for alternative solver options:\n",
      "    https://scikit-learn.org/stable/modules/linear_model.html#logistic-regression\n",
      "  n_iter_i = _check_optimize_result(\n"
     ]
    },
    {
     "name": "stdout",
     "output_type": "stream",
     "text": [
      "Fitting estimator with 9 features.\n",
      "Fitting estimator with 8 features.\n",
      "Fitting estimator with 7 features.\n",
      "Fitting estimator with 6 features.\n",
      "Fitting estimator with 5 features.\n",
      "Fitting estimator with 4 features.\n",
      "Fitting estimator with 3 features.\n",
      "Fitting estimator with 2 features.\n",
      "Fitting estimator with 80 features.\n"
     ]
    },
    {
     "name": "stderr",
     "output_type": "stream",
     "text": [
      "/Users/HarryWang/opt/anaconda3/lib/python3.8/site-packages/sklearn/linear_model/_logistic.py:762: ConvergenceWarning: lbfgs failed to converge (status=1):\n",
      "STOP: TOTAL NO. of ITERATIONS REACHED LIMIT.\n",
      "\n",
      "Increase the number of iterations (max_iter) or scale the data as shown in:\n",
      "    https://scikit-learn.org/stable/modules/preprocessing.html\n",
      "Please also refer to the documentation for alternative solver options:\n",
      "    https://scikit-learn.org/stable/modules/linear_model.html#logistic-regression\n",
      "  n_iter_i = _check_optimize_result(\n"
     ]
    },
    {
     "name": "stdout",
     "output_type": "stream",
     "text": [
      "Fitting estimator with 79 features.\n"
     ]
    },
    {
     "name": "stderr",
     "output_type": "stream",
     "text": [
      "/Users/HarryWang/opt/anaconda3/lib/python3.8/site-packages/sklearn/linear_model/_logistic.py:762: ConvergenceWarning: lbfgs failed to converge (status=1):\n",
      "STOP: TOTAL NO. of ITERATIONS REACHED LIMIT.\n",
      "\n",
      "Increase the number of iterations (max_iter) or scale the data as shown in:\n",
      "    https://scikit-learn.org/stable/modules/preprocessing.html\n",
      "Please also refer to the documentation for alternative solver options:\n",
      "    https://scikit-learn.org/stable/modules/linear_model.html#logistic-regression\n",
      "  n_iter_i = _check_optimize_result(\n"
     ]
    },
    {
     "name": "stdout",
     "output_type": "stream",
     "text": [
      "Fitting estimator with 78 features.\n"
     ]
    },
    {
     "name": "stderr",
     "output_type": "stream",
     "text": [
      "/Users/HarryWang/opt/anaconda3/lib/python3.8/site-packages/sklearn/linear_model/_logistic.py:762: ConvergenceWarning: lbfgs failed to converge (status=1):\n",
      "STOP: TOTAL NO. of ITERATIONS REACHED LIMIT.\n",
      "\n",
      "Increase the number of iterations (max_iter) or scale the data as shown in:\n",
      "    https://scikit-learn.org/stable/modules/preprocessing.html\n",
      "Please also refer to the documentation for alternative solver options:\n",
      "    https://scikit-learn.org/stable/modules/linear_model.html#logistic-regression\n",
      "  n_iter_i = _check_optimize_result(\n",
      "/Users/HarryWang/opt/anaconda3/lib/python3.8/site-packages/sklearn/linear_model/_logistic.py:762: ConvergenceWarning: lbfgs failed to converge (status=1):\n",
      "STOP: TOTAL NO. of ITERATIONS REACHED LIMIT.\n",
      "\n",
      "Increase the number of iterations (max_iter) or scale the data as shown in:\n",
      "    https://scikit-learn.org/stable/modules/preprocessing.html\n",
      "Please also refer to the documentation for alternative solver options:\n",
      "    https://scikit-learn.org/stable/modules/linear_model.html#logistic-regression\n",
      "  n_iter_i = _check_optimize_result(\n",
      "/Users/HarryWang/opt/anaconda3/lib/python3.8/site-packages/sklearn/linear_model/_logistic.py:762: ConvergenceWarning: lbfgs failed to converge (status=1):\n",
      "STOP: TOTAL NO. of ITERATIONS REACHED LIMIT.\n",
      "\n",
      "Increase the number of iterations (max_iter) or scale the data as shown in:\n",
      "    https://scikit-learn.org/stable/modules/preprocessing.html\n",
      "Please also refer to the documentation for alternative solver options:\n",
      "    https://scikit-learn.org/stable/modules/linear_model.html#logistic-regression\n",
      "  n_iter_i = _check_optimize_result(\n"
     ]
    },
    {
     "data": {
      "text/plain": [
       "RFECV(cv=2, estimator=LogisticRegression(class_weight='balanced'), n_jobs=1,\n",
       "      scoring='roc_auc', verbose=2)"
      ]
     },
     "execution_count": 49,
     "metadata": {},
     "output_type": "execute_result"
    }
   ],
   "source": [
    "rfecv = RFECV(estimator = model, step = 1, cv = 2, verbose = 2, n_jobs = 1, scoring = 'roc_auc')\n",
    "rfecv.fit(mydata.loc[:, top_80], mydata['fraud_label'])"
   ]
  },
  {
   "cell_type": "code",
   "execution_count": 50,
   "id": "velvet-tract",
   "metadata": {
    "ExecuteTime": {
     "end_time": "2021-03-18T06:31:30.508235Z",
     "start_time": "2021-03-18T06:31:28.928417Z"
    },
    "scrolled": true
   },
   "outputs": [
    {
     "name": "stdout",
     "output_type": "stream",
     "text": [
      "    ranking                             variable\n",
      "0         1                      address_count_0\n",
      "1         1                address_count_0_by_14\n",
      "2         1                 address_count_0_by_3\n",
      "3         1                address_count_0_by_30\n",
      "4         1                 address_count_0_by_7\n",
      "..      ...                                  ...\n",
      "75        1                          ssn_count_7\n",
      "76        1                        ssn_day_since\n",
      "77        2                  homephone_day_since\n",
      "78        3  fulladdress_homephone_count_1_by_14\n",
      "79        4                address_count_1_by_14\n",
      "\n",
      "[80 rows x 2 columns]\n"
     ]
    }
   ],
   "source": [
    "var_selected = pd.DataFrame(sorted(zip(map(lambda x:round(x), rfecv.ranking_), mydata.loc[:, top_80].columns)),\n",
    "                           columns = ['ranking', 'variable'])\n",
    "print(var_selected)"
   ]
  },
  {
   "cell_type": "code",
   "execution_count": 51,
   "id": "signal-reader",
   "metadata": {
    "ExecuteTime": {
     "end_time": "2021-03-18T06:31:30.766404Z",
     "start_time": "2021-03-18T06:31:30.512909Z"
    }
   },
   "outputs": [],
   "source": [
    "var_selected.to_excel('var_selected.xlsx')"
   ]
  },
  {
   "cell_type": "code",
   "execution_count": 53,
   "id": "stainless-cologne",
   "metadata": {
    "ExecuteTime": {
     "end_time": "2021-03-18T07:05:34.126597Z",
     "start_time": "2021-03-18T07:05:33.532385Z"
    }
   },
   "outputs": [],
   "source": [
    "from matplotlib import pyplot as plt"
   ]
  },
  {
   "cell_type": "code",
   "execution_count": 54,
   "id": "nominated-clinton",
   "metadata": {
    "ExecuteTime": {
     "end_time": "2021-03-18T07:05:34.385478Z",
     "start_time": "2021-03-18T07:05:34.129284Z"
    },
    "scrolled": false
   },
   "outputs": [
    {
     "data": {
      "image/png": "[encoded data removed]",
      "text/plain": [
       "<Figure size 432x288 with 1 Axes>"
      ]
     },
     "metadata": {
      "needs_background": "light"
     },
     "output_type": "display_data"
    }
   ],
   "source": [
    "plt.figure()\n",
    "plt.xlabel(\"Number of features selected\")\n",
    "plt.ylabel(\"Cross validation score (nb of correct classifications)\")\n",
    "plt.plot(range(1, len(rfecv.grid_scores_) + 1), rfecv.grid_scores_)\n",
    "plt.show()"
   ]
  },
  {
   "cell_type": "code",
   "execution_count": 55,
   "id": "necessary-juice",
   "metadata": {
    "ExecuteTime": {
     "end_time": "2021-03-18T07:05:35.782842Z",
     "start_time": "2021-03-18T07:05:35.763871Z"
    },
    "scrolled": false
   },
   "outputs": [
    {
     "data": {
      "text/html": [
       "<div>\n",
       "<style scoped>\n",
       "    .dataframe tbody tr th:only-of-type {\n",
       "        vertical-align: middle;\n",
       "    }\n",
       "\n",
       "    .dataframe tbody tr th {\n",
       "        vertical-align: top;\n",
       "    }\n",
       "\n",
       "    .dataframe thead th {\n",
       "        text-align: right;\n",
       "    }\n",
       "</style>\n",
       "<table border=\"1\" class=\"dataframe\">\n",
       "  <thead>\n",
       "    <tr style=\"text-align: right;\">\n",
       "      <th></th>\n",
       "      <th>ks</th>\n",
       "      <th>FDR</th>\n",
       "      <th>rank_ks</th>\n",
       "      <th>rank_FDR</th>\n",
       "      <th>average_rank</th>\n",
       "    </tr>\n",
       "    <tr>\n",
       "      <th>variable_name</th>\n",
       "      <th></th>\n",
       "      <th></th>\n",
       "      <th></th>\n",
       "      <th></th>\n",
       "      <th></th>\n",
       "    </tr>\n",
       "  </thead>\n",
       "  <tbody>\n",
       "    <tr>\n",
       "      <th>address_day_since</th>\n",
       "      <td>0.334673</td>\n",
       "      <td>0.355789</td>\n",
       "      <td>450.0</td>\n",
       "      <td>450.0</td>\n",
       "      <td>450.00</td>\n",
       "    </tr>\n",
       "    <tr>\n",
       "      <th>address_count_30</th>\n",
       "      <td>0.333297</td>\n",
       "      <td>0.354565</td>\n",
       "      <td>449.0</td>\n",
       "      <td>449.0</td>\n",
       "      <td>449.00</td>\n",
       "    </tr>\n",
       "    <tr>\n",
       "      <th>address_count_60</th>\n",
       "      <td>0.325596</td>\n",
       "      <td>0.349934</td>\n",
       "      <td>448.0</td>\n",
       "      <td>448.0</td>\n",
       "      <td>448.00</td>\n",
       "    </tr>\n",
       "    <tr>\n",
       "      <th>address_count_14</th>\n",
       "      <td>0.322785</td>\n",
       "      <td>0.346352</td>\n",
       "      <td>447.0</td>\n",
       "      <td>447.0</td>\n",
       "      <td>447.00</td>\n",
       "    </tr>\n",
       "    <tr>\n",
       "      <th>address_count_7</th>\n",
       "      <td>0.301954</td>\n",
       "      <td>0.322237</td>\n",
       "      <td>446.0</td>\n",
       "      <td>446.0</td>\n",
       "      <td>446.00</td>\n",
       "    </tr>\n",
       "    <tr>\n",
       "      <th>...</th>\n",
       "      <td>...</td>\n",
       "      <td>...</td>\n",
       "      <td>...</td>\n",
       "      <td>...</td>\n",
       "      <td>...</td>\n",
       "    </tr>\n",
       "    <tr>\n",
       "      <th>zip_homephone_ssn_count_0</th>\n",
       "      <td>0.001717</td>\n",
       "      <td>0.034688</td>\n",
       "      <td>2.0</td>\n",
       "      <td>12.5</td>\n",
       "      <td>7.25</td>\n",
       "    </tr>\n",
       "    <tr>\n",
       "      <th>lastname_homephone_ssn_count_0</th>\n",
       "      <td>0.001713</td>\n",
       "      <td>0.034688</td>\n",
       "      <td>1.0</td>\n",
       "      <td>12.5</td>\n",
       "      <td>6.75</td>\n",
       "    </tr>\n",
       "    <tr>\n",
       "      <th>zip_namedob_homephone_ssn_count_0</th>\n",
       "      <td>0.001745</td>\n",
       "      <td>0.034600</td>\n",
       "      <td>8.0</td>\n",
       "      <td>4.0</td>\n",
       "      <td>6.00</td>\n",
       "    </tr>\n",
       "    <tr>\n",
       "      <th>namedob_homephone_ssn_count_0</th>\n",
       "      <td>0.001743</td>\n",
       "      <td>0.034600</td>\n",
       "      <td>7.0</td>\n",
       "      <td>4.0</td>\n",
       "      <td>5.50</td>\n",
       "    </tr>\n",
       "    <tr>\n",
       "      <th>namedob_fulladdress_ssn_count_0</th>\n",
       "      <td>0.001735</td>\n",
       "      <td>0.034600</td>\n",
       "      <td>6.0</td>\n",
       "      <td>4.0</td>\n",
       "      <td>5.00</td>\n",
       "    </tr>\n",
       "  </tbody>\n",
       "</table>\n",
       "<p>450 rows × 5 columns</p>\n",
       "</div>"
      ],
      "text/plain": [
       "                                         ks       FDR  rank_ks  rank_FDR  \\\n",
       "variable_name                                                              \n",
       "address_day_since                  0.334673  0.355789    450.0     450.0   \n",
       "address_count_30                   0.333297  0.354565    449.0     449.0   \n",
       "address_count_60                   0.325596  0.349934    448.0     448.0   \n",
       "address_count_14                   0.322785  0.346352    447.0     447.0   \n",
       "address_count_7                    0.301954  0.322237    446.0     446.0   \n",
       "...                                     ...       ...      ...       ...   \n",
       "zip_homephone_ssn_count_0          0.001717  0.034688      2.0      12.5   \n",
       "lastname_homephone_ssn_count_0     0.001713  0.034688      1.0      12.5   \n",
       "zip_namedob_homephone_ssn_count_0  0.001745  0.034600      8.0       4.0   \n",
       "namedob_homephone_ssn_count_0      0.001743  0.034600      7.0       4.0   \n",
       "namedob_fulladdress_ssn_count_0    0.001735  0.034600      6.0       4.0   \n",
       "\n",
       "                                   average_rank  \n",
       "variable_name                                    \n",
       "address_day_since                        450.00  \n",
       "address_count_30                         449.00  \n",
       "address_count_60                         448.00  \n",
       "address_count_14                         447.00  \n",
       "address_count_7                          446.00  \n",
       "...                                         ...  \n",
       "zip_homephone_ssn_count_0                  7.25  \n",
       "lastname_homephone_ssn_count_0             6.75  \n",
       "zip_namedob_homephone_ssn_count_0          6.00  \n",
       "namedob_homephone_ssn_count_0              5.50  \n",
       "namedob_fulladdress_ssn_count_0            5.00  \n",
       "\n",
       "[450 rows x 5 columns]"
      ]
     },
     "execution_count": 55,
     "metadata": {},
     "output_type": "execute_result"
    }
   ],
   "source": [
    "KSFDR"
   ]
  },
  {
   "cell_type": "code",
   "execution_count": 56,
   "id": "numerous-parish",
   "metadata": {
    "ExecuteTime": {
     "end_time": "2021-03-18T07:06:11.542230Z",
     "start_time": "2021-03-18T07:05:38.540590Z"
    }
   },
   "outputs": [
    {
     "name": "stdout",
     "output_type": "stream",
     "text": [
      "variable zip_namedob_homephone_ssn_count_1_by_30 ---> Done\n"
     ]
    }
   ],
   "source": [
    "a = [column]\n",
    "b = sps.ks_2samp(mydata[mydata['fraud_label'] == 0][column], mydata[mydata['fraud_label'] == 1][column])[0]\n",
    "a.append(b)\n",
    "print(f'variable {column} ---> Done')\n",
    "table.append(a)"
   ]
  },
  {
   "cell_type": "code",
   "execution_count": 57,
   "id": "overhead-exclusion",
   "metadata": {
    "ExecuteTime": {
     "end_time": "2021-03-18T07:06:27.450194Z",
     "start_time": "2021-03-18T07:06:11.547650Z"
    }
   },
   "outputs": [],
   "source": [
    "testdf = mydata.copy()\n",
    "\n",
    "testdf['random'] = np.random.uniform(0,1)"
   ]
  },
  {
   "cell_type": "code",
   "execution_count": 58,
   "id": "decent-handbook",
   "metadata": {
    "ExecuteTime": {
     "end_time": "2021-03-18T07:06:27.545651Z",
     "start_time": "2021-03-18T07:06:27.470907Z"
    }
   },
   "outputs": [],
   "source": [
    "random = np.random.rand(len(testdf), 1)\n",
    "testdf['random'] = random"
   ]
  },
  {
   "cell_type": "code",
   "execution_count": 59,
   "id": "valid-booth",
   "metadata": {
    "ExecuteTime": {
     "end_time": "2021-03-18T07:06:52.617367Z",
     "start_time": "2021-03-18T07:06:27.555710Z"
    }
   },
   "outputs": [],
   "source": [
    "label_ks = sps.ks_2samp(testdf[testdf['fraud_label'] == 0]['fraud_label'], testdf[testdf['fraud_label'] ==1]['fraud_label'])[0]"
   ]
  },
  {
   "cell_type": "code",
   "execution_count": 60,
   "id": "encouraging-actor",
   "metadata": {
    "ExecuteTime": {
     "end_time": "2021-03-18T07:07:07.404577Z",
     "start_time": "2021-03-18T07:06:52.664980Z"
    }
   },
   "outputs": [],
   "source": [
    "random_ks = sps.ks_2samp(testdf[testdf['fraud_label'] == 0]['random'], testdf[testdf['fraud_label'] ==1]['random'])[0]"
   ]
  },
  {
   "cell_type": "code",
   "execution_count": 61,
   "id": "preceding-lafayette",
   "metadata": {
    "ExecuteTime": {
     "end_time": "2021-03-18T07:07:07.674536Z",
     "start_time": "2021-03-18T07:07:07.413703Z"
    }
   },
   "outputs": [],
   "source": [
    "temp = testdf[['fraud_label']].copy()\n",
    "numbads = sum(temp['fraud_label'])\n",
    "temp0 = temp.sort_values('fraud_label', ascending = False)\n",
    "temp1 = temp0.head(topRows)\n",
    "temp2 = temp0.tail(topRows)\n",
    "needed1 = temp1.loc[:, 'fraud_label']\n",
    "needed2 = temp2.loc[:, 'fraud_label']\n",
    "FDR1 = sum(needed1)/numbads\n",
    "FDR2 = sum(needed2)/numbads\n",
    "FDRate = np.maximum(FDR1, FDR2)\n",
    "label_FDR = FDRate"
   ]
  },
  {
   "cell_type": "code",
   "execution_count": 62,
   "id": "educated-albania",
   "metadata": {
    "ExecuteTime": {
     "end_time": "2021-03-18T07:07:07.984627Z",
     "start_time": "2021-03-18T07:07:07.677017Z"
    }
   },
   "outputs": [],
   "source": [
    "temp = testdf[['random', 'fraud_label']].copy()\n",
    "numbads = sum(temp['fraud_label'])\n",
    "temp0 = temp.sort_values('random', ascending = False)\n",
    "temp1 = temp0.head(topRows)\n",
    "temp2 = temp0.tail(topRows)\n",
    "needed1 = temp1.loc[:, 'fraud_label']\n",
    "needed2 = temp2.loc[:, 'fraud_label']\n",
    "FDR1 = sum(needed1)/numbads\n",
    "FDR2 = sum(needed2)/numbads\n",
    "FDRate = np.maximum(FDR1, FDR2)\n",
    "random_FDR = FDRate"
   ]
  },
  {
   "cell_type": "code",
   "execution_count": 63,
   "id": "flush-hands",
   "metadata": {
    "ExecuteTime": {
     "end_time": "2021-03-18T07:07:08.105165Z",
     "start_time": "2021-03-18T07:07:07.990788Z"
    }
   },
   "outputs": [
    {
     "data": {
      "text/html": [
       "<div>\n",
       "<style scoped>\n",
       "    .dataframe tbody tr th:only-of-type {\n",
       "        vertical-align: middle;\n",
       "    }\n",
       "\n",
       "    .dataframe tbody tr th {\n",
       "        vertical-align: top;\n",
       "    }\n",
       "\n",
       "    .dataframe thead th {\n",
       "        text-align: right;\n",
       "    }\n",
       "</style>\n",
       "<table border=\"1\" class=\"dataframe\">\n",
       "  <thead>\n",
       "    <tr style=\"text-align: right;\">\n",
       "      <th></th>\n",
       "      <th>variable_name</th>\n",
       "      <th>ks</th>\n",
       "      <th>FDR</th>\n",
       "    </tr>\n",
       "  </thead>\n",
       "  <tbody>\n",
       "    <tr>\n",
       "      <th>0</th>\n",
       "      <td>address_day_since</td>\n",
       "      <td>0.334673</td>\n",
       "      <td>0.355789</td>\n",
       "    </tr>\n",
       "    <tr>\n",
       "      <th>1</th>\n",
       "      <td>address_count_30</td>\n",
       "      <td>0.333297</td>\n",
       "      <td>0.354565</td>\n",
       "    </tr>\n",
       "    <tr>\n",
       "      <th>2</th>\n",
       "      <td>address_count_60</td>\n",
       "      <td>0.325596</td>\n",
       "      <td>0.349934</td>\n",
       "    </tr>\n",
       "    <tr>\n",
       "      <th>3</th>\n",
       "      <td>address_count_14</td>\n",
       "      <td>0.322785</td>\n",
       "      <td>0.346352</td>\n",
       "    </tr>\n",
       "    <tr>\n",
       "      <th>4</th>\n",
       "      <td>address_count_7</td>\n",
       "      <td>0.301954</td>\n",
       "      <td>0.322237</td>\n",
       "    </tr>\n",
       "    <tr>\n",
       "      <th>...</th>\n",
       "      <td>...</td>\n",
       "      <td>...</td>\n",
       "      <td>...</td>\n",
       "    </tr>\n",
       "    <tr>\n",
       "      <th>445</th>\n",
       "      <td>zip_homephone_ssn_count_0</td>\n",
       "      <td>0.001717</td>\n",
       "      <td>0.034688</td>\n",
       "    </tr>\n",
       "    <tr>\n",
       "      <th>446</th>\n",
       "      <td>lastname_homephone_ssn_count_0</td>\n",
       "      <td>0.001713</td>\n",
       "      <td>0.034688</td>\n",
       "    </tr>\n",
       "    <tr>\n",
       "      <th>447</th>\n",
       "      <td>zip_namedob_homephone_ssn_count_0</td>\n",
       "      <td>0.001745</td>\n",
       "      <td>0.034600</td>\n",
       "    </tr>\n",
       "    <tr>\n",
       "      <th>448</th>\n",
       "      <td>namedob_homephone_ssn_count_0</td>\n",
       "      <td>0.001743</td>\n",
       "      <td>0.034600</td>\n",
       "    </tr>\n",
       "    <tr>\n",
       "      <th>449</th>\n",
       "      <td>namedob_fulladdress_ssn_count_0</td>\n",
       "      <td>0.001735</td>\n",
       "      <td>0.034600</td>\n",
       "    </tr>\n",
       "  </tbody>\n",
       "</table>\n",
       "<p>450 rows × 3 columns</p>\n",
       "</div>"
      ],
      "text/plain": [
       "                         variable_name        ks       FDR\n",
       "0                    address_day_since  0.334673  0.355789\n",
       "1                     address_count_30  0.333297  0.354565\n",
       "2                     address_count_60  0.325596  0.349934\n",
       "3                     address_count_14  0.322785  0.346352\n",
       "4                      address_count_7  0.301954  0.322237\n",
       "..                                 ...       ...       ...\n",
       "445          zip_homephone_ssn_count_0  0.001717  0.034688\n",
       "446     lastname_homephone_ssn_count_0  0.001713  0.034688\n",
       "447  zip_namedob_homephone_ssn_count_0  0.001745  0.034600\n",
       "448      namedob_homephone_ssn_count_0  0.001743  0.034600\n",
       "449    namedob_fulladdress_ssn_count_0  0.001735  0.034600\n",
       "\n",
       "[450 rows x 3 columns]"
      ]
     },
     "execution_count": 63,
     "metadata": {},
     "output_type": "execute_result"
    }
   ],
   "source": [
    "test_KSFDR = KSFDR.iloc[:, :2].reset_index().copy()\n",
    "test_KSFDR"
   ]
  },
  {
   "cell_type": "code",
   "execution_count": 64,
   "id": "turkish-intellectual",
   "metadata": {
    "ExecuteTime": {
     "end_time": "2021-03-18T07:07:08.120981Z",
     "start_time": "2021-03-18T07:07:08.109599Z"
    }
   },
   "outputs": [],
   "source": [
    "label_rand = pd.DataFrame([['fraud_label', label_ks, label_FDR],\n",
    "                         ['random', random_ks, random_FDR]], columns = ['variable_name', 'ks', 'FDR'])"
   ]
  },
  {
   "cell_type": "code",
   "execution_count": 65,
   "id": "induced-socket",
   "metadata": {
    "ExecuteTime": {
     "end_time": "2021-03-18T07:07:08.132544Z",
     "start_time": "2021-03-18T07:07:08.123569Z"
    }
   },
   "outputs": [
    {
     "data": {
      "text/html": [
       "<div>\n",
       "<style scoped>\n",
       "    .dataframe tbody tr th:only-of-type {\n",
       "        vertical-align: middle;\n",
       "    }\n",
       "\n",
       "    .dataframe tbody tr th {\n",
       "        vertical-align: top;\n",
       "    }\n",
       "\n",
       "    .dataframe thead th {\n",
       "        text-align: right;\n",
       "    }\n",
       "</style>\n",
       "<table border=\"1\" class=\"dataframe\">\n",
       "  <thead>\n",
       "    <tr style=\"text-align: right;\">\n",
       "      <th></th>\n",
       "      <th>variable_name</th>\n",
       "      <th>ks</th>\n",
       "      <th>FDR</th>\n",
       "    </tr>\n",
       "  </thead>\n",
       "  <tbody>\n",
       "    <tr>\n",
       "      <th>0</th>\n",
       "      <td>fraud_label</td>\n",
       "      <td>1.000000</td>\n",
       "      <td>1.000000</td>\n",
       "    </tr>\n",
       "    <tr>\n",
       "      <th>1</th>\n",
       "      <td>random</td>\n",
       "      <td>0.005952</td>\n",
       "      <td>0.030668</td>\n",
       "    </tr>\n",
       "  </tbody>\n",
       "</table>\n",
       "</div>"
      ],
      "text/plain": [
       "  variable_name        ks       FDR\n",
       "0   fraud_label  1.000000  1.000000\n",
       "1        random  0.005952  0.030668"
      ]
     },
     "execution_count": 65,
     "metadata": {},
     "output_type": "execute_result"
    }
   ],
   "source": [
    "label_rand"
   ]
  },
  {
   "cell_type": "code",
   "execution_count": 66,
   "id": "identical-luther",
   "metadata": {
    "ExecuteTime": {
     "end_time": "2021-03-18T07:07:08.166835Z",
     "start_time": "2021-03-18T07:07:08.134919Z"
    },
    "scrolled": true
   },
   "outputs": [],
   "source": [
    "test_KSFDR = test_KSFDR.append(label_rand).reset_index()"
   ]
  },
  {
   "cell_type": "code",
   "execution_count": 67,
   "id": "satisfactory-support",
   "metadata": {
    "ExecuteTime": {
     "end_time": "2021-03-18T07:07:08.203145Z",
     "start_time": "2021-03-18T07:07:08.171628Z"
    }
   },
   "outputs": [],
   "source": [
    "test_KSFDR['rank_ks'] = test_KSFDR['ks'].rank(ascending = True)\n",
    "test_KSFDR['rank_FDR'] = test_KSFDR['FDR'].rank(ascending = True)\n",
    "test_KSFDR.sort_values(by = ['ks'], ascending = False, inplace = True)"
   ]
  },
  {
   "cell_type": "code",
   "execution_count": null,
   "id": "pressed-shannon",
   "metadata": {
    "ExecuteTime": {
     "end_time": "2021-03-18T06:31:31.579563Z",
     "start_time": "2021-03-18T04:46:07.321Z"
    }
   },
   "outputs": [],
   "source": [
    "test_KSFDR.to_excel('rank_by_ks.xlsx')"
   ]
  },
  {
   "cell_type": "code",
   "execution_count": 68,
   "id": "unlikely-disorder",
   "metadata": {
    "ExecuteTime": {
     "end_time": "2021-03-18T07:07:08.209748Z",
     "start_time": "2021-03-18T07:07:08.205583Z"
    }
   },
   "outputs": [],
   "source": [
    "test_KSFDR.sort_values(by = ['FDR'], ascending = False, inplace = True)"
   ]
  },
  {
   "cell_type": "code",
   "execution_count": null,
   "id": "boring-preview",
   "metadata": {
    "ExecuteTime": {
     "end_time": "2021-03-18T06:31:31.584205Z",
     "start_time": "2021-03-18T04:46:08.361Z"
    }
   },
   "outputs": [],
   "source": [
    "test_KSFDR.to_excel('rank_by_FDR.xlsx')"
   ]
  },
  {
   "cell_type": "code",
   "execution_count": 170,
   "id": "liquid-carter",
   "metadata": {
    "ExecuteTime": {
     "end_time": "2021-03-07T15:33:34.590993Z",
     "start_time": "2021-03-07T15:33:34.466040Z"
    },
    "scrolled": true
   },
   "outputs": [
    {
     "data": {
      "text/html": [
       "<div>\n",
       "<style scoped>\n",
       "    .dataframe tbody tr th:only-of-type {\n",
       "        vertical-align: middle;\n",
       "    }\n",
       "\n",
       "    .dataframe tbody tr th {\n",
       "        vertical-align: top;\n",
       "    }\n",
       "\n",
       "    .dataframe thead th {\n",
       "        text-align: right;\n",
       "    }\n",
       "</style>\n",
       "<table border=\"1\" class=\"dataframe\">\n",
       "  <thead>\n",
       "    <tr style=\"text-align: right;\">\n",
       "      <th></th>\n",
       "      <th>one</th>\n",
       "      <th>two</th>\n",
       "      <th>three</th>\n",
       "      <th>four</th>\n",
       "      <th>five</th>\n",
       "    </tr>\n",
       "  </thead>\n",
       "  <tbody>\n",
       "    <tr>\n",
       "      <th>0</th>\n",
       "      <td>1</td>\n",
       "      <td>2</td>\n",
       "      <td>3</td>\n",
       "      <td>4</td>\n",
       "      <td>5</td>\n",
       "    </tr>\n",
       "    <tr>\n",
       "      <th>1</th>\n",
       "      <td>6</td>\n",
       "      <td>7</td>\n",
       "      <td>8</td>\n",
       "      <td>9</td>\n",
       "      <td>10</td>\n",
       "    </tr>\n",
       "    <tr>\n",
       "      <th>2</th>\n",
       "      <td>11</td>\n",
       "      <td>12</td>\n",
       "      <td>13</td>\n",
       "      <td>14</td>\n",
       "      <td>15</td>\n",
       "    </tr>\n",
       "  </tbody>\n",
       "</table>\n",
       "</div>"
      ],
      "text/plain": [
       "   one  two  three  four  five\n",
       "0    1    2      3     4     5\n",
       "1    6    7      8     9    10\n",
       "2   11   12     13    14    15"
      ]
     },
     "metadata": {},
     "output_type": "display_data"
    }
   ],
   "source": [
    "a = pd.DataFrame([[1,2,3,4,5],\n",
    "            [6,7,8,9,10],\n",
    "            [11,12,13,14,15]], columns = ['one', 'two', 'three', 'four', 'five'])\n",
    "display(a)"
   ]
  },
  {
   "cell_type": "code",
   "execution_count": 134,
   "id": "artistic-disaster",
   "metadata": {
    "ExecuteTime": {
     "end_time": "2021-03-07T05:55:55.439012Z",
     "start_time": "2021-03-07T05:55:55.428825Z"
    }
   },
   "outputs": [
    {
     "data": {
      "text/html": [
       "<div>\n",
       "<style scoped>\n",
       "    .dataframe tbody tr th:only-of-type {\n",
       "        vertical-align: middle;\n",
       "    }\n",
       "\n",
       "    .dataframe tbody tr th {\n",
       "        vertical-align: top;\n",
       "    }\n",
       "\n",
       "    .dataframe thead th {\n",
       "        text-align: right;\n",
       "    }\n",
       "</style>\n",
       "<table border=\"1\" class=\"dataframe\">\n",
       "  <thead>\n",
       "    <tr style=\"text-align: right;\">\n",
       "      <th></th>\n",
       "      <th>one</th>\n",
       "      <th>two</th>\n",
       "      <th>three</th>\n",
       "      <th>four</th>\n",
       "      <th>five</th>\n",
       "      <th>ks</th>\n",
       "    </tr>\n",
       "  </thead>\n",
       "  <tbody>\n",
       "    <tr>\n",
       "      <th>0</th>\n",
       "      <td>1</td>\n",
       "      <td>2</td>\n",
       "      <td>3</td>\n",
       "      <td>4</td>\n",
       "      <td>5</td>\n",
       "      <td>18.0</td>\n",
       "    </tr>\n",
       "    <tr>\n",
       "      <th>1</th>\n",
       "      <td>6</td>\n",
       "      <td>7</td>\n",
       "      <td>8</td>\n",
       "      <td>9</td>\n",
       "      <td>10</td>\n",
       "      <td>21.0</td>\n",
       "    </tr>\n",
       "    <tr>\n",
       "      <th>2</th>\n",
       "      <td>11</td>\n",
       "      <td>12</td>\n",
       "      <td>13</td>\n",
       "      <td>14</td>\n",
       "      <td>15</td>\n",
       "      <td>24.0</td>\n",
       "    </tr>\n",
       "  </tbody>\n",
       "</table>\n",
       "</div>"
      ],
      "text/plain": [
       "   one  two  three  four  five    ks\n",
       "0    1    2      3     4     5  18.0\n",
       "1    6    7      8     9    10  21.0\n",
       "2   11   12     13    14    15  24.0"
      ]
     },
     "execution_count": 134,
     "metadata": {},
     "output_type": "execute_result"
    }
   ],
   "source": [
    "a"
   ]
  },
  {
   "cell_type": "code",
   "execution_count": 123,
   "id": "harmful-helping",
   "metadata": {
    "ExecuteTime": {
     "end_time": "2021-03-07T05:53:23.022556Z",
     "start_time": "2021-03-07T05:53:23.011512Z"
    }
   },
   "outputs": [
    {
     "data": {
      "text/html": [
       "<div>\n",
       "<style scoped>\n",
       "    .dataframe tbody tr th:only-of-type {\n",
       "        vertical-align: middle;\n",
       "    }\n",
       "\n",
       "    .dataframe tbody tr th {\n",
       "        vertical-align: top;\n",
       "    }\n",
       "\n",
       "    .dataframe thead th {\n",
       "        text-align: right;\n",
       "    }\n",
       "</style>\n",
       "<table border=\"1\" class=\"dataframe\">\n",
       "  <thead>\n",
       "    <tr style=\"text-align: right;\">\n",
       "      <th></th>\n",
       "      <th>one</th>\n",
       "      <th>two</th>\n",
       "      <th>three</th>\n",
       "      <th>four</th>\n",
       "      <th>five</th>\n",
       "      <th>ks</th>\n",
       "    </tr>\n",
       "  </thead>\n",
       "  <tbody>\n",
       "    <tr>\n",
       "      <th>0</th>\n",
       "      <td>1</td>\n",
       "      <td>2</td>\n",
       "      <td>3</td>\n",
       "      <td>4</td>\n",
       "      <td>5</td>\n",
       "      <td>NaN</td>\n",
       "    </tr>\n",
       "    <tr>\n",
       "      <th>1</th>\n",
       "      <td>6</td>\n",
       "      <td>7</td>\n",
       "      <td>8</td>\n",
       "      <td>9</td>\n",
       "      <td>10</td>\n",
       "      <td>NaN</td>\n",
       "    </tr>\n",
       "    <tr>\n",
       "      <th>2</th>\n",
       "      <td>11</td>\n",
       "      <td>12</td>\n",
       "      <td>13</td>\n",
       "      <td>14</td>\n",
       "      <td>15</td>\n",
       "      <td>NaN</td>\n",
       "    </tr>\n",
       "  </tbody>\n",
       "</table>\n",
       "</div>"
      ],
      "text/plain": [
       "   one  two  three  four  five  ks\n",
       "0    1    2      3     4     5 NaN\n",
       "1    6    7      8     9    10 NaN\n",
       "2   11   12     13    14    15 NaN"
      ]
     },
     "execution_count": 123,
     "metadata": {},
     "output_type": "execute_result"
    }
   ],
   "source": [
    "a"
   ]
  },
  {
   "cell_type": "code",
   "execution_count": 171,
   "id": "republican-hungary",
   "metadata": {
    "ExecuteTime": {
     "end_time": "2021-03-07T15:33:38.819176Z",
     "start_time": "2021-03-07T15:33:38.780774Z"
    }
   },
   "outputs": [],
   "source": [
    "a['fraud_label'] = ['0', '1', '0']"
   ]
  },
  {
   "cell_type": "code",
   "execution_count": 172,
   "id": "japanese-valuable",
   "metadata": {
    "ExecuteTime": {
     "end_time": "2021-03-07T15:33:40.946458Z",
     "start_time": "2021-03-07T15:33:40.932744Z"
    }
   },
   "outputs": [
    {
     "data": {
      "text/html": [
       "<div>\n",
       "<style scoped>\n",
       "    .dataframe tbody tr th:only-of-type {\n",
       "        vertical-align: middle;\n",
       "    }\n",
       "\n",
       "    .dataframe tbody tr th {\n",
       "        vertical-align: top;\n",
       "    }\n",
       "\n",
       "    .dataframe thead th {\n",
       "        text-align: right;\n",
       "    }\n",
       "</style>\n",
       "<table border=\"1\" class=\"dataframe\">\n",
       "  <thead>\n",
       "    <tr style=\"text-align: right;\">\n",
       "      <th></th>\n",
       "      <th>one</th>\n",
       "      <th>two</th>\n",
       "      <th>three</th>\n",
       "      <th>four</th>\n",
       "      <th>five</th>\n",
       "      <th>fraud_label</th>\n",
       "    </tr>\n",
       "  </thead>\n",
       "  <tbody>\n",
       "    <tr>\n",
       "      <th>0</th>\n",
       "      <td>1</td>\n",
       "      <td>2</td>\n",
       "      <td>3</td>\n",
       "      <td>4</td>\n",
       "      <td>5</td>\n",
       "      <td>0</td>\n",
       "    </tr>\n",
       "    <tr>\n",
       "      <th>1</th>\n",
       "      <td>6</td>\n",
       "      <td>7</td>\n",
       "      <td>8</td>\n",
       "      <td>9</td>\n",
       "      <td>10</td>\n",
       "      <td>1</td>\n",
       "    </tr>\n",
       "    <tr>\n",
       "      <th>2</th>\n",
       "      <td>11</td>\n",
       "      <td>12</td>\n",
       "      <td>13</td>\n",
       "      <td>14</td>\n",
       "      <td>15</td>\n",
       "      <td>0</td>\n",
       "    </tr>\n",
       "  </tbody>\n",
       "</table>\n",
       "</div>"
      ],
      "text/plain": [
       "   one  two  three  four  five fraud_label\n",
       "0    1    2      3     4     5           0\n",
       "1    6    7      8     9    10           1\n",
       "2   11   12     13    14    15           0"
      ]
     },
     "execution_count": 172,
     "metadata": {},
     "output_type": "execute_result"
    }
   ],
   "source": [
    "a"
   ]
  },
  {
   "cell_type": "code",
   "execution_count": 174,
   "id": "intense-estimate",
   "metadata": {
    "ExecuteTime": {
     "end_time": "2021-03-07T15:36:08.237173Z",
     "start_time": "2021-03-07T15:36:08.220447Z"
    }
   },
   "outputs": [],
   "source": [
    "temp = a[['one', 'fraud_label']].copy()"
   ]
  },
  {
   "cell_type": "code",
   "execution_count": null,
   "id": "traditional-plasma",
   "metadata": {},
   "outputs": [],
   "source": []
  }
 ],
 "metadata": {
  "kernelspec": {
   "display_name": "Python 3",
   "language": "python",
   "name": "python3"
  },
  "language_info": {
   "codemirror_mode": {
    "name": "ipython",
    "version": 3
   },
   "file_extension": ".py",
   "mimetype": "text/x-python",
   "name": "python",
   "nbconvert_exporter": "python",
   "pygments_lexer": "ipython3",
   "version": "3.8.5"
  }
 },
 "nbformat": 4,
 "nbformat_minor": 5
}
